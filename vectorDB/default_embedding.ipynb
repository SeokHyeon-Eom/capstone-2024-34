{
 "cells": [
  {
   "cell_type": "code",
   "execution_count": 17,
   "metadata": {},
   "outputs": [],
   "source": [
    "import sys, os\n",
    "sys.path.append('../GIPS/core')\n",
    "from utils import AEchunking\n",
    "\n",
    "import pickle\n",
    "import numpy as np\n",
    "\n",
    "import chromadb\n",
    "from chromadb.utils import embedding_functions\n",
    "\n",
    "from tqdm import tqdm\n",
    "import pickle"
   ]
  },
  {
   "cell_type": "markdown",
   "metadata": {},
   "source": [
    "### minhash를 임베딩된 벡터 보는 방법\n",
    "- 벡터를 DB에 추가하는데 오랜 시간이 걸림\n",
    "- 벡터마다 차원의 크기가 매우 크기(2 ^ 14 대략 16000) 때문에 문제가 생김"
   ]
  },
  {
   "cell_type": "markdown",
   "metadata": {},
   "source": [
    "### chroma DB에서 기본값으로 사용하는 임베딩 방식 사용\n",
    "- 기본 임베딩 방식: all-MiniLM-L6-v2"
   ]
  },
  {
   "cell_type": "code",
   "execution_count": 18,
   "metadata": {},
   "outputs": [
    {
     "name": "stdout",
     "output_type": "stream",
     "text": [
      "10122\n"
     ]
    }
   ],
   "source": [
    "with open('../GIPS/iotpot/48.pkl', 'rb') as f:\n",
    "    payloads = pickle.load(f)\n",
    "    \n",
    "print(len(payloads))"
   ]
  },
  {
   "cell_type": "markdown",
   "metadata": {},
   "source": [
    "### 데이터 전처리"
   ]
  },
  {
   "cell_type": "code",
   "execution_count": 19,
   "metadata": {},
   "outputs": [
    {
     "name": "stderr",
     "output_type": "stream",
     "text": [
      "100%|██████████| 10122/10122 [00:00<00:00, 648084.89it/s]"
     ]
    },
    {
     "name": "stdout",
     "output_type": "stream",
     "text": [
      "benign: 2689, malware: 1184, unknown: 6249\n",
      "[{'label': 0, 'signature': ''}, {'label': 0, 'signature': ''}, {'label': 2, 'signature': ''}, {'label': 2, 'signature': ''}, {'label': 2, 'signature': ''}]\n"
     ]
    },
    {
     "name": "stderr",
     "output_type": "stream",
     "text": [
      "\n"
     ]
    }
   ],
   "source": [
    "cnk = AEchunking # 청킹 방법\n",
    "window_size = 4 # 청킹 사이즈\n",
    "emb = embedding_functions.DefaultEmbeddingFunction() # 임베딩 방법\n",
    "\n",
    "meta = [] # 메타 정보를 담을 배열\n",
    "# embedding_vectors = [] # 임베딩 벡터들을 담을 배열\n",
    "with open('./embedding_vector/1.pkl', 'rb') as f:\n",
    "    embedding_vectors = pickle.load(f)\n",
    "indices = [] # 각 문서별 번호\n",
    "\n",
    "cnt = 0 # 인덱스 0부터 시작\n",
    "\n",
    "benign = 0\n",
    "malware = 0\n",
    "unknown = 0\n",
    "\n",
    "for payload, label in tqdm(payloads):\n",
    "\n",
    "\t# 인덱스\n",
    "\tindices.append(f'{cnt}')\n",
    "\tcnt += 1\n",
    "\n",
    "\t# 청킹 임베딩\n",
    "\t# chunks = cnk(payload, W=window_size)\n",
    "\t# vectors = np.array(emb(chunks))\n",
    "\t# vec = vectors.sum(axis=0)\n",
    "\t# vec /= len(vectors)\n",
    "\t# embedding_vectors.append(list(vec))\n",
    "\n",
    "\t# 메타 데이터\n",
    "\tdic = dict()\n",
    "\n",
    "\t## 라벨이 뭐로 되어 있는지\n",
    "\tif \"MALWARE\" in label:\n",
    "\t\tdic['label'] = 1\n",
    "\t\tmalware += 1\n",
    "\telif \"BENIGN\"in label:\n",
    "\t\tdic['label'] = 0\n",
    "\t\tbenign += 1\n",
    "\telse:\n",
    "\t\tdic['label'] = 2\n",
    "\t\tunknown += 1\n",
    "\n",
    "\t## 어떤 시그니처들을 가지고 있는지\n",
    "\t## 시그니처들의 값은 실제 데이터에서 추출 된 값들을 이용\n",
    "\tsignature = ''\n",
    "\tif 'PING' in payload:\n",
    "\t\tsignature += 'PING,'\n",
    "\tif 'PONG' in payload:\n",
    "\t\tsignature += 'PONG,'\n",
    "\tif 'root' in payload:\n",
    "\t\tsignature += 'root,'\n",
    "\tif 'Password' in payload:\n",
    "\t\tsignature += 'Password,'\n",
    "\tif 'Login' in payload:\n",
    "\t\tsignature += 'Login,'\n",
    "\tif 'tftp' in payload:\n",
    "\t\tsignature += 'tftp,'\n",
    "\tif '.sh' in payload:\n",
    "\t\tsignature += 'sh,'\n",
    "\n",
    "\tif len(signature) != 0:\n",
    "\t\tsignature = signature[: -1]\n",
    "\n",
    "\tdic['signature'] = signature\n",
    "\tmeta.append(dic)\n",
    "\n",
    "print(f'benign: {benign}, malware: {malware}, unknown: {unknown}')\n",
    "print(meta[: 5])"
   ]
  },
  {
   "cell_type": "code",
   "execution_count": 20,
   "metadata": {},
   "outputs": [],
   "source": [
    "# with open(\"./embedding_vector/1.pkl\", 'wb') as f:\n",
    "#     pickle.dump(embedding_vectors, f)"
   ]
  },
  {
   "cell_type": "code",
   "execution_count": 21,
   "metadata": {},
   "outputs": [],
   "source": [
    "# 클라이언트 생성\n",
    "\n",
    "client = chromadb.PersistentClient('./chroma')"
   ]
  },
  {
   "cell_type": "code",
   "execution_count": 22,
   "metadata": {},
   "outputs": [],
   "source": [
    "# 컬렉션 생성 혹은 가져오기\n",
    "\n",
    "collection = client.get_or_create_collection(\"default_DB\")"
   ]
  },
  {
   "cell_type": "code",
   "execution_count": 23,
   "metadata": {},
   "outputs": [],
   "source": [
    "# 컬렉션의 데이터 삽입\n",
    "\n",
    "for i in tqdm(range(len(payloads))):\n",
    "\tcollection.add(\n",
    "    \tids=indices[i], # 인덱스\n",
    "    \tembeddings=embedding_vectors[i], # 임베딩\n",
    "    \tmetadatas=meta[i], # 메타 정보\n",
    "\t\tdocuments=payloads[i][0], # 문서 원문\n",
    "\t)"
   ]
  },
  {
   "cell_type": "code",
   "execution_count": 24,
   "metadata": {},
   "outputs": [
    {
     "name": "stdout",
     "output_type": "stream",
     "text": [
      "ping: 0 []\n",
      "pong: 748 [1884, 1885, 1912, 1913, 1942]\n",
      "root: 290 [1900, 1901, 1906, 1907, 1930]\n",
      "login: 0 []\n",
      "password 0 []\n",
      "tftp 44 [724, 725, 2128, 2129, 2730]\n",
      "sh 42 [2128, 2129, 2730, 2731, 3082]\n"
     ]
    }
   ],
   "source": [
    "# 각 시그니처별 역색인\n",
    "\n",
    "ping = []\n",
    "pong = []\n",
    "root = []\n",
    "login = []\n",
    "password = []\n",
    "tftp = []\n",
    "sh = []\n",
    "\n",
    "\n",
    "for idx, data in enumerate(payloads):\n",
    "    payload = data[0]\n",
    "    label = data[1]\n",
    "    if \"MALWARE\" not in label:\n",
    "        continue\n",
    "    if 'PING' in payload:\n",
    "        ping.append(idx)\n",
    "    if 'PONG' in payload:\n",
    "        pong.append(idx)\n",
    "    if 'root' in payload:\n",
    "        root.append(idx)\n",
    "    if 'Login' in payload:\n",
    "        login.append(idx)\n",
    "    if 'Password' in payload:\n",
    "        password.append(idx)\n",
    "    if 'tftp' in payload:\n",
    "        tftp.append(idx)\n",
    "    if '.sh' in payload:\n",
    "        sh.append(idx)\n",
    "        \n",
    "print('ping:', len(ping), ping[: 5])\n",
    "print('pong:', len(pong), pong[: 5])\n",
    "print('root:', len(root), root[: 5])\n",
    "print('login:', len(login), login)\n",
    "print('password', len(password), password[: 5])\n",
    "print('tftp', len(tftp), tftp[: 5])\n",
    "print('sh', len(sh), sh[: 5])"
   ]
  },
  {
   "cell_type": "markdown",
   "metadata": {},
   "source": [
    "#### ping, login password를 포함하고 있는 공격 X\n",
    "#### Pong, root는 공격이 너무 많아서 진행 X\n",
    "#### sh는 전부 tftp를 포함"
   ]
  },
  {
   "cell_type": "code",
   "execution_count": 25,
   "metadata": {},
   "outputs": [],
   "source": [
    "res_tftp = collection.query(\n",
    "    query_embeddings=embedding_vectors[tftp[0]],\n",
    "    n_results=len(tftp),\n",
    ")"
   ]
  },
  {
   "cell_type": "code",
   "execution_count": 50,
   "metadata": {},
   "outputs": [
    {
     "name": "stdout",
     "output_type": "stream",
     "text": [
      "index: 725, signarue & label {'label': 1, 'signature': 'tftp'}\n",
      "index: 724, signarue & label {'label': 1, 'signature': 'tftp'}\n",
      "index: 923, signarue & label {'label': 1, 'signature': ''}\n",
      "index: 922, signarue & label {'label': 1, 'signature': ''}\n",
      "index: 210, signarue & label {'label': 1, 'signature': ''}\n",
      "index: 211, signarue & label {'label': 1, 'signature': ''}\n",
      "index: 1228, signarue & label {'label': 1, 'signature': ''}\n",
      "index: 1227, signarue & label {'label': 1, 'signature': ''}\n",
      "index: 1363, signarue & label {'label': 1, 'signature': ''}\n",
      "index: 1362, signarue & label {'label': 1, 'signature': ''}\n",
      "index: 1701, signarue & label {'label': 1, 'signature': ''}\n",
      "index: 1700, signarue & label {'label': 1, 'signature': ''}\n",
      "index: 418, signarue & label {'label': 1, 'signature': ''}\n",
      "index: 419, signarue & label {'label': 1, 'signature': ''}\n",
      "index: 9, signarue & label {'label': 1, 'signature': ''}\n",
      "index: 8, signarue & label {'label': 1, 'signature': ''}\n",
      "index: 1070, signarue & label {'label': 1, 'signature': ''}\n",
      "index: 1071, signarue & label {'label': 1, 'signature': ''}\n",
      "index: 1520, signarue & label {'label': 1, 'signature': ''}\n",
      "index: 1521, signarue & label {'label': 1, 'signature': ''}\n",
      "index: 564, signarue & label {'label': 1, 'signature': ''}\n",
      "index: 565, signarue & label {'label': 1, 'signature': ''}\n",
      "index: 1341, signarue & label {'label': 2, 'signature': ''}\n",
      "index: 1340, signarue & label {'label': 2, 'signature': ''}\n",
      "index: 1309, signarue & label {'label': 2, 'signature': 'root,tftp,sh'}\n",
      "index: 1308, signarue & label {'label': 2, 'signature': 'root,tftp,sh'}\n",
      "index: 1048, signarue & label {'label': 2, 'signature': ''}\n",
      "index: 1049, signarue & label {'label': 2, 'signature': ''}\n",
      "index: 656, signarue & label {'label': 2, 'signature': 'root,tftp,sh'}\n",
      "index: 657, signarue & label {'label': 2, 'signature': 'root,tftp,sh'}\n",
      "index: 516, signarue & label {'label': 2, 'signature': ''}\n",
      "index: 517, signarue & label {'label': 2, 'signature': ''}\n",
      "index: 1205, signarue & label {'label': 2, 'signature': ''}\n",
      "index: 1206, signarue & label {'label': 2, 'signature': ''}\n",
      "index: 344, signarue & label {'label': 2, 'signature': ''}\n",
      "index: 343, signarue & label {'label': 2, 'signature': ''}\n",
      "index: 704, signarue & label {'label': 2, 'signature': ''}\n",
      "index: 705, signarue & label {'label': 2, 'signature': ''}\n",
      "index: 140, signarue & label {'label': 2, 'signature': ''}\n",
      "index: 141, signarue & label {'label': 2, 'signature': ''}\n",
      "index: 1477, signarue & label {'label': 2, 'signature': ''}\n",
      "index: 1476, signarue & label {'label': 2, 'signature': ''}\n",
      "index: 1817, signarue & label {'label': 2, 'signature': ''}\n",
      "index: 1816, signarue & label {'label': 2, 'signature': ''}\n"
     ]
    }
   ],
   "source": [
    "res_indices = res_tftp['ids'][0]\n",
    "res_signature = res_tftp['metadatas'][0]\n",
    "\n",
    "for i in range(len(tftp)):\n",
    "    print(f'index: {res_indices[i]}, signarue & label {res_signature[i]}')"
   ]
  },
  {
   "cell_type": "code",
   "execution_count": 27,
   "metadata": {},
   "outputs": [],
   "source": [
    "res_tftp_1 = collection.query(\n",
    "    query_embeddings=embedding_vectors[tftp[0]],\n",
    "    n_results=len(tftp),\n",
    "    # 메타 필드 필터링\n",
    "    where={\n",
    "        \"label\": 1,\n",
    "\t},\n",
    "    # 문서 내용 필터링\n",
    "    # where_document={\n",
    "    #     \"$contains\": \"Content\"\n",
    "\t# },\n",
    ")"
   ]
  },
  {
   "cell_type": "code",
   "execution_count": 51,
   "metadata": {},
   "outputs": [
    {
     "name": "stdout",
     "output_type": "stream",
     "text": [
      "index: 725, signarue & label {'label': 1, 'signature': 'tftp'}\n",
      "index: 724, signarue & label {'label': 1, 'signature': 'tftp'}\n",
      "index: 923, signarue & label {'label': 1, 'signature': ''}\n",
      "index: 922, signarue & label {'label': 1, 'signature': ''}\n",
      "index: 210, signarue & label {'label': 1, 'signature': ''}\n",
      "index: 211, signarue & label {'label': 1, 'signature': ''}\n",
      "index: 1228, signarue & label {'label': 1, 'signature': ''}\n",
      "index: 1227, signarue & label {'label': 1, 'signature': ''}\n",
      "index: 1363, signarue & label {'label': 1, 'signature': ''}\n",
      "index: 1362, signarue & label {'label': 1, 'signature': ''}\n",
      "index: 1701, signarue & label {'label': 1, 'signature': ''}\n",
      "index: 1700, signarue & label {'label': 1, 'signature': ''}\n",
      "index: 418, signarue & label {'label': 1, 'signature': ''}\n",
      "index: 419, signarue & label {'label': 1, 'signature': ''}\n",
      "index: 9, signarue & label {'label': 1, 'signature': ''}\n",
      "index: 8, signarue & label {'label': 1, 'signature': ''}\n",
      "index: 1070, signarue & label {'label': 1, 'signature': ''}\n",
      "index: 1071, signarue & label {'label': 1, 'signature': ''}\n",
      "index: 1520, signarue & label {'label': 1, 'signature': ''}\n",
      "index: 1521, signarue & label {'label': 1, 'signature': ''}\n",
      "index: 564, signarue & label {'label': 1, 'signature': ''}\n",
      "index: 565, signarue & label {'label': 1, 'signature': ''}\n",
      "index: 2129, signarue & label {'label': 1, 'signature': 'root,tftp,sh'}\n",
      "index: 2128, signarue & label {'label': 1, 'signature': 'root,tftp,sh'}\n",
      "index: 2731, signarue & label {'label': 1, 'signature': 'root,tftp,sh'}\n",
      "index: 2730, signarue & label {'label': 1, 'signature': 'root,tftp,sh'}\n",
      "index: 3089, signarue & label {'label': 1, 'signature': 'root,tftp,sh'}\n",
      "index: 3083, signarue & label {'label': 1, 'signature': 'root,tftp,sh'}\n",
      "index: 3097, signarue & label {'label': 1, 'signature': 'root,tftp,sh'}\n",
      "index: 3082, signarue & label {'label': 1, 'signature': 'root,tftp,sh'}\n",
      "index: 3096, signarue & label {'label': 1, 'signature': 'root,tftp,sh'}\n",
      "index: 3088, signarue & label {'label': 1, 'signature': 'root,tftp,sh'}\n",
      "index: 4844, signarue & label {'label': 1, 'signature': 'root,tftp,sh'}\n",
      "index: 4845, signarue & label {'label': 1, 'signature': 'root,tftp,sh'}\n",
      "index: 4915, signarue & label {'label': 1, 'signature': 'root,tftp,sh'}\n",
      "index: 4907, signarue & label {'label': 1, 'signature': 'root,tftp,sh'}\n",
      "index: 4924, signarue & label {'label': 1, 'signature': 'root,tftp,sh'}\n",
      "index: 4925, signarue & label {'label': 1, 'signature': 'root,tftp,sh'}\n",
      "index: 4906, signarue & label {'label': 1, 'signature': 'root,tftp,sh'}\n",
      "index: 4900, signarue & label {'label': 1, 'signature': 'root,tftp,sh'}\n",
      "index: 4914, signarue & label {'label': 1, 'signature': 'root,tftp,sh'}\n",
      "index: 4901, signarue & label {'label': 1, 'signature': 'root,tftp,sh'}\n",
      "index: 5250, signarue & label {'label': 1, 'signature': 'root,tftp,sh'}\n",
      "index: 5251, signarue & label {'label': 1, 'signature': 'root,tftp,sh'}\n"
     ]
    }
   ],
   "source": [
    "res_indices = res_tftp_1['ids'][0]\n",
    "res_signature = res_tftp_1['metadatas'][0]\n",
    "\n",
    "for i in range(len(tftp)):\n",
    "    print(f'index: {res_indices[i]}, signarue & label {res_signature[i]}')"
   ]
  },
  {
   "cell_type": "code",
   "execution_count": 29,
   "metadata": {},
   "outputs": [],
   "source": [
    "benign_ = collection.query(\n",
    "    query_embeddings=embedding_vectors[1],\n",
    "    n_results=len(tftp),\n",
    ")"
   ]
  },
  {
   "cell_type": "code",
   "execution_count": 52,
   "metadata": {},
   "outputs": [
    {
     "name": "stdout",
     "output_type": "stream",
     "text": [
      "index: 0, signarue & label {'label': 0, 'signature': ''}\n",
      "index: 1, signarue & label {'label': 0, 'signature': ''}\n",
      "index: 1147, signarue & label {'label': 2, 'signature': ''}\n",
      "index: 1148, signarue & label {'label': 2, 'signature': ''}\n",
      "index: 1142, signarue & label {'label': 2, 'signature': ''}\n",
      "index: 1143, signarue & label {'label': 2, 'signature': ''}\n",
      "index: 1169, signarue & label {'label': 2, 'signature': ''}\n",
      "index: 1170, signarue & label {'label': 2, 'signature': ''}\n",
      "index: 1166, signarue & label {'label': 2, 'signature': ''}\n",
      "index: 1165, signarue & label {'label': 2, 'signature': ''}\n",
      "index: 1158, signarue & label {'label': 2, 'signature': ''}\n",
      "index: 1157, signarue & label {'label': 2, 'signature': ''}\n",
      "index: 1144, signarue & label {'label': 2, 'signature': ''}\n",
      "index: 1164, signarue & label {'label': 2, 'signature': ''}\n",
      "index: 1163, signarue & label {'label': 2, 'signature': ''}\n",
      "index: 1173, signarue & label {'label': 2, 'signature': 'root,tftp,sh'}\n",
      "index: 1174, signarue & label {'label': 2, 'signature': 'root,tftp,sh'}\n",
      "index: 1150, signarue & label {'label': 2, 'signature': ''}\n",
      "index: 1149, signarue & label {'label': 2, 'signature': ''}\n",
      "index: 1096, signarue & label {'label': 2, 'signature': ''}\n",
      "index: 1097, signarue & label {'label': 2, 'signature': ''}\n",
      "index: 1138, signarue & label {'label': 2, 'signature': ''}\n",
      "index: 1139, signarue & label {'label': 2, 'signature': ''}\n",
      "index: 1153, signarue & label {'label': 2, 'signature': ''}\n",
      "index: 1154, signarue & label {'label': 2, 'signature': ''}\n",
      "index: 1577, signarue & label {'label': 2, 'signature': ''}\n",
      "index: 1576, signarue & label {'label': 2, 'signature': ''}\n",
      "index: 3, signarue & label {'label': 2, 'signature': ''}\n",
      "index: 2, signarue & label {'label': 2, 'signature': ''}\n",
      "index: 952, signarue & label {'label': 2, 'signature': ''}\n",
      "index: 953, signarue & label {'label': 2, 'signature': ''}\n",
      "index: 1145, signarue & label {'label': 2, 'signature': ''}\n",
      "index: 1146, signarue & label {'label': 2, 'signature': ''}\n",
      "index: 1155, signarue & label {'label': 2, 'signature': ''}\n",
      "index: 1156, signarue & label {'label': 2, 'signature': ''}\n",
      "index: 1161, signarue & label {'label': 2, 'signature': ''}\n",
      "index: 1162, signarue & label {'label': 2, 'signature': ''}\n",
      "index: 1134, signarue & label {'label': 2, 'signature': ''}\n",
      "index: 1135, signarue & label {'label': 2, 'signature': ''}\n",
      "index: 1171, signarue & label {'label': 2, 'signature': ''}\n",
      "index: 1172, signarue & label {'label': 2, 'signature': ''}\n",
      "index: 423, signarue & label {'label': 2, 'signature': ''}\n",
      "index: 422, signarue & label {'label': 2, 'signature': ''}\n",
      "index: 204, signarue & label {'label': 2, 'signature': ''}\n"
     ]
    }
   ],
   "source": [
    "res_indices = benign_['ids'][0]\n",
    "res_signature = benign_['metadatas'][0]\n",
    "\n",
    "for i in range(len(tftp)):\n",
    "    print(f'index: {res_indices[i]}, signarue & label {res_signature[i]}')"
   ]
  },
  {
   "cell_type": "code",
   "execution_count": 31,
   "metadata": {},
   "outputs": [],
   "source": [
    "collection_doc = client.get_or_create_collection(\"docDB\")"
   ]
  },
  {
   "cell_type": "code",
   "execution_count": 32,
   "metadata": {},
   "outputs": [],
   "source": [
    "# 컬렉션의 데이터 삽입\n",
    "\n",
    "for i in tqdm(range(len(payloads))):\n",
    "\tcollection_doc.add(\n",
    "    \tids=indices[i], # 인덱스\n",
    "    \tmetadatas=meta[i], # 메타 정보\n",
    "\t\tdocuments=payloads[i][0], # 문서 원문\n",
    "\t)"
   ]
  },
  {
   "cell_type": "code",
   "execution_count": 33,
   "metadata": {},
   "outputs": [],
   "source": [
    "res_tftp_1_doc = collection_doc.query(\n",
    "    query_texts=payloads[tftp[0]][0],\n",
    "    n_results=len(tftp),\n",
    "    where={\n",
    "        \"label\": 1,\n",
    "\t},\n",
    ")"
   ]
  },
  {
   "cell_type": "code",
   "execution_count": 53,
   "metadata": {},
   "outputs": [
    {
     "name": "stdout",
     "output_type": "stream",
     "text": [
      "index: 725, signarue & label {'label': 1, 'signature': 'tftp'}\n",
      "index: 724, signarue & label {'label': 1, 'signature': 'tftp'}\n",
      "index: 1363, signarue & label {'label': 1, 'signature': ''}\n",
      "index: 1362, signarue & label {'label': 1, 'signature': ''}\n",
      "index: 1228, signarue & label {'label': 1, 'signature': ''}\n",
      "index: 1227, signarue & label {'label': 1, 'signature': ''}\n",
      "index: 923, signarue & label {'label': 1, 'signature': ''}\n",
      "index: 922, signarue & label {'label': 1, 'signature': ''}\n",
      "index: 1701, signarue & label {'label': 1, 'signature': ''}\n",
      "index: 1700, signarue & label {'label': 1, 'signature': ''}\n",
      "index: 564, signarue & label {'label': 1, 'signature': ''}\n",
      "index: 565, signarue & label {'label': 1, 'signature': ''}\n",
      "index: 1520, signarue & label {'label': 1, 'signature': ''}\n",
      "index: 1521, signarue & label {'label': 1, 'signature': ''}\n",
      "index: 418, signarue & label {'label': 1, 'signature': ''}\n",
      "index: 419, signarue & label {'label': 1, 'signature': ''}\n",
      "index: 210, signarue & label {'label': 1, 'signature': ''}\n",
      "index: 211, signarue & label {'label': 1, 'signature': ''}\n",
      "index: 9, signarue & label {'label': 1, 'signature': ''}\n",
      "index: 8, signarue & label {'label': 1, 'signature': ''}\n",
      "index: 1070, signarue & label {'label': 1, 'signature': ''}\n",
      "index: 1071, signarue & label {'label': 1, 'signature': ''}\n",
      "index: 2129, signarue & label {'label': 1, 'signature': 'root,tftp,sh'}\n",
      "index: 2128, signarue & label {'label': 1, 'signature': 'root,tftp,sh'}\n",
      "index: 2731, signarue & label {'label': 1, 'signature': 'root,tftp,sh'}\n",
      "index: 2730, signarue & label {'label': 1, 'signature': 'root,tftp,sh'}\n",
      "index: 3089, signarue & label {'label': 1, 'signature': 'root,tftp,sh'}\n",
      "index: 3083, signarue & label {'label': 1, 'signature': 'root,tftp,sh'}\n",
      "index: 3097, signarue & label {'label': 1, 'signature': 'root,tftp,sh'}\n",
      "index: 3082, signarue & label {'label': 1, 'signature': 'root,tftp,sh'}\n",
      "index: 3096, signarue & label {'label': 1, 'signature': 'root,tftp,sh'}\n",
      "index: 3088, signarue & label {'label': 1, 'signature': 'root,tftp,sh'}\n",
      "index: 4844, signarue & label {'label': 1, 'signature': 'root,tftp,sh'}\n",
      "index: 4845, signarue & label {'label': 1, 'signature': 'root,tftp,sh'}\n",
      "index: 4915, signarue & label {'label': 1, 'signature': 'root,tftp,sh'}\n",
      "index: 4907, signarue & label {'label': 1, 'signature': 'root,tftp,sh'}\n",
      "index: 4924, signarue & label {'label': 1, 'signature': 'root,tftp,sh'}\n",
      "index: 4925, signarue & label {'label': 1, 'signature': 'root,tftp,sh'}\n",
      "index: 4906, signarue & label {'label': 1, 'signature': 'root,tftp,sh'}\n",
      "index: 4900, signarue & label {'label': 1, 'signature': 'root,tftp,sh'}\n",
      "index: 4914, signarue & label {'label': 1, 'signature': 'root,tftp,sh'}\n",
      "index: 4901, signarue & label {'label': 1, 'signature': 'root,tftp,sh'}\n",
      "index: 5250, signarue & label {'label': 1, 'signature': 'root,tftp,sh'}\n",
      "index: 5251, signarue & label {'label': 1, 'signature': 'root,tftp,sh'}\n"
     ]
    }
   ],
   "source": [
    "res_indices = res_tftp_1_doc['ids'][0]\n",
    "res_signature = res_tftp_1_doc['metadatas'][0]\n",
    "\n",
    "for i in range(len(tftp)):\n",
    "    print(f'index: {res_indices[i]}, signarue & label {res_signature[i]}')"
   ]
  }
 ],
 "metadata": {
  "kernelspec": {
   "display_name": "base",
   "language": "python",
   "name": "python3"
  },
  "language_info": {
   "codemirror_mode": {
    "name": "ipython",
    "version": 3
   },
   "file_extension": ".py",
   "mimetype": "text/x-python",
   "name": "python",
   "nbconvert_exporter": "python",
   "pygments_lexer": "ipython3",
   "version": "3.9.18"
  }
 },
 "nbformat": 4,
 "nbformat_minor": 2
}
