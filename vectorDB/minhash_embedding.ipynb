{
 "cells": [
  {
   "cell_type": "code",
   "execution_count": 1,
   "metadata": {},
   "outputs": [],
   "source": [
    "import sys, os\n",
    "sys.path.append('../GIPS/core')\n",
    "from utils import AEchunking, minHash\n",
    "\n",
    "import pickle\n",
    "import numpy as np\n",
    "\n",
    "import chromadb\n",
    "from chromadb.utils import embedding_functions\n",
    "\n",
    "from tqdm import tqdm\n",
    "import pickle"
   ]
  },
  {
   "cell_type": "markdown",
   "metadata": {},
   "source": [
    "### minhash를 임베딩된 벡터 보는 방법\n",
    "- K = 100, M - K * 10"
   ]
  },
  {
   "cell_type": "code",
   "execution_count": 2,
   "metadata": {},
   "outputs": [
    {
     "name": "stdout",
     "output_type": "stream",
     "text": [
      "10122\n"
     ]
    }
   ],
   "source": [
    "with open('../GIPS/iotpot/48.pkl', 'rb') as f:\n",
    "    payloads = pickle.load(f)\n",
    "    \n",
    "print(len(payloads))"
   ]
  },
  {
   "cell_type": "markdown",
   "metadata": {},
   "source": [
    "### 임베딩방식\n",
    "- minhash"
   ]
  },
  {
   "cell_type": "code",
   "execution_count": 3,
   "metadata": {},
   "outputs": [],
   "source": [
    "def minhash_vector(payload, window_size, K, M):\n",
    "    minhashed_virtual_vectors = [0 for _ in range(M)]\n",
    "\n",
    "    chunks = AEchunking(payload, W=window_size)\n",
    "    encode_pos = minHash(chunks, K) % M\n",
    "\n",
    "    for i in encode_pos:\n",
    "        minhashed_virtual_vectors[i] = 1\n",
    "\n",
    "    return minhashed_virtual_vectors"
   ]
  },
  {
   "cell_type": "markdown",
   "metadata": {},
   "source": [
    "### 데이터 전처리"
   ]
  },
  {
   "cell_type": "code",
   "execution_count": 4,
   "metadata": {},
   "outputs": [
    {
     "name": "stderr",
     "output_type": "stream",
     "text": [
      "100%|██████████| 10122/10122 [00:00<00:00, 507194.85it/s]"
     ]
    },
    {
     "name": "stdout",
     "output_type": "stream",
     "text": [
      "benign: 2689, malware: 1184, unknown: 6249\n",
      "[{'label': 0, 'signature': ''}, {'label': 0, 'signature': ''}, {'label': 2, 'signature': ''}, {'label': 2, 'signature': ''}, {'label': 2, 'signature': ''}]\n"
     ]
    },
    {
     "name": "stderr",
     "output_type": "stream",
     "text": [
      "\n"
     ]
    }
   ],
   "source": [
    "cnk = AEchunking # 청킹 방법\n",
    "window_size = 4 # 청킹 사이즈\n",
    "\n",
    "meta = [] # 메타 정보를 담을 배열\n",
    "# embedding_vectors = [] # 임베딩 벡터들을 담을 배열\n",
    "with open('./embedding_vector/2.pkl', 'rb') as f:\n",
    "\tembedding_vectors  = pickle.load(f)\n",
    "indices = [] # 각 문서별 번호\n",
    "\n",
    "cnt = 0 # 인덱스 0부터 시작\n",
    "vector_size = 100\n",
    "\n",
    "benign = 0\n",
    "malware = 0\n",
    "unknown = 0\n",
    "\n",
    "for payload, label in tqdm(payloads):\n",
    "\n",
    "\t# 인덱스\n",
    "\tindices.append(f'{cnt}')\n",
    "\tcnt += 1\n",
    "\n",
    "\t# 청킹 임베딩\n",
    "\t# vectors = minhash_vector(payload=payload, window_size=window_size, K=vector_size, M=vector_size * 10)\n",
    "\t# embedding_vectors.append(vectors)\n",
    "\n",
    "\t# 메타 데이터\n",
    "\tdic = dict()\n",
    "\n",
    "\t## 라벨이 뭐로 되어 있는지\n",
    "\tif \"MALWARE\" in label:\n",
    "\t\tdic['label'] = 1\n",
    "\t\tmalware += 1\n",
    "\telif \"BENIGN\"in label:\n",
    "\t\tdic['label'] = 0\n",
    "\t\tbenign += 1\n",
    "\telse:\n",
    "\t\tdic['label'] = 2\n",
    "\t\tunknown += 1\n",
    "\n",
    "\t## 어떤 시그니처들을 가지고 있는지\n",
    "\t## 시그니처들의 값은 실제 데이터에서 추출 된 값들을 이용\n",
    "\tsignature = ''\n",
    "\tif 'PING' in payload:\n",
    "\t\tsignature += 'PING,'\n",
    "\tif 'PONG' in payload:\n",
    "\t\tsignature += 'PONG,'\n",
    "\tif 'root' in payload:\n",
    "\t\tsignature += 'root,'\n",
    "\tif 'Password' in payload:\n",
    "\t\tsignature += 'Password,'\n",
    "\tif 'Login' in payload:\n",
    "\t\tsignature += 'Login,'\n",
    "\tif 'tftp' in payload:\n",
    "\t\tsignature += 'tftp,'\n",
    "\tif '.sh' in payload:\n",
    "\t\tsignature += 'sh,'\n",
    "\n",
    "\tif len(signature) != 0:\n",
    "\t\tsignature = signature[: -1]\n",
    "\n",
    "\tdic['signature'] = signature\n",
    "\tmeta.append(dic)\n",
    "\n",
    "print(f'benign: {benign}, malware: {malware}, unknown: {unknown}')\n",
    "print(meta[: 5])"
   ]
  },
  {
   "cell_type": "code",
   "execution_count": 5,
   "metadata": {},
   "outputs": [],
   "source": [
    "# with open(\"./embedding_vector/2.pkl\", 'wb') as f:\n",
    "#     pickle.dump(embedding_vectors, f)"
   ]
  },
  {
   "cell_type": "code",
   "execution_count": 6,
   "metadata": {},
   "outputs": [],
   "source": [
    "# 클라이언트 생성\n",
    "\n",
    "client = chromadb.PersistentClient('./chroma')"
   ]
  },
  {
   "cell_type": "code",
   "execution_count": 7,
   "metadata": {},
   "outputs": [],
   "source": [
    "# 컬렉션 생성 혹은 가져오기\n",
    "\n",
    "collection = client.get_or_create_collection(\"minahsh_DB\")"
   ]
  },
  {
   "cell_type": "code",
   "execution_count": 8,
   "metadata": {},
   "outputs": [],
   "source": [
    "# 컬렉션의 데이터 삽입\n",
    "\n",
    "for i in tqdm(range(len(payloads))):\n",
    "\tcollection.add(\n",
    "    \tids=indices[i], # 인덱스\n",
    "    \tembeddings=embedding_vectors[i], # 임베딩\n",
    "    \tmetadatas=meta[i], # 메타 정보\n",
    "\t\tdocuments=payloads[i][0], # 문서 원문\n",
    "\t)"
   ]
  },
  {
   "cell_type": "code",
   "execution_count": 9,
   "metadata": {},
   "outputs": [
    {
     "name": "stdout",
     "output_type": "stream",
     "text": [
      "ping: 0 []\n",
      "pong: 748 [1884, 1885, 1912, 1913, 1942]\n",
      "root: 290 [1900, 1901, 1906, 1907, 1930]\n",
      "login: 0 []\n",
      "password 0 []\n",
      "tftp 44 [724, 725, 2128, 2129, 2730]\n",
      "sh 42 [2128, 2129, 2730, 2731, 3082]\n"
     ]
    }
   ],
   "source": [
    "# 각 시그니처별 역색인\n",
    "\n",
    "ping = []\n",
    "pong = []\n",
    "root = []\n",
    "login = []\n",
    "password = []\n",
    "tftp = []\n",
    "sh = []\n",
    "\n",
    "\n",
    "for idx, data in enumerate(payloads):\n",
    "    payload = data[0]\n",
    "    label = data[1]\n",
    "    if \"MALWARE\" not in label:\n",
    "        continue\n",
    "    if 'PING' in payload:\n",
    "        ping.append(idx)\n",
    "    if 'PONG' in payload:\n",
    "        pong.append(idx)\n",
    "    if 'root' in payload:\n",
    "        root.append(idx)\n",
    "    if 'Login' in payload:\n",
    "        login.append(idx)\n",
    "    if 'Password' in payload:\n",
    "        password.append(idx)\n",
    "    if 'tftp' in payload:\n",
    "        tftp.append(idx)\n",
    "    if '.sh' in payload:\n",
    "        sh.append(idx)\n",
    "        \n",
    "print('ping:', len(ping), ping[: 5])\n",
    "print('pong:', len(pong), pong[: 5])\n",
    "print('root:', len(root), root[: 5])\n",
    "print('login:', len(login), login[: 5])\n",
    "print('password', len(password), password[: 5])\n",
    "print('tftp', len(tftp), tftp[: 5])\n",
    "print('sh', len(sh), sh[: 5])"
   ]
  },
  {
   "cell_type": "markdown",
   "metadata": {},
   "source": [
    "#### ping, login password를 포함하고 있는 공격 X\n",
    "#### Pong, root는 공격이 너무 많아서 진행 X\n",
    "#### sh는 전부 tftp를 포함"
   ]
  },
  {
   "cell_type": "code",
   "execution_count": 10,
   "metadata": {},
   "outputs": [],
   "source": [
    "res_tftp = collection.query(\n",
    "    query_embeddings=embedding_vectors[tftp[0]],\n",
    "    n_results=len(tftp),\n",
    ")"
   ]
  },
  {
   "cell_type": "code",
   "execution_count": 18,
   "metadata": {},
   "outputs": [
    {
     "name": "stdout",
     "output_type": "stream",
     "text": [
      "index: 724, signarue & label {'label': 1, 'signature': 'tftp'}\n",
      "index: 725, signarue & label {'label': 1, 'signature': 'tftp'}\n",
      "index: 923, signarue & label {'label': 1, 'signature': ''}\n",
      "index: 922, signarue & label {'label': 1, 'signature': ''}\n",
      "index: 9, signarue & label {'label': 1, 'signature': ''}\n",
      "index: 1070, signarue & label {'label': 1, 'signature': ''}\n",
      "index: 1071, signarue & label {'label': 1, 'signature': ''}\n",
      "index: 1701, signarue & label {'label': 1, 'signature': ''}\n",
      "index: 1700, signarue & label {'label': 1, 'signature': ''}\n",
      "index: 419, signarue & label {'label': 1, 'signature': ''}\n",
      "index: 418, signarue & label {'label': 1, 'signature': ''}\n",
      "index: 211, signarue & label {'label': 1, 'signature': ''}\n",
      "index: 210, signarue & label {'label': 1, 'signature': ''}\n",
      "index: 564, signarue & label {'label': 1, 'signature': ''}\n",
      "index: 565, signarue & label {'label': 1, 'signature': ''}\n",
      "index: 1520, signarue & label {'label': 1, 'signature': ''}\n",
      "index: 1521, signarue & label {'label': 1, 'signature': ''}\n",
      "index: 1363, signarue & label {'label': 1, 'signature': ''}\n",
      "index: 1362, signarue & label {'label': 1, 'signature': ''}\n",
      "index: 1228, signarue & label {'label': 1, 'signature': ''}\n",
      "index: 1227, signarue & label {'label': 1, 'signature': ''}\n",
      "index: 2449, signarue & label {'label': 2, 'signature': ''}\n",
      "index: 2448, signarue & label {'label': 2, 'signature': ''}\n",
      "index: 6171, signarue & label {'label': 0, 'signature': ''}\n",
      "index: 6170, signarue & label {'label': 0, 'signature': ''}\n",
      "index: 6729, signarue & label {'label': 2, 'signature': ''}\n",
      "index: 6728, signarue & label {'label': 2, 'signature': ''}\n",
      "index: 36, signarue & label {'label': 2, 'signature': ''}\n",
      "index: 1327, signarue & label {'label': 2, 'signature': 'sh'}\n",
      "index: 1326, signarue & label {'label': 2, 'signature': 'sh'}\n",
      "index: 4893, signarue & label {'label': 2, 'signature': 'Login'}\n",
      "index: 4892, signarue & label {'label': 2, 'signature': 'Login'}\n",
      "index: 4913, signarue & label {'label': 2, 'signature': 'Login'}\n",
      "index: 4912, signarue & label {'label': 2, 'signature': 'Login'}\n",
      "index: 539, signarue & label {'label': 2, 'signature': ''}\n",
      "index: 3469, signarue & label {'label': 2, 'signature': 'Login'}\n",
      "index: 3468, signarue & label {'label': 2, 'signature': 'Login'}\n",
      "index: 4397, signarue & label {'label': 2, 'signature': 'Login'}\n",
      "index: 4396, signarue & label {'label': 2, 'signature': 'Login'}\n",
      "index: 5885, signarue & label {'label': 2, 'signature': 'Login'}\n",
      "index: 5884, signarue & label {'label': 2, 'signature': 'Login'}\n",
      "index: 8805, signarue & label {'label': 2, 'signature': 'Login'}\n",
      "index: 8804, signarue & label {'label': 2, 'signature': 'Login'}\n",
      "index: 10045, signarue & label {'label': 0, 'signature': ''}\n"
     ]
    }
   ],
   "source": [
    "res_indices = res_tftp['ids'][0]\n",
    "res_signature = res_tftp['metadatas'][0]\n",
    "\n",
    "for i in range(len(tftp)):\n",
    "    print(f'index: {res_indices[i]}, signarue & label {res_signature[i]}')"
   ]
  },
  {
   "cell_type": "code",
   "execution_count": 12,
   "metadata": {},
   "outputs": [],
   "source": [
    "res_tftp_1 = collection.query(\n",
    "    query_embeddings=embedding_vectors[tftp[0]],\n",
    "    n_results=len(tftp),\n",
    "    # 메타 필드 필터링\n",
    "    where={\n",
    "        \"label\": 1,\n",
    "\t},\n",
    "    # 문서 내용 필터링\n",
    "    # where_document={\n",
    "    #     \"$contains\": \"Content\"\n",
    "\t# },\n",
    ")"
   ]
  },
  {
   "cell_type": "code",
   "execution_count": 19,
   "metadata": {},
   "outputs": [
    {
     "name": "stdout",
     "output_type": "stream",
     "text": [
      "index: 724, signarue & label {'label': 1, 'signature': 'tftp'}\n",
      "index: 725, signarue & label {'label': 1, 'signature': 'tftp'}\n",
      "index: 923, signarue & label {'label': 1, 'signature': ''}\n",
      "index: 922, signarue & label {'label': 1, 'signature': ''}\n",
      "index: 8, signarue & label {'label': 1, 'signature': ''}\n",
      "index: 9, signarue & label {'label': 1, 'signature': ''}\n",
      "index: 1070, signarue & label {'label': 1, 'signature': ''}\n",
      "index: 1071, signarue & label {'label': 1, 'signature': ''}\n",
      "index: 1701, signarue & label {'label': 1, 'signature': ''}\n",
      "index: 1700, signarue & label {'label': 1, 'signature': ''}\n",
      "index: 419, signarue & label {'label': 1, 'signature': ''}\n",
      "index: 418, signarue & label {'label': 1, 'signature': ''}\n",
      "index: 211, signarue & label {'label': 1, 'signature': ''}\n",
      "index: 210, signarue & label {'label': 1, 'signature': ''}\n",
      "index: 564, signarue & label {'label': 1, 'signature': ''}\n",
      "index: 565, signarue & label {'label': 1, 'signature': ''}\n",
      "index: 1520, signarue & label {'label': 1, 'signature': ''}\n",
      "index: 1521, signarue & label {'label': 1, 'signature': ''}\n",
      "index: 1363, signarue & label {'label': 1, 'signature': ''}\n",
      "index: 1362, signarue & label {'label': 1, 'signature': ''}\n",
      "index: 1228, signarue & label {'label': 1, 'signature': ''}\n",
      "index: 1227, signarue & label {'label': 1, 'signature': ''}\n",
      "index: 3635, signarue & label {'label': 1, 'signature': ''}\n",
      "index: 3634, signarue & label {'label': 1, 'signature': ''}\n",
      "index: 4189, signarue & label {'label': 1, 'signature': ''}\n",
      "index: 4188, signarue & label {'label': 1, 'signature': ''}\n",
      "index: 4572, signarue & label {'label': 1, 'signature': ''}\n",
      "index: 4573, signarue & label {'label': 1, 'signature': ''}\n",
      "index: 7412, signarue & label {'label': 1, 'signature': ''}\n",
      "index: 7413, signarue & label {'label': 1, 'signature': ''}\n",
      "index: 8993, signarue & label {'label': 1, 'signature': ''}\n",
      "index: 8992, signarue & label {'label': 1, 'signature': ''}\n",
      "index: 9078, signarue & label {'label': 1, 'signature': ''}\n",
      "index: 9079, signarue & label {'label': 1, 'signature': ''}\n",
      "index: 10033, signarue & label {'label': 1, 'signature': ''}\n",
      "index: 10032, signarue & label {'label': 1, 'signature': ''}\n",
      "index: 6769, signarue & label {'label': 1, 'signature': 'root'}\n",
      "index: 9322, signarue & label {'label': 1, 'signature': ''}\n",
      "index: 9323, signarue & label {'label': 1, 'signature': ''}\n",
      "index: 6980, signarue & label {'label': 1, 'signature': ''}\n",
      "index: 6981, signarue & label {'label': 1, 'signature': ''}\n",
      "index: 2943, signarue & label {'label': 1, 'signature': 'root'}\n",
      "index: 3069, signarue & label {'label': 1, 'signature': 'root'}\n",
      "index: 9197, signarue & label {'label': 1, 'signature': ''}\n"
     ]
    }
   ],
   "source": [
    "res_indices = res_tftp_1['ids'][0]\n",
    "res_signature = res_tftp_1['metadatas'][0]\n",
    "\n",
    "for i in range(len(tftp)):\n",
    "    print(f'index: {res_indices[i]}, signarue & label {res_signature[i]}')"
   ]
  },
  {
   "cell_type": "code",
   "execution_count": 14,
   "metadata": {},
   "outputs": [],
   "source": [
    "benign_ = collection.query(\n",
    "    query_embeddings=embedding_vectors[1],\n",
    "    n_results=len(tftp),\n",
    ")"
   ]
  },
  {
   "cell_type": "code",
   "execution_count": 20,
   "metadata": {},
   "outputs": [
    {
     "name": "stdout",
     "output_type": "stream",
     "text": [
      "index: 0, signarue & label {'label': 0, 'signature': ''}\n",
      "index: 1, signarue & label {'label': 0, 'signature': ''}\n",
      "index: 691, signarue & label {'label': 2, 'signature': ''}\n",
      "index: 690, signarue & label {'label': 2, 'signature': ''}\n",
      "index: 3081, signarue & label {'label': 2, 'signature': 'Password'}\n",
      "index: 3080, signarue & label {'label': 2, 'signature': 'Password'}\n",
      "index: 9457, signarue & label {'label': 0, 'signature': ''}\n",
      "index: 9456, signarue & label {'label': 0, 'signature': ''}\n",
      "index: 10108, signarue & label {'label': 2, 'signature': ''}\n",
      "index: 10109, signarue & label {'label': 2, 'signature': ''}\n",
      "index: 424, signarue & label {'label': 2, 'signature': ''}\n",
      "index: 425, signarue & label {'label': 2, 'signature': ''}\n",
      "index: 776, signarue & label {'label': 2, 'signature': ''}\n",
      "index: 777, signarue & label {'label': 2, 'signature': ''}\n",
      "index: 3245, signarue & label {'label': 2, 'signature': ''}\n",
      "index: 3244, signarue & label {'label': 2, 'signature': ''}\n",
      "index: 921, signarue & label {'label': 2, 'signature': ''}\n",
      "index: 920, signarue & label {'label': 2, 'signature': ''}\n",
      "index: 1199, signarue & label {'label': 2, 'signature': ''}\n",
      "index: 1200, signarue & label {'label': 2, 'signature': ''}\n",
      "index: 2651, signarue & label {'label': 2, 'signature': ''}\n",
      "index: 2650, signarue & label {'label': 0, 'signature': ''}\n",
      "index: 33, signarue & label {'label': 2, 'signature': ''}\n",
      "index: 32, signarue & label {'label': 2, 'signature': ''}\n",
      "index: 753, signarue & label {'label': 2, 'signature': ''}\n",
      "index: 752, signarue & label {'label': 2, 'signature': ''}\n",
      "index: 1632, signarue & label {'label': 2, 'signature': ''}\n",
      "index: 1633, signarue & label {'label': 2, 'signature': ''}\n",
      "index: 2233, signarue & label {'label': 2, 'signature': ''}\n",
      "index: 2232, signarue & label {'label': 2, 'signature': ''}\n",
      "index: 3127, signarue & label {'label': 0, 'signature': ''}\n",
      "index: 3126, signarue & label {'label': 0, 'signature': ''}\n",
      "index: 8316, signarue & label {'label': 2, 'signature': ''}\n",
      "index: 8317, signarue & label {'label': 2, 'signature': ''}\n",
      "index: 9461, signarue & label {'label': 0, 'signature': ''}\n",
      "index: 9460, signarue & label {'label': 0, 'signature': ''}\n",
      "index: 263, signarue & label {'label': 2, 'signature': ''}\n",
      "index: 264, signarue & label {'label': 2, 'signature': ''}\n",
      "index: 561, signarue & label {'label': 2, 'signature': ''}\n",
      "index: 560, signarue & label {'label': 2, 'signature': ''}\n",
      "index: 881, signarue & label {'label': 2, 'signature': ''}\n",
      "index: 880, signarue & label {'label': 2, 'signature': ''}\n",
      "index: 1157, signarue & label {'label': 2, 'signature': ''}\n",
      "index: 1158, signarue & label {'label': 2, 'signature': ''}\n"
     ]
    }
   ],
   "source": [
    "res_indices = benign_['ids'][0]\n",
    "res_signature = benign_['metadatas'][0]\n",
    "\n",
    "for i in range(len(tftp)):\n",
    "    print(f'index: {res_indices[i]}, signarue & label {res_signature[i]}')"
   ]
  },
  {
   "cell_type": "markdown",
   "metadata": {},
   "source": [
    "### 실험 결과\n",
    "- 문자열이 조금 바뀐 경우에는 탐지가 잘되는 모습\n",
    "- 하지만 같은 시그니처를 가졌지만 내용이 다른 경우에는 기본 임베딩 모델보다 탐지가 잘 안되는 모습을 보임"
   ]
  }
 ],
 "metadata": {
  "kernelspec": {
   "display_name": "base",
   "language": "python",
   "name": "python3"
  },
  "language_info": {
   "codemirror_mode": {
    "name": "ipython",
    "version": 3
   },
   "file_extension": ".py",
   "mimetype": "text/x-python",
   "name": "python",
   "nbconvert_exporter": "python",
   "pygments_lexer": "ipython3",
   "version": "3.9.18"
  }
 },
 "nbformat": 4,
 "nbformat_minor": 2
}
