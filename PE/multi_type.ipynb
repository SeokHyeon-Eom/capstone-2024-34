{
 "cells": [
  {
   "cell_type": "code",
   "execution_count": 1,
   "metadata": {},
   "outputs": [],
   "source": [
    "# import module\n",
    "\n",
    "import pickle\n",
    "import os\n",
    "from tqdm import tqdm\n",
    "\n",
    "from feature_extractor import extract_string\n",
    "from core.MV2 import MV2\n",
    "from core.JIG import JIG\n",
    "from core.SG2 import SG2 \n",
    "from core.AWL import AWL"
   ]
  },
  {
   "cell_type": "code",
   "execution_count": 2,
   "metadata": {},
   "outputs": [],
   "source": [
    "def main(signature_path, stopword_path, virtual_vector_path, big_group_path,\n",
    "\t\t window_size, K, M, # MV2 파라미터\n",
    "\t\t thetaJ,  # JIG 파라미터\n",
    "\t\t vector_size, eps, minpts, ngram, hh1_size, hh2_size, hh3_size, ratio # SG2, AWL 파라미터\n",
    "\t\t):\n",
    "\t\n",
    "\twith open('./datasets/pkl/pe_benign_string.pkl', 'rb') as f:\n",
    "\t\tpayloads_benign = pickle.load(f)\n",
    "\t\t\n",
    "\twith open('./datasets/pkl/pe_string.pkl', 'rb') as f:\n",
    "\t\tpayloads_malware = pickle.load(f)\n",
    "\n",
    "\tpayloads = payloads_benign + payloads_malware\n",
    "\n",
    "\tprint(len(payloads))\n",
    "\n",
    "\t# 빅 그룹 식별\n",
    "\twith open('./res/PE_benign_virtual_vector.pkl', 'rb') as f:\n",
    "\t\tvir_vec_benign = pickle.load(f)\n",
    "\t\t\n",
    "\twith open('./res/PE_virtual_vector.pkl', 'rb') as f:\n",
    "\t\tvir_vec_malware = pickle.load(f)\n",
    "\n",
    "\tminhashed_virtual_vectors = vir_vec_benign + vir_vec_malware\n",
    "\twith open(virtual_vector_path, 'wb') as f:\n",
    "\t\tpickle.dump(minhashed_virtual_vectors, f)\n",
    "\n",
    "\tbig_group_indices = JIG(vectors=minhashed_virtual_vectors, thetaJ=thetaJ)\n",
    "\twith open(big_group_path, 'wb') as f:\n",
    "\t\tpickle.dump(big_group_indices, f)\n",
    "\t\n",
    "\tbig_group_payloads = []\n",
    "\tnon_big_group_paylaods = []\n",
    "\n",
    "\tfor idx, payload in enumerate(payloads):\n",
    "\t\tif idx in big_group_indices:\n",
    "\t\t\tbig_group_payloads.append(payload)\n",
    "\t\telse:\n",
    "\t\t\tnon_big_group_paylaods.append(payload)\n",
    "\t\n",
    "\t# 시그니처 생성\n",
    "\tcluster_signatures = SG2(payloads=big_group_payloads, window_size=window_size, vector_size=vector_size, \n",
    "\t\t\t\t\t\t\t eps=eps, minpts=minpts, ngram=ngram, hh1_size=hh1_size, hh2_size=hh2_size, hh3_size=hh3_size, ratio=ratio)\n",
    "\t\n",
    "\twith open(signature_path, 'wb') as f:\n",
    "\t\tpickle.dump(cluster_signatures, f)\n",
    "\t\n",
    "\tstopwords = AWL(payloads=non_big_group_paylaods, ngram=ngram, hh1_size=hh1_size, hh2_size=hh2_size, hh3_size=hh3_size, ratio=ratio)\n",
    "\n",
    "\twith open(stopword_path, 'wb') as f:\n",
    "\t\tpickle.dump(stopwords, f)"
   ]
  },
  {
   "cell_type": "code",
   "execution_count": 3,
   "metadata": {},
   "outputs": [],
   "source": [
    "# 파라미터\n",
    "\n",
    "virtual_vector_path = f'./res/PE_multi_virtual_vector.pkl'\n",
    "big_group_indices_path = f'./res/PE_multi_big_group.pkl'\n",
    "signature_path = f'./res/PE_multi_signature.pkl'\n",
    "stopword_path = f'./res/PE_multi_stopword.pkl'\n",
    "\n",
    "K = 64\n",
    "M = 2 ** 14\n",
    "thetaJ = 0.6\n",
    "window_size = 4\n",
    "vector_size = 512\n",
    "eps = 0.4\n",
    "minpts = 5\n",
    "ngram = 4\n",
    "hh1_size = 3000\n",
    "hh2_size = 3000\n",
    "hh3_size = 3000\n",
    "ratio = 0.1"
   ]
  },
  {
   "cell_type": "code",
   "execution_count": 4,
   "metadata": {},
   "outputs": [
    {
     "name": "stdout",
     "output_type": "stream",
     "text": [
      "59818\n",
      "checking big group\n"
     ]
    },
    {
     "name": "stderr",
     "output_type": "stream",
     "text": [
      "100%|██████████| 59818/59818 [06:15<00:00, 159.38it/s]\n"
     ]
    },
    {
     "name": "stdout",
     "output_type": "stream",
     "text": [
      "chunking\n"
     ]
    },
    {
     "name": "stderr",
     "output_type": "stream",
     "text": [
      "100%|██████████| 30737/30737 [01:46<00:00, 288.47it/s]\n"
     ]
    },
    {
     "name": "stdout",
     "output_type": "stream",
     "text": [
      "start DBSCAN\n",
      "end DBSCAN\n",
      "make signature\n"
     ]
    },
    {
     "name": "stderr",
     "output_type": "stream",
     "text": [
      "100%|██████████| 3/3 [00:52<00:00, 17.42s/it]\n"
     ]
    },
    {
     "name": "stdout",
     "output_type": "stream",
     "text": [
      "end signature\n",
      "start whtie list\n",
      "end white list\n"
     ]
    }
   ],
   "source": [
    "main(signature_path=signature_path, stopword_path=stopword_path,\n",
    "         virtual_vector_path=virtual_vector_path, big_group_path=big_group_indices_path,\n",
    "         window_size=window_size, vector_size=vector_size, K=K, M=M, thetaJ=thetaJ,\n",
    "         eps=eps, minpts=minpts, ngram=ngram, hh1_size=hh2_size, hh2_size=hh2_size, hh3_size=hh3_size, ratio=ratio)"
   ]
  },
  {
   "cell_type": "code",
   "execution_count": 5,
   "metadata": {},
   "outputs": [],
   "source": [
    "with open(signature_path, 'rb') as f:\n",
    "    signature = pickle.load(f)\n",
    "    \n",
    "with open(stopword_path, 'rb') as f:\n",
    "    stopword = pickle.load(f)\n",
    "    \n",
    "with open(big_group_indices_path, 'rb') as f:\n",
    "    big_group = pickle.load(f)"
   ]
  },
  {
   "cell_type": "code",
   "execution_count": 6,
   "metadata": {},
   "outputs": [
    {
     "name": "stdout",
     "output_type": "stream",
     "text": [
      "SIGNAURE\n",
      "cluster: 0, size: 87\n",
      "('Exception', 29228) ('System', 25455) ('GetProc', 23088) ('GetCurrentProcess', 19579) ('ExitProcess', 19445) ('.rdata', 16547) ('KERNEL32', 15089) ('CloseHandle', 14907) ('.idata', 14256) ('!This program cannot be run in DOS mode.', 13491) ('RegCloseKey', 12921) ('LoadLibraryA', 12705) ('WriteFile', 12613) ('GetCurrentThread', 12248) ('user32', 11718) ('InitializeCriticalSection', 11667) ('GetLastError', 11269) ('advapi32', 10222) ('ReadFile', 9881) ('SetFilePointer', 9781) ('GetWindow', 9528) ('FindClose', 9452) ('VirtualFree', 9371) ('USER32', 9228) ('kernel32', 9140) ('.reloc', 8791) ('VirtualAlloc', 8789) ('RtlUnwind', 8246) ('TlsSetValue', 8220) ('LocalFree', 7940) ('GetFileType', 7897) ('`.rdat', 7897) ('GetFileSize', 7668) ('ADVAPI32.dll', 7352) ('Windows', 7231) ('gram must be run ', 7150) ('oleaut32.dll', 6388) ('CreateFileA', 6220) ('CharNextA', 6075) ('TObject', 5552) ('ole32.dll', 5186) ('GetOEMCP', 4018) ('GlobalAlloc', 3783) ('September', 3600) ('`.data', 3525) ('RegOpenKeyA', 3338) ('CreateDirectoryA', 3295) ('StringX', 3076) ('version', 2883) ('Interface', 2360) ('MM/dd/yy', 1895) ('MSVBVM60.DLL', 1870) ('Boolean', 1677) ('C:\\\\Program Files\\\\Microsoft Visual Studio\\\\VB98\\\\VB6.OLB', 1270) ('[[[[[[', 1253) ('result', 1217) ('{&8p^)j6', 1102) ('FillRect', 971) ('DefWindowProcW', 864) ('lstrcmpiA', 608) ('MSVCRT.dll', 576) ('PathFileExistsA', 499) ('RtlMoveMemory', 483) ('shlwapi', 433) ('s`)L$4', 430) ('! 6J[[', 399) ('__vbaStrCopy', 354) ('<<<<<<<<<<<<<<<<<<<<<<<<<<u9l', 326) ('A><<<<<<<<<<<<<<<<<<<<<<<<<<', 303) ('[fPFMlllll', 281) (\"'HSplit\", 259) ('Dvn+|Ax', 249) ('8x1Mjc<', 248) ('class_main', 243) ('T!pNJBN4', 209) ('2 x|2 ', 197) ('[hU-|x&Q `', 179) ('u_:o 8', 178) ('. T:At', 170) ('invalid window size', 165) ('8s9S=A', 164) (':.datu', 144) ('proggam', 142) ('\"M#m#F', 138) ('This instance will close.', 128) ('t\"SS9] u', 128) ('.pas7k', 128) \n",
      "cluster: 1, size: 1\n",
      "('This file cannot install itself.  You need to', 13) \n",
      "cluster: 2, size: 4\n",
      "('/scripts/inst_VER103.gz', 470) ('x@@P4`/!', 77) ('hitechcell.ca', 3) ('InternetConnectW', 3) \n",
      "\n",
      "STOPWORD\n",
      "('Process', 34427)\n",
      "('!This program cannot be run in DOS mode.', 20521)\n",
      "('Create', 17120)\n",
      "('System', 16863)\n",
      "('Exception', 14583)\n",
      "('String', 12991)\n",
      "('Thread', 12715)\n",
      "('KERNEL32', 12272)\n",
      "('.rdata', 10399)\n",
      "('.reloc', 9965)\n",
      "('GetProcAddress', 9591)\n",
      "('CloseHandle', 8932)\n",
      "('Delete', 7670)\n",
      "('GetLastError', 7649)\n",
      "('@.data', 6429)\n",
      "('WriteFile', 6168)\n",
      "('`.rdat', 5640)\n",
      "('USER32.dll', 5458)\n",
      "('LoadLibraryA', 4238)\n",
      "('GetModuleHandleA', 3583)\n",
      "('SetFilePointer', 3044)\n",
      "('</assembly>', 2662)\n",
      "('VirtualFree', 2559)\n",
      "('FindClose', 2486)\n",
      "('version', 2329)\n",
      "('VirtualProtect', 1282)\n",
      "('SetErrorMode', 1214)\n",
      "('GetTempPathA', 1199)\n",
      "('`.data', 904)\n",
      "('GetStartupInfoA', 789)\n",
      "('FindFirstFileW', 738)\n",
      "('FillRect', 367)\n",
      "('wsock32.dll', 186)\n",
      "('EVENT_SINK_QueryInterface', 160)\n",
      "('__vbaExceptHandler', 158)\n",
      "(':.datu', 145)\n",
      "('a[$u35*Y.   ci$Cn*948Lt:  . .~', 142)\n",
      "('proggam', 115)\n",
      "('luRDL{', 75)\n",
      "('{&8p^)j6', 62)\n",
      "('ab=r$po)gu', 57)\n"
     ]
    }
   ],
   "source": [
    "signatures = dict()\n",
    "\n",
    "print('SIGNAURE')\n",
    "for idx, sig in enumerate(signature.values()):\n",
    "    print(f'cluster: {idx}, size: {len(sig)}')\n",
    "    for j in sig:\n",
    "        if j[0] not in signatures:\n",
    "            signatures[j[0]] = 0\n",
    "        signatures[j[0]] += j[1]\n",
    "        print(j, end=\" \")\n",
    "    print()\n",
    "    \n",
    "print('\\nSTOPWORD')\n",
    "for i in stopword:\n",
    "    print(i)"
   ]
  },
  {
   "cell_type": "code",
   "execution_count": 8,
   "metadata": {},
   "outputs": [
    {
     "name": "stdout",
     "output_type": "stream",
     "text": [
      "92\n",
      "Exception:\t29228\n",
      "System:\t25455\n",
      "GetProc:\t23088\n",
      "GetCurrentProcess:\t19579\n",
      "ExitProcess:\t19445\n",
      ".rdata:\t16547\n",
      "KERNEL32:\t15089\n",
      "CloseHandle:\t14907\n",
      ".idata:\t14256\n",
      "!This program cannot be run in DOS mode.:\t13491\n",
      "RegCloseKey:\t12921\n",
      "LoadLibraryA:\t12705\n",
      "WriteFile:\t12613\n",
      "GetCurrentThread:\t12248\n",
      "user32:\t11718\n",
      "InitializeCriticalSection:\t11667\n",
      "GetLastError:\t11269\n",
      "advapi32:\t10222\n",
      "ReadFile:\t9881\n",
      "SetFilePointer:\t9781\n",
      "GetWindow:\t9528\n",
      "FindClose:\t9452\n",
      "VirtualFree:\t9371\n",
      "USER32:\t9228\n",
      "kernel32:\t9140\n",
      ".reloc:\t8791\n",
      "VirtualAlloc:\t8789\n",
      "RtlUnwind:\t8246\n",
      "TlsSetValue:\t8220\n",
      "LocalFree:\t7940\n",
      "GetFileType:\t7897\n",
      "`.rdat:\t7897\n",
      "GetFileSize:\t7668\n",
      "ADVAPI32.dll:\t7352\n",
      "Windows:\t7231\n",
      "gram must be run :\t7150\n",
      "oleaut32.dll:\t6388\n",
      "CreateFileA:\t6220\n",
      "CharNextA:\t6075\n",
      "TObject:\t5552\n",
      "ole32.dll:\t5186\n",
      "GetOEMCP:\t4018\n",
      "GlobalAlloc:\t3783\n",
      "September:\t3600\n",
      "`.data:\t3525\n",
      "RegOpenKeyA:\t3338\n",
      "CreateDirectoryA:\t3295\n",
      "StringX:\t3076\n",
      "version:\t2883\n",
      "Interface:\t2360\n",
      "MM/dd/yy:\t1895\n",
      "MSVBVM60.DLL:\t1870\n",
      "Boolean:\t1677\n",
      "C:\\Program Files\\Microsoft Visual Studio\\VB98\\VB6.OLB:\t1270\n",
      "[[[[[[:\t1253\n",
      "result:\t1217\n",
      "{&8p^)j6:\t1102\n",
      "FillRect:\t971\n",
      "DefWindowProcW:\t864\n",
      "lstrcmpiA:\t608\n",
      "MSVCRT.dll:\t576\n",
      "PathFileExistsA:\t499\n",
      "RtlMoveMemory:\t483\n",
      "shlwapi:\t433\n",
      "s`)L$4:\t430\n",
      "! 6J[[:\t399\n",
      "__vbaStrCopy:\t354\n",
      "<<<<<<<<<<<<<<<<<<<<<<<<<<u9l:\t326\n",
      "A><<<<<<<<<<<<<<<<<<<<<<<<<<:\t303\n",
      "[fPFMlllll:\t281\n",
      "'HSplit:\t259\n",
      "Dvn+|Ax:\t249\n",
      "8x1Mjc<:\t248\n",
      "class_main:\t243\n",
      "T!pNJBN4:\t209\n",
      "2 x|2 :\t197\n",
      "[hU-|x&Q `:\t179\n",
      "u_:o 8:\t178\n",
      ". T:At:\t170\n",
      "invalid window size:\t165\n",
      "8s9S=A:\t164\n",
      ":.datu:\t144\n",
      "proggam:\t142\n",
      "\"M#m#F:\t138\n",
      "This instance will close.:\t128\n",
      "t\"SS9] u:\t128\n",
      ".pas7k:\t128\n",
      "This file cannot install itself.  You need to:\t13\n",
      "/scripts/inst_VER103.gz:\t470\n",
      "x@@P4`/!:\t77\n",
      "hitechcell.ca:\t3\n",
      "InternetConnectW:\t3\n"
     ]
    }
   ],
   "source": [
    "print(len(signatures))\n",
    "\n",
    "for sig, cnt in signatures.items():\n",
    "\tprint(f'{sig}:\\t{cnt}')"
   ]
  },
  {
   "cell_type": "code",
   "execution_count": 9,
   "metadata": {},
   "outputs": [
    {
     "name": "stdout",
     "output_type": "stream",
     "text": [
      "GetProc:\t23088\n",
      "GetCurrentProcess:\t19579\n",
      "ExitProcess:\t19445\n",
      ".idata:\t14256\n",
      "RegCloseKey:\t12921\n",
      "GetCurrentThread:\t12248\n",
      "user32:\t11718\n",
      "InitializeCriticalSection:\t11667\n",
      "advapi32:\t10222\n",
      "ReadFile:\t9881\n",
      "GetWindow:\t9528\n",
      "USER32:\t9228\n",
      "kernel32:\t9140\n",
      "VirtualAlloc:\t8789\n",
      "RtlUnwind:\t8246\n",
      "TlsSetValue:\t8220\n",
      "LocalFree:\t7940\n",
      "GetFileType:\t7897\n",
      "GetFileSize:\t7668\n",
      "ADVAPI32.dll:\t7352\n",
      "Windows:\t7231\n",
      "gram must be run :\t7150\n",
      "oleaut32.dll:\t6388\n",
      "CreateFileA:\t6220\n",
      "CharNextA:\t6075\n",
      "TObject:\t5552\n",
      "ole32.dll:\t5186\n",
      "GetOEMCP:\t4018\n",
      "GlobalAlloc:\t3783\n",
      "September:\t3600\n",
      "RegOpenKeyA:\t3338\n",
      "CreateDirectoryA:\t3295\n",
      "StringX:\t3076\n",
      "Interface:\t2360\n",
      "MM/dd/yy:\t1895\n",
      "MSVBVM60.DLL:\t1870\n",
      "Boolean:\t1677\n",
      "C:\\Program Files\\Microsoft Visual Studio\\VB98\\VB6.OLB:\t1270\n",
      "[[[[[[:\t1253\n",
      "result:\t1217\n",
      "DefWindowProcW:\t864\n",
      "lstrcmpiA:\t608\n",
      "MSVCRT.dll:\t576\n",
      "PathFileExistsA:\t499\n",
      "RtlMoveMemory:\t483\n",
      "shlwapi:\t433\n",
      "s`)L$4:\t430\n",
      "! 6J[[:\t399\n",
      "__vbaStrCopy:\t354\n",
      "<<<<<<<<<<<<<<<<<<<<<<<<<<u9l:\t326\n",
      "A><<<<<<<<<<<<<<<<<<<<<<<<<<:\t303\n",
      "[fPFMlllll:\t281\n",
      "'HSplit:\t259\n",
      "Dvn+|Ax:\t249\n",
      "8x1Mjc<:\t248\n",
      "class_main:\t243\n",
      "T!pNJBN4:\t209\n",
      "2 x|2 :\t197\n",
      "[hU-|x&Q `:\t179\n",
      "u_:o 8:\t178\n",
      ". T:At:\t170\n",
      "invalid window size:\t165\n",
      "8s9S=A:\t164\n",
      "\"M#m#F:\t138\n",
      "This instance will close.:\t128\n",
      "t\"SS9] u:\t128\n",
      ".pas7k:\t128\n",
      "This file cannot install itself.  You need to:\t13\n",
      "/scripts/inst_VER103.gz:\t470\n",
      "x@@P4`/!:\t77\n",
      "hitechcell.ca:\t3\n",
      "InternetConnectW:\t3\n"
     ]
    }
   ],
   "source": [
    "filters = [i[0] for i in stopword if i[1] > 1]\n",
    "stopword_ = 0\n",
    "\n",
    "for sig, cnt in signatures.items():\n",
    "\tif sig not in filters:\n",
    "\t\tprint(f'{sig}:\\t{cnt}')\n",
    "\telse:\n",
    "\t\tstopword_ += 1"
   ]
  },
  {
   "cell_type": "code",
   "execution_count": 10,
   "metadata": {},
   "outputs": [
    {
     "name": "stdout",
     "output_type": "stream",
     "text": [
      "20\n"
     ]
    }
   ],
   "source": [
    "print(stopword_)"
   ]
  },
  {
   "cell_type": "code",
   "execution_count": 12,
   "metadata": {},
   "outputs": [],
   "source": [
    "with open('./res/PE_multi_big_group.pkl', 'rb') as f:\n",
    "    big_group = pickle.load(f)"
   ]
  },
  {
   "cell_type": "code",
   "execution_count": 17,
   "metadata": {},
   "outputs": [
    {
     "name": "stdout",
     "output_type": "stream",
     "text": [
      "8167\n",
      "[11191, 11199, 11205, 11206, 11209, 11215, 11222, 11223, 11244, 11246, 11251, 11254, 11256, 11258, 11265, 11267, 11271, 11272, 11274, 11284]\n"
     ]
    }
   ],
   "source": [
    "cnt = 0\n",
    "\n",
    "malware_big_group = []\n",
    "\n",
    "for idx in big_group:\n",
    "    if idx < 29909:\n",
    "        cnt += 1\n",
    "        malware_big_group.append(idx)\n",
    "        \n",
    "print(cnt)\n",
    "print(malware_big_group[2000: 2020])"
   ]
  },
  {
   "cell_type": "code",
   "execution_count": null,
   "metadata": {},
   "outputs": [],
   "source": []
  }
 ],
 "metadata": {
  "kernelspec": {
   "display_name": "base",
   "language": "python",
   "name": "python3"
  },
  "language_info": {
   "codemirror_mode": {
    "name": "ipython",
    "version": 3
   },
   "file_extension": ".py",
   "mimetype": "text/x-python",
   "name": "python",
   "nbconvert_exporter": "python",
   "pygments_lexer": "ipython3",
   "version": "3.9.18"
  }
 },
 "nbformat": 4,
 "nbformat_minor": 2
}
