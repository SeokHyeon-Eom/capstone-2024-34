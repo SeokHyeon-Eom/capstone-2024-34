{
 "cells": [
  {
   "cell_type": "code",
   "execution_count": null,
   "metadata": {},
   "outputs": [],
   "source": [
    "# import module\n",
    "\n",
    "import pickle\n",
    "from core.MV2 import MV2\n",
    "from core.JIG import JIG\n",
    "from core.SG2 import SG2 \n",
    "from core.AWL import AWL"
   ]
  },
  {
   "cell_type": "code",
   "execution_count": null,
   "metadata": {},
   "outputs": [],
   "source": [
    "# GIPS 입력 긴 문자열 -> 리스트 또는 셋으로 변경\n",
    "\n",
    "def main(payload_path, signature_path, stopword_path, virtual_vector_path, big_group_path,\n",
    "         window_size, K, M, # MV2 파라미터\n",
    "         thetaJ,  # JIG 파라미터\n",
    "         vector_size, eps, minpts, ngram, hh1_size, hh2_size, hh3_size, ratio # SG2, AWL 파라미터\n",
    "        ):\n",
    "    \n",
    "    with open(payload_path, 'rb') as f:\n",
    "        payloads_data = pickle.load(f)\n",
    "\n",
    "    print(len(payloads_data))\n",
    "    payloads = [x for x in payloads_data]\n",
    "\n",
    "    print(len(payloads))\n",
    "\n",
    "    # 빅 그룹 식별\n",
    "    minhashed_virtual_vectors = MV2(payloads=payloads, window_size=window_size, K=K, M=M)\n",
    "    with open(virtual_vector_path, 'wb') as f:\n",
    "        pickle.dump(minhashed_virtual_vectors, f)\n",
    "\n",
    "    big_group_indices = JIG(vectors=minhashed_virtual_vectors, thetaJ=thetaJ)\n",
    "    with open(big_group_path, 'wb') as f:\n",
    "        pickle.dump(big_group_indices, f)\n",
    "    \n",
    "    big_group_payloads = []\n",
    "    non_big_group_paylaods = []\n",
    "\n",
    "    for idx, payload in enumerate(payloads):\n",
    "        if idx in big_group_indices:\n",
    "            big_group_payloads.append(payload)\n",
    "        else:\n",
    "            non_big_group_paylaods.append(payload)\n",
    "    \n",
    "    # 시그니처 생성\n",
    "    cluster_signatures = SG2(payloads=big_group_payloads, window_size=window_size, vector_size=vector_size, \n",
    "                             eps=eps, minpts=minpts, ngram=ngram, hh1_size=hh1_size, hh2_size=hh2_size, hh3_size=hh3_size, ratio=ratio)\n",
    "    \n",
    "    with open(signature_path, 'wb') as f:\n",
    "        pickle.dump(cluster_signatures, f)\n",
    "    \n",
    "    stopwords = AWL(payloads=non_big_group_paylaods, ngram=ngram, hh1_size=hh1_size, hh2_size=hh2_size, hh3_size=hh3_size, ratio=ratio)\n",
    "\n",
    "    with open(stopword_path, 'wb') as f:\n",
    "        pickle.dump(stopwords, f)"
   ]
  },
  {
   "cell_type": "code",
   "execution_count": null,
   "metadata": {},
   "outputs": [],
   "source": [
    "# 파라미터\n",
    "\n",
    "file_path = './datasets/pe_string.pkl'\n",
    "virtual_vector_path = f'./res/PE_virtual_vector.pkl'\n",
    "big_group_indices_path = f'./res/PE_big_group.pkl'\n",
    "signature_path = f'./res/PE_signature.pkl'\n",
    "stopword_path = f'./res/PE_stopword.pkl'\n",
    "\n",
    "K = 64\n",
    "M = 2 ** 14\n",
    "thetaJ = 0.6\n",
    "window_size = 4\n",
    "vector_size = 512\n",
    "eps = 0.4\n",
    "minpts = 5\n",
    "ngram = 4\n",
    "hh1_size = 3000\n",
    "hh2_size = 3000\n",
    "hh3_size = 3000\n",
    "ratio = 0.1"
   ]
  },
  {
   "cell_type": "code",
   "execution_count": 8,
   "metadata": {},
   "outputs": [
    {
     "name": "stdout",
     "output_type": "stream",
     "text": [
      "29909\n",
      "29909\n",
      "make minhashed vector\n"
     ]
    },
    {
     "name": "stderr",
     "output_type": "stream",
     "text": [
      "100%|██████████| 29909/29909 [02:39<00:00, 187.30it/s]\n"
     ]
    },
    {
     "name": "stdout",
     "output_type": "stream",
     "text": [
      "checking big group\n"
     ]
    },
    {
     "name": "stderr",
     "output_type": "stream",
     "text": [
      "100%|██████████| 29909/29909 [02:24<00:00, 207.44it/s]\n"
     ]
    },
    {
     "name": "stdout",
     "output_type": "stream",
     "text": [
      "chunking\n"
     ]
    },
    {
     "name": "stderr",
     "output_type": "stream",
     "text": [
      "100%|██████████| 23402/23402 [00:31<00:00, 746.74it/s]\n"
     ]
    },
    {
     "name": "stdout",
     "output_type": "stream",
     "text": [
      "start DBSCAN\n",
      "end DBSCAN\n",
      "make signature\n"
     ]
    },
    {
     "name": "stderr",
     "output_type": "stream",
     "text": [
      "100%|██████████| 3/3 [00:15<00:00,  5.31s/it]\n"
     ]
    },
    {
     "name": "stdout",
     "output_type": "stream",
     "text": [
      "end signature\n",
      "start whtie list\n",
      "end white list\n"
     ]
    }
   ],
   "source": [
    "main(payload_path=file_path, signature_path=signature_path, stopword_path=stopword_path,\n",
    "         virtual_vector_path=virtual_vector_path, big_group_path=big_group_indices_path,\n",
    "         window_size=window_size, vector_size=vector_size, K=K, M=M, thetaJ=thetaJ,\n",
    "         eps=eps, minpts=minpts, ngram=ngram, hh1_size=hh2_size, hh2_size=hh2_size, hh3_size=hh3_size, ratio=ratio)\n",
    "    "
   ]
  },
  {
   "cell_type": "code",
   "execution_count": 9,
   "metadata": {},
   "outputs": [],
   "source": [
    "import pickle\n",
    "with open('./res/PE_signature.pkl', 'rb') as f:\n",
    "    signature = pickle.load(f)\n",
    "    \n",
    "with open('./res/PE_stopword.pkl', 'rb') as f:\n",
    "    stopword = pickle.load(f)\n",
    "    \n",
    "with open('./res/PE_big_group.pkl', 'rb') as f:\n",
    "    big_group = pickle.load(f)"
   ]
  },
  {
   "cell_type": "code",
   "execution_count": 10,
   "metadata": {},
   "outputs": [
    {
     "name": "stdout",
     "output_type": "stream",
     "text": [
      "23402\n"
     ]
    }
   ],
   "source": [
    "print(len(big_group))"
   ]
  },
  {
   "cell_type": "code",
   "execution_count": 11,
   "metadata": {},
   "outputs": [
    {
     "name": "stdout",
     "output_type": "stream",
     "text": [
      "SIGNAURE\n",
      "('Delete', 18574) ('System', 13450) ('GetProcAddress', 12917) ('Exception', 12595) ('user32', 12367) ('ExitProcess', 11489) ('advapi32', 10882) ('LoadLibraryA', 10286) ('CloseHandle', 9786) ('kernel32', 9711) ('ReadFile', 8955) ('!This program cannot be run in DOS mode.', 8745) ('RegCloseKey', 8487) ('WriteFile', 8189) ('VirtualAlloc', 7617) ('GetCurrentProcess', 7578) ('GetLastError', 7391) ('This program must be run under Win32', 7348) ('KERNEL32.DLL', 7323) ('CharNextA', 6898) ('CreateFileA', 6272) ('USER32.dll', 5974) ('GetStdHandle', 5451) ('TObject', 5392) ('GetCurrentThread', 5379) ('KERNEL32.dll', 5162) ('GetVersion', 4806) ('Strings', 3878) ('shell32.dll', 3590) ('RegOpenKeyA', 3474) ('ADVAPI32.dll', 3466) ('Varian', 3187) ('sprintf', 2482) ('`.data', 2466) ('SysFreeString', 2440) ('ivByZero', 2202) ('VirtualProtect', 2104) ('FPUMaskValu', 1911) ('Integer', 1904) ('__vbaExceptHandler', 1799) ('\\\\Delphi\\\\RTL', 1723) ('`.rdat', 1605) ('~ExC[)', 1497) ('[[[[[[', 1414) ('GetModuleFileNameW', 1369) ('USQWVR', 1211) ('6789ABCDEF', 1036) ('EOutOfMem', 835) ('Process32First', 815) ('verflow', 618) ('SaveDC', 524) ('ImageList_Add', 466) ('<security>', 446) ('__vbaLenBstr', 397) ('strPath', 391) ('StringP', 332) ('GetObjectA', 300) ('SING error', 274) ('FindWindowExA', 250) ('YNgeCe', 239) ('invalid block type', 199) ('d8?!8c14', 188) ('Wito m', 139) ('Safecall?', 126) ('proggam', 110) (':.datu', 109) ('^^:)Cz', 91) ('[b~QN(^', 82) ('Vl]1F3', 80) ('YAsX;]+', 56) ('HO6|\"G', 51) ('<<@t?(T', 50) ('5f4cc7b5', 50) \n",
      "('GetModuleFileNameW', 595) \n",
      "('KERNEL32.dll', 128) \n",
      "STOPWORD\n",
      "('Process', 11699)\n",
      "('CloseHandle', 4508)\n",
      "('KERNEL32', 4455)\n",
      "('!This program cannot be run in DOS mode.', 4318)\n",
      "('Exception', 3559)\n",
      "('      ', 3478)\n",
      "('WriteFile', 3215)\n",
      "('USER32.dll', 3079)\n",
      "('GetProcAddress', 2999)\n",
      "('Delete', 2523)\n",
      "('System', 2261)\n",
      "('CreateFileA', 2223)\n",
      "('.reloc', 2031)\n",
      "('RegCloseKey', 2017)\n",
      "('EnterCriticalSection', 1927)\n",
      "('FindClose', 1878)\n",
      "('sprintf', 1591)\n",
      "('GetModuleHandleA', 1394)\n",
      "(' !\"#$%', 1306)\n",
      "('GetFileSize', 1270)\n",
      "('.rdata', 1267)\n",
      "('VirtualAlloc', 1230)\n",
      "('VirtualFree', 1098)\n",
      "('WideCharToMultiByte', 1075)\n",
      "('GetTempPathA', 989)\n",
      "('user32', 784)\n",
      "('kernel32', 776)\n",
      "('FindNextFileA', 633)\n",
      "('`.rdat', 570)\n",
      "('shell32.dll', 391)\n",
      "('memcpy', 242)\n",
      "('CharNextA', 216)\n",
      "('SetWindowPos', 110)\n",
      "('R:*::P2', 93)\n"
     ]
    }
   ],
   "source": [
    "print('SIGNAURE')\n",
    "\n",
    "for i in signature.values():\n",
    "    for j in i:\n",
    "        print(j, end=\" \")\n",
    "    print()\n",
    "    \n",
    "print('STOPWORD')\n",
    "for i in stopword:\n",
    "    print(i)"
   ]
  },
  {
   "cell_type": "code",
   "execution_count": 12,
   "metadata": {},
   "outputs": [
    {
     "name": "stdout",
     "output_type": "stream",
     "text": [
      "('Delete', 18574)\n",
      "('System', 13450)\n",
      "('GetProcAddress', 12917)\n",
      "('Exception', 12595)\n",
      "('user32', 12367)\n",
      "('ExitProcess', 11489)\n",
      "('advapi32', 10882)\n",
      "('LoadLibraryA', 10286)\n",
      "('CloseHandle', 9786)\n",
      "('kernel32', 9711)\n",
      "('ReadFile', 8955)\n",
      "('!This program cannot be run in DOS mode.', 8745)\n",
      "('RegCloseKey', 8487)\n",
      "('WriteFile', 8189)\n",
      "('VirtualAlloc', 7617)\n",
      "('GetCurrentProcess', 7578)\n",
      "('GetLastError', 7391)\n",
      "('This program must be run under Win32', 7348)\n",
      "('KERNEL32.DLL', 7323)\n",
      "('CharNextA', 6898)\n",
      "('CreateFileA', 6272)\n",
      "('USER32.dll', 5974)\n",
      "('GetStdHandle', 5451)\n",
      "('TObject', 5392)\n",
      "('GetCurrentThread', 5379)\n",
      "('KERNEL32.dll', 5162)\n",
      "('GetVersion', 4806)\n",
      "('Strings', 3878)\n",
      "('shell32.dll', 3590)\n",
      "('RegOpenKeyA', 3474)\n",
      "('ADVAPI32.dll', 3466)\n",
      "('Varian', 3187)\n",
      "('sprintf', 2482)\n",
      "('`.data', 2466)\n",
      "('SysFreeString', 2440)\n",
      "('ivByZero', 2202)\n",
      "('VirtualProtect', 2104)\n",
      "('FPUMaskValu', 1911)\n",
      "('Integer', 1904)\n",
      "('__vbaExceptHandler', 1799)\n",
      "('\\\\Delphi\\\\RTL', 1723)\n",
      "('`.rdat', 1605)\n",
      "('~ExC[)', 1497)\n",
      "('[[[[[[', 1414)\n",
      "('GetModuleFileNameW', 1369)\n",
      "('USQWVR', 1211)\n",
      "('6789ABCDEF', 1036)\n",
      "('EOutOfMem', 835)\n",
      "('Process32First', 815)\n",
      "('verflow', 618)\n",
      "('SaveDC', 524)\n",
      "('ImageList_Add', 466)\n",
      "('<security>', 446)\n",
      "('__vbaLenBstr', 397)\n",
      "('strPath', 391)\n",
      "('StringP', 332)\n",
      "('GetObjectA', 300)\n",
      "('SING error', 274)\n",
      "('FindWindowExA', 250)\n",
      "('YNgeCe', 239)\n",
      "('invalid block type', 199)\n",
      "('d8?!8c14', 188)\n",
      "('Wito m', 139)\n",
      "('Safecall?', 126)\n",
      "('proggam', 110)\n",
      "(':.datu', 109)\n",
      "('^^:)Cz', 91)\n",
      "('[b~QN(^', 82)\n",
      "('Vl]1F3', 80)\n",
      "('YAsX;]+', 56)\n",
      "('HO6|\"G', 51)\n",
      "('<<@t?(T', 50)\n",
      "('5f4cc7b5', 50)\n",
      "('GetModuleFileNameW', 595)\n",
      "('KERNEL32.dll', 128)\n"
     ]
    }
   ],
   "source": [
    "filters = [i[0] for i in stopword if i[1] > 99]\n",
    "for cluster, sig in signature.items():\n",
    "    for token in sig:\n",
    "        if token[1] not in filters:\n",
    "            print(token)"
   ]
  }
 ],
 "metadata": {
  "kernelspec": {
   "display_name": "Python 3",
   "language": "python",
   "name": "python3"
  },
  "language_info": {
   "codemirror_mode": {
    "name": "ipython",
    "version": 3
   },
   "file_extension": ".py",
   "mimetype": "text/x-python",
   "name": "python",
   "nbconvert_exporter": "python",
   "pygments_lexer": "ipython3",
   "version": "3.10.9"
  }
 },
 "nbformat": 4,
 "nbformat_minor": 2
}
