{
 "cells": [
  {
   "cell_type": "code",
   "execution_count": 13,
   "metadata": {},
   "outputs": [],
   "source": [
    "import pandas as pd\n",
    "\n",
    "pe_data = './datasets/pe_miner_data.pkl'\n",
    "pe_key = './datasets/pe_miner_key.pkl'\n",
    "\n",
    "\n",
    "data = pd.read_pickle(pe_data)\n",
    "key_data = pd.read_pickle(pe_key)\n"
   ]
  },
  {
   "cell_type": "code",
   "execution_count": 14,
   "metadata": {},
   "outputs": [
    {
     "name": "stdout",
     "output_type": "stream",
     "text": [
      "184\n"
     ]
    }
   ],
   "source": [
    "print(len(key_data))"
   ]
  },
  {
   "cell_type": "code",
   "execution_count": 9,
   "metadata": {},
   "outputs": [
    {
     "ename": "NameError",
     "evalue": "name 'key_data' is not defined",
     "output_type": "error",
     "traceback": [
      "\u001b[0;31m---------------------------------------------------------------------------\u001b[0m",
      "\u001b[0;31mNameError\u001b[0m                                 Traceback (most recent call last)",
      "Cell \u001b[0;32mIn[9], line 1\u001b[0m\n\u001b[0;32m----> 1\u001b[0m \u001b[38;5;28;01mfor\u001b[39;00m i, key \u001b[38;5;129;01min\u001b[39;00m \u001b[38;5;28menumerate\u001b[39m(\u001b[43mkey_data\u001b[49m):\n\u001b[1;32m      2\u001b[0m     \u001b[38;5;28mprint\u001b[39m(key, \u001b[38;5;124m'\u001b[39m\u001b[38;5;124m:\u001b[39m\u001b[38;5;124m'\u001b[39m, data[\u001b[38;5;241m2\u001b[39m][\u001b[38;5;124m'\u001b[39m\u001b[38;5;124manaly\u001b[39m\u001b[38;5;124m'\u001b[39m][i])\n",
      "\u001b[0;31mNameError\u001b[0m: name 'key_data' is not defined"
     ]
    }
   ],
   "source": [
    "for i, key in enumerate(key_data):\n",
    "    print(key, ':', data[2]['analy'][i])"
   ]
  },
  {
   "cell_type": "code",
   "execution_count": 16,
   "metadata": {},
   "outputs": [],
   "source": [
    "import pandas as pd\n",
    "strings = './datasets/pe_string.pkl'\n",
    "\n",
    "strings_data = pd.read_pickle(strings)"
   ]
  },
  {
   "cell_type": "code",
   "execution_count": 30,
   "metadata": {},
   "outputs": [
    {
     "ename": "NameError",
     "evalue": "name 'strings_data' is not defined",
     "output_type": "error",
     "traceback": [
      "\u001b[0;31m---------------------------------------------------------------------------\u001b[0m",
      "\u001b[0;31mNameError\u001b[0m                                 Traceback (most recent call last)",
      "Cell \u001b[0;32mIn[30], line 1\u001b[0m\n\u001b[0;32m----> 1\u001b[0m \u001b[38;5;28mprint\u001b[39m(\u001b[38;5;28mlen\u001b[39m(\u001b[43mstrings_data\u001b[49m))\n\u001b[1;32m      2\u001b[0m \u001b[38;5;28mprint\u001b[39m(strings_data[:\u001b[38;5;241m10\u001b[39m])\n\u001b[1;32m      3\u001b[0m \u001b[38;5;28;01mfor\u001b[39;00m \u001b[38;5;28mstr\u001b[39m \u001b[38;5;129;01min\u001b[39;00m strings_data[:\u001b[38;5;241m10\u001b[39m]:\n",
      "\u001b[0;31mNameError\u001b[0m: name 'strings_data' is not defined"
     ]
    }
   ],
   "source": [
    "print(len(strings_data))\n",
    "print(strings_data[:10])\n",
    "for str in strings_data[:10]:\n",
    "    print(str[0])"
   ]
  },
  {
   "cell_type": "code",
   "execution_count": 7,
   "metadata": {},
   "outputs": [],
   "source": [
    "import sys\n",
    "sys.path.append('../GIPS/core')\n",
    "\n",
    "from MV2 import MV2\n",
    "from JIG import JIG\n",
    "from SG2 import SG2 \n",
    "from AWL import AWL"
   ]
  },
  {
   "cell_type": "code",
   "execution_count": 25,
   "metadata": {},
   "outputs": [
    {
     "name": "stdout",
     "output_type": "stream",
     "text": [
      "29909\n",
      "29909\n",
      "make minhashed vector\n"
     ]
    },
    {
     "name": "stderr",
     "output_type": "stream",
     "text": [
      "100%|██████████| 29909/29909 [00:08<00:00, 3580.49it/s]\n"
     ]
    },
    {
     "name": "stdout",
     "output_type": "stream",
     "text": [
      "checking big group\n"
     ]
    },
    {
     "name": "stderr",
     "output_type": "stream",
     "text": [
      "100%|██████████| 29909/29909 [02:25<00:00, 205.38it/s]\n"
     ]
    },
    {
     "name": "stdout",
     "output_type": "stream",
     "text": [
      "chunking\n"
     ]
    },
    {
     "name": "stderr",
     "output_type": "stream",
     "text": [
      "100%|██████████| 22566/22566 [00:00<00:00, 206820.39it/s]"
     ]
    },
    {
     "name": "stdout",
     "output_type": "stream",
     "text": [
      "start DBSCAN\n"
     ]
    },
    {
     "name": "stderr",
     "output_type": "stream",
     "text": [
      "\n"
     ]
    },
    {
     "name": "stdout",
     "output_type": "stream",
     "text": [
      "end DBSCAN\n",
      "make signature\n"
     ]
    },
    {
     "name": "stderr",
     "output_type": "stream",
     "text": [
      "100%|██████████| 61/61 [00:00<00:00, 381.95it/s]"
     ]
    },
    {
     "name": "stdout",
     "output_type": "stream",
     "text": [
      "end signature\n",
      "start whtie list\n"
     ]
    },
    {
     "name": "stderr",
     "output_type": "stream",
     "text": [
      "\n"
     ]
    },
    {
     "name": "stdout",
     "output_type": "stream",
     "text": [
      "end white list\n"
     ]
    }
   ],
   "source": [
    "import pickle\n",
    "\n",
    "\n",
    "\n",
    "def main(payload_path, signature_path, stopword_path, virtual_vector_path, big_group_path,\n",
    "         window_size, K, M, # MV2 파라미터\n",
    "         thetaJ,  # JIG 파라미터\n",
    "         vector_size, eps, minpts, ngram, hh1_size, hh2_size, hh3_size, ratio # SG2, AWL 파라미터\n",
    "        ):\n",
    "    \n",
    "    with open(payload_path, 'rb') as f:\n",
    "        payloads_data = pickle.load(f)\n",
    "\n",
    "    print(len(payloads_data))\n",
    "    payloads = [list(x)[0] for x in payloads_data]\n",
    "\n",
    "    print(len(payloads))\n",
    "\n",
    "    # 빅 그룹 식별\n",
    "    minhashed_virtual_vectors = MV2(payloads=payloads, window_size=window_size, K=K, M=M)\n",
    "    with open(virtual_vector_path, 'wb') as f:\n",
    "        pickle.dump(minhashed_virtual_vectors, f)\n",
    "\n",
    "    big_group_indices = JIG(vectors=minhashed_virtual_vectors, thetaJ=thetaJ)\n",
    "    with open(big_group_path, 'wb') as f:\n",
    "        pickle.dump(big_group_indices, f)\n",
    "    \n",
    "    big_group_payloads = []\n",
    "    non_big_group_paylaods = []\n",
    "\n",
    "    for idx, payload in enumerate(payloads):\n",
    "        if idx in big_group_indices:\n",
    "            big_group_payloads.append(payload)\n",
    "        else:\n",
    "            non_big_group_paylaods.append(payload)\n",
    "    \n",
    "    # 시그니처 생성\n",
    "    cluster_signatures = SG2(payloads=big_group_payloads, window_size=window_size, vector_size=vector_size, \n",
    "                             eps=eps, minpts=minpts, ngram=ngram, hh1_size=hh1_size, hh2_size=hh2_size, hh3_size=hh3_size, ratio=ratio)\n",
    "    \n",
    "    with open(signature_path, 'wb') as f:\n",
    "        pickle.dump(cluster_signatures, f)\n",
    "    \n",
    "    stopwords = AWL(payloads=non_big_group_paylaods, ngram=ngram, hh1_size=hh1_size, hh2_size=hh2_size, hh3_size=hh3_size, ratio=ratio)\n",
    "\n",
    "    with open(stopword_path, 'wb') as f:\n",
    "        pickle.dump(stopwords, f)\n",
    "\n",
    "\n",
    "if __name__ == '__main__':\n",
    "\n",
    "    file_path = '../PE/datasets/pe_string.pkl'\n",
    "    virtual_vector_path = f'./res/PE_virtual_vector.pkl'\n",
    "    big_group_indices_path = f'./res/PE_big_group.pkl'\n",
    "    signature_path = f'./res/PE_signature.pkl'\n",
    "    stopword_path = f'./res/PE_stopword.pkl'\n",
    "\n",
    "    K = 64\n",
    "    M = 2 ** 14\n",
    "    thetaJ = 0.6\n",
    "    window_size = 4\n",
    "    vector_size = 512\n",
    "    eps = 0.4\n",
    "    minpts = 5\n",
    "    ngram = 4\n",
    "    hh1_size = 3000\n",
    "    hh2_size = 3000\n",
    "    hh3_size = 3000\n",
    "    ratio = 0.1\n",
    "\n",
    "    main(payload_path=file_path, signature_path=signature_path, stopword_path=stopword_path,\n",
    "         virtual_vector_path=virtual_vector_path, big_group_path=big_group_indices_path,\n",
    "         window_size=window_size, vector_size=vector_size, K=K, M=M, thetaJ=thetaJ,\n",
    "         eps=eps, minpts=minpts, ngram=ngram, hh1_size=hh2_size, hh2_size=hh2_size, hh3_size=hh3_size, ratio=ratio)\n",
    "    "
   ]
  },
  {
   "cell_type": "code",
   "execution_count": 26,
   "metadata": {},
   "outputs": [],
   "source": [
    "import pickle\n",
    "with open('./res/PE_signature.pkl', 'rb') as f:\n",
    "    signature = pickle.load(f)\n",
    "    \n",
    "with open('./res/PE_stopword.pkl', 'rb') as f:\n",
    "    stopword = pickle.load(f)\n",
    "    \n",
    "with open('./res/PE_big_group.pkl', 'rb') as f:\n",
    "    big_group = pickle.load(f)"
   ]
  },
  {
   "cell_type": "code",
   "execution_count": 27,
   "metadata": {},
   "outputs": [
    {
     "name": "stdout",
     "output_type": "stream",
     "text": [
      "22566\n"
     ]
    }
   ],
   "source": [
    "print(len(big_group))"
   ]
  },
  {
   "cell_type": "code",
   "execution_count": 29,
   "metadata": {},
   "outputs": [
    {
     "name": "stdout",
     "output_type": "stream",
     "text": [
      "[0, 1, 2, 3, 4, 5, 6, 7, 12, 18, 23, 26, 27, 31, 35, 46, 48, 49, 50, 61, 66, 69, 76, 82, 84, 86, 92, 94, 95, 99, 101, 103, 107, 110, 112, 113, 114, 115, 117, 118, 120, 122, 126, 130, 132, 141, 142, 146, 148, 151, 158, 159, 161, 166, 168, 169, 170, 173, 177, 183, 186, 189, 192, 196, 198, 199, 200, 201, 205, 206, 207, 209, 216, 220, 223, 224, 227, 228, 229, 233, 234, 237, 238, 239, 241, 244, 249, 254, 256, 258, 260, 268, 270, 273, 274, 276, 277, 284, 288, 291]\n"
     ]
    }
   ],
   "source": []
  },
  {
   "cell_type": "code",
   "execution_count": 11,
   "metadata": {},
   "outputs": [
    {
     "name": "stdout",
     "output_type": "stream",
     "text": [
      "SIGNAURE\n",
      "('$&-[-o', 832) \n",
      "('-H@{c!', 340) \n",
      "('d!`\\\\rr', 1008) \n",
      "('TRegistryU', 966) ('__vbaVarLateMemCallLd', 409) ('L8!H@w', 99) \n",
      "('open file', 607) \n",
      "('RtlDecompressBuffer', 510) \n",
      "('l(lBt]', 312) ('Inverflow', 156) ('symname(', 81) ('{ezxyxf+:$x', 12) \n",
      "('l][tSc', 2184) \n",
      "('module_main', 919) \n",
      "('FPlt68', 924) \n",
      "('v: 1.31', 742) ('CreateProcessA', 31) \n",
      "('StartMailWorm', 852) \n",
      "('TComponent', 1040) ('__vbaFreeStrList', 351) \n",
      "('           ', 605) \n",
      "('Wm>sdw', 701) ('Websit', 478) \n",
      "('       ', 635) \n",
      "('GetLocaleInfoEx', 465) ('.adata', 288) ('0v) `@', 45) \n",
      "('\"?O=N(', 817) \n",
      "('     ', 330) \n",
      "('1B2R2_2h2n2x2~2', 344) \n",
      "('HbB<!T', 350) \n",
      "('_t$@SDI', 241) \n",
      "('Iac}JDTb2`A@', 244) \n",
      "('GetLongPathNameA', 227) ('FindNextFileA', 150) \n",
      "('EncodePointer', 432) \n",
      "('%U|mBk', 260) \n",
      "('4N:.a:', 169) \n",
      "('Init*K4', 269) \n",
      "('1 1$1(1,1014181<1@1D1H1L1P1T1X1\\\\1`1d1h1l1p1t1x1|1', 236) \n",
      "('BBBBRV', 110) \n",
      "(\"d,I'0ld6\", 184) \n",
      "('@A_A^_^]', 156) \n",
      "('`-Q_Dv', 194) \n",
      "('\\\\ShowYJ', 166) \n",
      "('_cxx1', 89) \n",
      "('iiiiiiiiiii', 176) ('a2AQVCO', 14) \n",
      "('Content-Type: text/plain', 66) ('*BTj1oR', 30) ('qpr !w', 11) \n",
      "('gN`\\\\DO', 96) (']ft=M\\\\;Rha~', 6) \n",
      "('E:\\\\Program Files\\\\Microsoft Visual Studio\\\\VB98\\\\VB6.OLB', 57) \n",
      "('OBUL_<', 100) \n",
      "('IsWindowVisible', 57) \n",
      "('1&pTTm', 192) \n",
      "('LLLLLLL', 113) \n",
      "('STARTUP', 99) \n",
      "('zA7I--m', 120) \n",
      "('<?xml version=\"1.0\" encoding=\"UTF-8\" standalone=\"yes\"?>', 94) \n",
      "('macintosh', 93) \n",
      "('_onexit', 67) \n",
      "('x@@P4`/!', 72) \n",
      "('43hE&HuW', 136) \n",
      "('Read Error', 62) \n",
      "('AN@J@F', 44) \n",
      "('(DigiCert SHA2 Assured ID Timestamping CA', 47) \n",
      "('nnnnnn', 29) \n",
      "('compatibility', 28) \n",
      "('^yz@hs*', 43) \n",
      "('.tTP|y', 23) \n",
      "('|=tu2u', 19) \n",
      "('ShellIE_WindowRegistered', 24) \n",
      "('Wednesday', 9) \n",
      "(\"Failed to get data for property '%ls'\", 4) \n",
      "STOPWORD\n",
      "(' the ', 581)\n",
      "('tion', 547)\n",
      "(' to ', 366)\n",
      "('ing ', 290)\n",
      "('ion ', 272)\n",
      "('file', 221)\n",
      "('able', 195)\n",
      "('6848', 193)\n",
      "('his ', 191)\n",
      "('0226', 184)\n",
      "('2062', 184)\n",
      "('6606', 173)\n",
      "('The ', 171)\n",
      "('rror', 170)\n",
      "('8048', 165)\n",
      "('6826', 161)\n",
      "('ector', 160)\n",
      "('8400', 158)\n",
      "('4624', 147)\n",
      "('2484', 147)\n",
      "(' and ', 122)\n",
      "('roduct', 115)\n",
      "('comp', 113)\n",
      "(' that ', 110)\n",
      "(' in ', 103)\n",
      "('ess ', 101)\n",
      "(' pro', 99)\n",
      "(' for', 91)\n",
      "('not ', 91)\n",
      "('ther', 90)\n",
      "('ourc', 90)\n",
      "('read', 83)\n",
      "(' con', 80)\n",
      "('rent', 80)\n",
      "('name', 71)\n",
      "(' from ', 71)\n",
      "('spec', 70)\n",
      "('enti', 70)\n",
      "(' can', 70)\n",
      "('orma', 66)\n",
      "('File', 65)\n",
      "('6666', 64)\n",
      "('Comp', 63)\n",
      "(' be ', 61)\n",
      "('Time', 61)\n",
      "('6000', 60)\n",
      "('2202', 58)\n",
      "('Name', 50)\n",
      "(' sta', 50)\n",
      "('hort', 44)\n",
      "(' uni', 40)\n",
      "('istr', 40)\n",
      "('.The', 40)\n",
      "('ocal', 40)\n",
      "('xxxx', 38)\n",
      "('Path', 38)\n",
      "('ePro', 37)\n",
      "('bad ', 36)\n",
      "('Info', 34)\n",
      "('Size', 33)\n",
      "('Window', 32)\n",
      "('SetC', 31)\n",
      "('olum', 30)\n",
      "('ermi', 30)\n",
      "('    ', 30)\n",
      "(' rem', 30)\n",
      "('curre', 30)\n",
      "('Create', 26)\n",
      "('User', 25)\n",
      "('Admin', 24)\n",
      "('Console', 22)\n",
      "('alize', 21)\n",
      "('Language', 21)\n",
      "('Type', 21)\n",
      "('JJJJJJJJJJJJ', 21)\n",
      "(' all', 21)\n",
      "('Data', 21)\n",
      "('fore', 20)\n",
      "(' on ', 20)\n",
      "('*BTj1oR', 17)\n",
      "('@std@@', 17)\n",
      "('HxIndex', 16)\n",
      "('CCom', 15)\n",
      "('qpr !w', 14)\n",
      "('a2AQVCO', 14)\n",
      "('|=tu2u', 14)\n",
      "('.?AV', 13)\n",
      "('^yz@hs*', 13)\n",
      "(']ft=M\\\\;Rha~', 13)\n",
      "('{ezxyxf+:$x', 13)\n",
      "('L8!H@w', 12)\n",
      "('.tTP|y', 12)\n",
      "('Message', 12)\n",
      "('}ysIrz', 12)\n",
      "(':OT=_$j', 12)\n",
      "('nter', 12)\n",
      "('nnnnnnnh', 11)\n",
      "('VarNot', 11)\n",
      "('AG3{2v', 11)\n",
      "('DG]&|J', 11)\n",
      "('get_', 11)\n",
      "('Read', 11)\n",
      "('sinpastilla.dll', 11)\n",
      "('HHHH', 10)\n",
      "('Free', 10)\n",
      "('Mode', 10)\n",
      "('Class', 10)\n",
      "('sWNZQ<>>', 10)\n",
      "('LLLLLLLLLLLLLLLL', 10)\n",
      "('Open', 10)\n",
      "('!!!!!!!', 10)\n",
      "('__imp_', 10)\n",
      "('0s0t', 10)\n"
     ]
    }
   ],
   "source": [
    "print('SIGNAURE')\n",
    "\n",
    "for i in signature.values():\n",
    "    for j in i:\n",
    "        print(j, end=\" \")\n",
    "    print()\n",
    "    \n",
    "print('STOPWORD')\n",
    "for i in stopword:\n",
    "    print(i)"
   ]
  },
  {
   "cell_type": "code",
   "execution_count": 12,
   "metadata": {},
   "outputs": [
    {
     "name": "stdout",
     "output_type": "stream",
     "text": [
      "('$&-[-o', 832)\n",
      "('-H@{c!', 340)\n",
      "('d!`\\\\rr', 1008)\n",
      "('TRegistryU', 966)\n",
      "('__vbaVarLateMemCallLd', 409)\n",
      "('L8!H@w', 99)\n",
      "('open file', 607)\n",
      "('RtlDecompressBuffer', 510)\n",
      "('l(lBt]', 312)\n",
      "('Inverflow', 156)\n",
      "('symname(', 81)\n",
      "('{ezxyxf+:$x', 12)\n",
      "('l][tSc', 2184)\n",
      "('module_main', 919)\n",
      "('FPlt68', 924)\n",
      "('v: 1.31', 742)\n",
      "('CreateProcessA', 31)\n",
      "('StartMailWorm', 852)\n",
      "('TComponent', 1040)\n",
      "('__vbaFreeStrList', 351)\n",
      "('           ', 605)\n",
      "('Wm>sdw', 701)\n",
      "('Websit', 478)\n",
      "('       ', 635)\n",
      "('GetLocaleInfoEx', 465)\n",
      "('.adata', 288)\n",
      "('0v) `@', 45)\n",
      "('\"?O=N(', 817)\n",
      "('     ', 330)\n",
      "('1B2R2_2h2n2x2~2', 344)\n",
      "('HbB<!T', 350)\n",
      "('_t$@SDI', 241)\n",
      "('Iac}JDTb2`A@', 244)\n",
      "('GetLongPathNameA', 227)\n",
      "('FindNextFileA', 150)\n",
      "('EncodePointer', 432)\n",
      "('%U|mBk', 260)\n",
      "('4N:.a:', 169)\n",
      "('Init*K4', 269)\n",
      "('1 1$1(1,1014181<1@1D1H1L1P1T1X1\\\\1`1d1h1l1p1t1x1|1', 236)\n",
      "('BBBBRV', 110)\n",
      "(\"d,I'0ld6\", 184)\n",
      "('@A_A^_^]', 156)\n",
      "('`-Q_Dv', 194)\n",
      "('\\\\ShowYJ', 166)\n",
      "('_cxx1', 89)\n",
      "('iiiiiiiiiii', 176)\n",
      "('a2AQVCO', 14)\n",
      "('Content-Type: text/plain', 66)\n",
      "('*BTj1oR', 30)\n",
      "('qpr !w', 11)\n",
      "('gN`\\\\DO', 96)\n",
      "(']ft=M\\\\;Rha~', 6)\n",
      "('E:\\\\Program Files\\\\Microsoft Visual Studio\\\\VB98\\\\VB6.OLB', 57)\n",
      "('OBUL_<', 100)\n",
      "('IsWindowVisible', 57)\n",
      "('1&pTTm', 192)\n",
      "('LLLLLLL', 113)\n",
      "('STARTUP', 99)\n",
      "('zA7I--m', 120)\n",
      "('<?xml version=\"1.0\" encoding=\"UTF-8\" standalone=\"yes\"?>', 94)\n",
      "('macintosh', 93)\n",
      "('_onexit', 67)\n",
      "('x@@P4`/!', 72)\n",
      "('43hE&HuW', 136)\n",
      "('Read Error', 62)\n",
      "('AN@J@F', 44)\n",
      "('(DigiCert SHA2 Assured ID Timestamping CA', 47)\n",
      "('nnnnnn', 29)\n",
      "('compatibility', 28)\n",
      "('^yz@hs*', 43)\n",
      "('.tTP|y', 23)\n",
      "('|=tu2u', 19)\n",
      "('ShellIE_WindowRegistered', 24)\n",
      "('Wednesday', 9)\n",
      "(\"Failed to get data for property '%ls'\", 4)\n"
     ]
    }
   ],
   "source": [
    "filters = [i[0] for i in stopword if i[1] > 99]\n",
    "for cluster, sig in signature.items():\n",
    "    for token in sig:\n",
    "        if token[1] not in filters:\n",
    "            print(token)"
   ]
  },
  {
   "cell_type": "code",
   "execution_count": null,
   "metadata": {},
   "outputs": [],
   "source": []
  }
 ],
 "metadata": {
  "kernelspec": {
   "display_name": "Python 3",
   "language": "python",
   "name": "python3"
  },
  "language_info": {
   "codemirror_mode": {
    "name": "ipython",
    "version": 3
   },
   "file_extension": ".py",
   "mimetype": "text/x-python",
   "name": "python",
   "nbconvert_exporter": "python",
   "pygments_lexer": "ipython3",
   "version": "3.10.9"
  }
 },
 "nbformat": 4,
 "nbformat_minor": 2
}
