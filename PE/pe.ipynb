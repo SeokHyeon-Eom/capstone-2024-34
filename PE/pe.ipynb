{
 "cells": [
  {
   "cell_type": "code",
   "execution_count": 5,
   "metadata": {},
   "outputs": [],
   "source": [
    "# import module\n",
    "\n",
    "import pickle\n",
    "from core.MV2 import MV2\n",
    "from core.JIG import JIG\n",
    "from core.SG2 import SG2 \n",
    "from core.AWL import AWL"
   ]
  },
  {
   "cell_type": "code",
   "execution_count": 6,
   "metadata": {},
   "outputs": [],
   "source": [
    "# GIPS의 입력 스트링에서 리스트 혹은 셋으로 변경\n",
    "\n",
    "def main(payload_path, signature_path, stopword_path, virtual_vector_path, big_group_path,\n",
    "         window_size, K, M, # MV2 파라미터\n",
    "         thetaJ,  # JIG 파라미터\n",
    "         vector_size, eps, minpts, ngram, hh1_size, hh2_size, hh3_size, ratio # SG2, AWL 파라미터\n",
    "        ):\n",
    "    \n",
    "    with open(payload_path, 'rb') as f:\n",
    "        payloads_data = pickle.load(f)\n",
    "\n",
    "    print(len(payloads_data))\n",
    "    payloads = [x for x in payloads_data]\n",
    "\n",
    "    print(len(payloads))\n",
    "\n",
    "    # 빅 그룹 식별\n",
    "    minhashed_virtual_vectors = MV2(payloads=payloads, window_size=window_size, K=K, M=M)\n",
    "    with open(virtual_vector_path, 'wb') as f:\n",
    "        pickle.dump(minhashed_virtual_vectors, f)\n",
    "\n",
    "    big_group_indices = JIG(vectors=minhashed_virtual_vectors, thetaJ=thetaJ)\n",
    "    with open(big_group_path, 'wb') as f:\n",
    "        pickle.dump(big_group_indices, f)\n",
    "    \n",
    "    big_group_payloads = []\n",
    "    non_big_group_paylaods = []\n",
    "\n",
    "    for idx, payload in enumerate(payloads):\n",
    "        if idx in big_group_indices:\n",
    "            big_group_payloads.append(payload)\n",
    "        else:\n",
    "            non_big_group_paylaods.append(payload)\n",
    "    \n",
    "    # 시그니처 생성\n",
    "    cluster_signatures = SG2(payloads=big_group_payloads, window_size=window_size, vector_size=vector_size, \n",
    "                             eps=eps, minpts=minpts, ngram=ngram, hh1_size=hh1_size, hh2_size=hh2_size, hh3_size=hh3_size, ratio=ratio)\n",
    "    \n",
    "    with open(signature_path, 'wb') as f:\n",
    "        pickle.dump(cluster_signatures, f)\n",
    "    \n",
    "    stopwords = AWL(payloads=non_big_group_paylaods, ngram=ngram, hh1_size=hh1_size, hh2_size=hh2_size, hh3_size=hh3_size, ratio=ratio)\n",
    "\n",
    "    with open(stopword_path, 'wb') as f:\n",
    "        pickle.dump(stopwords, f)"
   ]
  },
  {
   "cell_type": "code",
   "execution_count": 7,
   "metadata": {},
   "outputs": [],
   "source": [
    "# 파라미터\n",
    "\n",
    "file_path = './datasets/pkl/pe_string.pkl'\n",
    "virtual_vector_path = f'./res/PE_virtual_vector.pkl'\n",
    "big_group_indices_path = f'./res/PE_big_group.pkl'\n",
    "signature_path = f'./res/PE_signature.pkl'\n",
    "stopword_path = f'./res/PE_stopword.pkl'\n",
    "\n",
    "K = 64\n",
    "M = 2 ** 14\n",
    "thetaJ = 0.6\n",
    "window_size = 4\n",
    "vector_size = 512\n",
    "eps = 0.4\n",
    "minpts = 5\n",
    "ngram = 4\n",
    "hh1_size = 3000\n",
    "hh2_size = 3000\n",
    "hh3_size = 3000\n",
    "ratio = 0.1"
   ]
  },
  {
   "cell_type": "code",
   "execution_count": 8,
   "metadata": {},
   "outputs": [
    {
     "name": "stdout",
     "output_type": "stream",
     "text": [
      "29909\n",
      "29909\n",
      "make minhashed vector\n"
     ]
    },
    {
     "name": "stderr",
     "output_type": "stream",
     "text": [
      "100%|██████████| 29909/29909 [06:19<00:00, 78.80it/s] \n"
     ]
    },
    {
     "name": "stdout",
     "output_type": "stream",
     "text": [
      "checking big group\n"
     ]
    },
    {
     "name": "stderr",
     "output_type": "stream",
     "text": [
      "100%|██████████| 29909/29909 [02:48<00:00, 177.06it/s]\n"
     ]
    },
    {
     "name": "stdout",
     "output_type": "stream",
     "text": [
      "chunking\n"
     ]
    },
    {
     "name": "stderr",
     "output_type": "stream",
     "text": [
      "100%|██████████| 23402/23402 [01:02<00:00, 372.43it/s]\n"
     ]
    },
    {
     "name": "stdout",
     "output_type": "stream",
     "text": [
      "start DBSCAN\n",
      "end DBSCAN\n",
      "make signature\n"
     ]
    },
    {
     "name": "stderr",
     "output_type": "stream",
     "text": [
      "100%|██████████| 3/3 [00:29<00:00,  9.83s/it]\n"
     ]
    },
    {
     "name": "stdout",
     "output_type": "stream",
     "text": [
      "end signature\n",
      "start whtie list\n",
      "end white list\n"
     ]
    }
   ],
   "source": [
    "main(payload_path=file_path, signature_path=signature_path, stopword_path=stopword_path,\n",
    "         virtual_vector_path=virtual_vector_path, big_group_path=big_group_indices_path,\n",
    "         window_size=window_size, vector_size=vector_size, K=K, M=M, thetaJ=thetaJ,\n",
    "         eps=eps, minpts=minpts, ngram=ngram, hh1_size=hh2_size, hh2_size=hh2_size, hh3_size=hh3_size, ratio=ratio)\n",
    "    "
   ]
  },
  {
   "cell_type": "code",
   "execution_count": 9,
   "metadata": {},
   "outputs": [],
   "source": [
    "with open('./res/PE_signature.pkl', 'rb') as f:\n",
    "    signature = pickle.load(f)\n",
    "    \n",
    "with open('./res/PE_stopword.pkl', 'rb') as f:\n",
    "    stopword = pickle.load(f)\n",
    "    \n",
    "with open('./res/PE_big_group.pkl', 'rb') as f:\n",
    "    big_group = pickle.load(f)"
   ]
  },
  {
   "cell_type": "code",
   "execution_count": 10,
   "metadata": {},
   "outputs": [
    {
     "name": "stdout",
     "output_type": "stream",
     "text": [
      "23402\n"
     ]
    }
   ],
   "source": [
    "print(len(big_group))"
   ]
  },
  {
   "cell_type": "code",
   "execution_count": 11,
   "metadata": {},
   "outputs": [
    {
     "name": "stdout",
     "output_type": "stream",
     "text": [
      "SIGNAURE\n",
      "('Delete', 17858) ('ExitProcess', 13513) ('Exception', 13364) ('System', 12775) ('GetProcAddress', 12421) ('LoadLibraryA', 12023) ('user32', 11764) ('advapi32', 10161) ('RegCloseKey', 9995) ('CloseHandle', 9885) ('!This program cannot be run in DOS mode.', 8859) ('kernel32', 8343) ('WriteFile', 8152) ('VirtualFree', 7675) ('VirtualAlloc', 7296) ('gram must be run ', 7120) ('GetCurrentThread', 6939) ('GetLastError', 6782) ('oleaut32.dll', 6375) ('ReadFile', 6369) ('KERNEL32.DLL', 6353) ('USER32', 6315) ('GetFileSize', 6314) ('FindClose', 6247) ('CharNextA', 6175) ('SetFilePointer', 6154) ('EnterCriticalSection', 5961) ('GetFileType', 5673) ('TObject', 5574) ('CreateFileA', 5569) ('RtlUnwind', 5425) ('LocalFree', 5279) ('TlsSetValue', 5199) ('WideCharToMultiByte', 5123) ('Windows', 5113) ('.reloc', 4369) ('KERNEL32.dll', 4004) ('ADVAPI32.dll', 3858) ('.rdata', 3675) ('`.data', 3434) ('StringX', 3378) ('CreateDirectoryA', 3041) ('ole32.dll', 2666) ('Interface', 2284) ('MSVBVM60.DLL', 1969) ('Boolean', 1897) ('`.rdat', 1709) ('SysFreeString', 1697) ('GetOEMCP', 1520) ('C:\\\\Program Files\\\\Microsoft Visual Studio\\\\VB98\\\\VB6.OLB', 1312) ('UpdateResourceA', 1298) ('September', 1295) ('version', 1290) ('[[[[[[', 1243) ('~ExC[)', 1193) ('{&8p^)j6', 1134) ('LookupPrivilegeValueA', 926) ('result', 687) ('MSVCRT.dll', 644) ('MM/dd/yy', 606) ('PathFileExistsA', 488) ('s`)L$4', 459) ('RtlMoveMemory', 456) ('t$t#t$l', 408) ('shlwapi', 390) ('! 6J[[', 361) ('lstrcmpiA', 358) ('__vbaStrCopy', 354) ('nKB\\\\`lll', 334) ('<<<<<<<<<<<<<<<<<<<<<<<<<<u9l', 321) ('[fPFMlllll', 271) (\"'HSplit\", 259) ('VC20XC00', 247) ('Dvn+|Ax', 239) ('class_main', 230) ('8x1Mjc<', 227) ('FillRect', 209) ('2 x|2 ', 200) ('T!pNJBN4', 188) ('u_:o 8', 173) ('. T:At', 143) ('8s9S=A', 143) ('invalid window size', 127) ('[hU-|x&Q `', 126) (':.datu', 118) ('proggam', 105) ('\"M#m#F', 100) ('.pas7k', 92) ('This instance will close.', 73) ('Rich(!', 55) ('t\"SS9] u', 53) \n",
      "('/scripts/inst_VER103.gz', 509) ('x@@P4`/!', 83) ('hitechcell.ca', 3) ('InternetConnectW', 3) \n",
      "('DefWindowProcW', 128) \n",
      "STOPWORD\n",
      "('Process', 11570)\n",
      "('Thread', 5103)\n",
      "('CloseHandle', 4801)\n",
      "('KERNEL32', 4415)\n",
      "('!This program cannot be run in DOS mode.', 4140)\n",
      "('WriteFile', 4014)\n",
      "('Exception', 3915)\n",
      "('      ', 3247)\n",
      "('Delete', 3090)\n",
      "('USER32.dll', 3044)\n",
      "('GetProcAddress', 2724)\n",
      "('.reloc', 2220)\n",
      "('SetFilePointer', 2015)\n",
      "('RegCloseKey', 1981)\n",
      "('EnterCriticalSection', 1889)\n",
      "('LeaveCriticalSection', 1782)\n",
      "('FreeLibrary', 1621)\n",
      "('GetModuleHandleA', 1604)\n",
      "('FindClose', 1492)\n",
      "('printf', 1421)\n",
      "('.rdata', 1412)\n",
      "('VirtualFree', 1358)\n",
      "('VirtualAlloc', 1214)\n",
      "('GetFileAttributesA', 589)\n",
      "('FindFirstFileA', 564)\n",
      "('`.rdat', 556)\n",
      "('Default', 540)\n",
      "('`.data', 427)\n",
      "('FindFirstFileW', 413)\n",
      "('shell32.dll', 388)\n",
      "('SysFreeString', 385)\n",
      "('This program must be run under Win32', 326)\n",
      "('.?AVexception@std@@', 180)\n",
      "('a[$u35*Y.   ci$Cn*948Lt:  . .~', 85)\n",
      "('EVENT_SINK_QueryInterface', 65)\n",
      "('wsock32.dll', 63)\n",
      "('proggam', 22)\n"
     ]
    }
   ],
   "source": [
    "print('SIGNAURE')\n",
    "\n",
    "for i in signature.values():\n",
    "    for j in i:\n",
    "        print(j, end=\" \")\n",
    "    print()\n",
    "    \n",
    "print('STOPWORD')\n",
    "for i in stopword:\n",
    "    print(i)"
   ]
  },
  {
   "cell_type": "code",
   "execution_count": 12,
   "metadata": {},
   "outputs": [
    {
     "name": "stdout",
     "output_type": "stream",
     "text": [
      "('Delete', 17858)\n",
      "('ExitProcess', 13513)\n",
      "('Exception', 13364)\n",
      "('System', 12775)\n",
      "('GetProcAddress', 12421)\n",
      "('LoadLibraryA', 12023)\n",
      "('user32', 11764)\n",
      "('advapi32', 10161)\n",
      "('RegCloseKey', 9995)\n",
      "('CloseHandle', 9885)\n",
      "('!This program cannot be run in DOS mode.', 8859)\n",
      "('kernel32', 8343)\n",
      "('WriteFile', 8152)\n",
      "('VirtualFree', 7675)\n",
      "('VirtualAlloc', 7296)\n",
      "('gram must be run ', 7120)\n",
      "('GetCurrentThread', 6939)\n",
      "('GetLastError', 6782)\n",
      "('oleaut32.dll', 6375)\n",
      "('ReadFile', 6369)\n",
      "('KERNEL32.DLL', 6353)\n",
      "('USER32', 6315)\n",
      "('GetFileSize', 6314)\n",
      "('FindClose', 6247)\n",
      "('CharNextA', 6175)\n",
      "('SetFilePointer', 6154)\n",
      "('EnterCriticalSection', 5961)\n",
      "('GetFileType', 5673)\n",
      "('TObject', 5574)\n",
      "('CreateFileA', 5569)\n",
      "('RtlUnwind', 5425)\n",
      "('LocalFree', 5279)\n",
      "('TlsSetValue', 5199)\n",
      "('WideCharToMultiByte', 5123)\n",
      "('Windows', 5113)\n",
      "('.reloc', 4369)\n",
      "('KERNEL32.dll', 4004)\n",
      "('ADVAPI32.dll', 3858)\n",
      "('.rdata', 3675)\n",
      "('`.data', 3434)\n",
      "('StringX', 3378)\n",
      "('CreateDirectoryA', 3041)\n",
      "('ole32.dll', 2666)\n",
      "('Interface', 2284)\n",
      "('MSVBVM60.DLL', 1969)\n",
      "('Boolean', 1897)\n",
      "('`.rdat', 1709)\n",
      "('SysFreeString', 1697)\n",
      "('GetOEMCP', 1520)\n",
      "('C:\\\\Program Files\\\\Microsoft Visual Studio\\\\VB98\\\\VB6.OLB', 1312)\n",
      "('UpdateResourceA', 1298)\n",
      "('September', 1295)\n",
      "('version', 1290)\n",
      "('[[[[[[', 1243)\n",
      "('~ExC[)', 1193)\n",
      "('{&8p^)j6', 1134)\n",
      "('LookupPrivilegeValueA', 926)\n",
      "('result', 687)\n",
      "('MSVCRT.dll', 644)\n",
      "('MM/dd/yy', 606)\n",
      "('PathFileExistsA', 488)\n",
      "('s`)L$4', 459)\n",
      "('RtlMoveMemory', 456)\n",
      "('t$t#t$l', 408)\n",
      "('shlwapi', 390)\n",
      "('! 6J[[', 361)\n",
      "('lstrcmpiA', 358)\n",
      "('__vbaStrCopy', 354)\n",
      "('nKB\\\\`lll', 334)\n",
      "('<<<<<<<<<<<<<<<<<<<<<<<<<<u9l', 321)\n",
      "('[fPFMlllll', 271)\n",
      "(\"'HSplit\", 259)\n",
      "('VC20XC00', 247)\n",
      "('Dvn+|Ax', 239)\n",
      "('class_main', 230)\n",
      "('8x1Mjc<', 227)\n",
      "('FillRect', 209)\n",
      "('2 x|2 ', 200)\n",
      "('T!pNJBN4', 188)\n",
      "('u_:o 8', 173)\n",
      "('. T:At', 143)\n",
      "('8s9S=A', 143)\n",
      "('invalid window size', 127)\n",
      "('[hU-|x&Q `', 126)\n",
      "(':.datu', 118)\n",
      "('proggam', 105)\n",
      "('\"M#m#F', 100)\n",
      "('.pas7k', 92)\n",
      "('This instance will close.', 73)\n",
      "('Rich(!', 55)\n",
      "('t\"SS9] u', 53)\n",
      "('/scripts/inst_VER103.gz', 509)\n",
      "('x@@P4`/!', 83)\n",
      "('hitechcell.ca', 3)\n",
      "('InternetConnectW', 3)\n",
      "('DefWindowProcW', 128)\n"
     ]
    }
   ],
   "source": [
    "filters = [i[0] for i in stopword if i[1] > 99]\n",
    "for cluster, sig in signature.items():\n",
    "    for token in sig:\n",
    "        if token[1] not in filters:\n",
    "            print(token)"
   ]
  }
 ],
 "metadata": {
  "kernelspec": {
   "display_name": "Python 3",
   "language": "python",
   "name": "python3"
  },
  "language_info": {
   "codemirror_mode": {
    "name": "ipython",
    "version": 3
   },
   "file_extension": ".py",
   "mimetype": "text/x-python",
   "name": "python",
   "nbconvert_exporter": "python",
   "pygments_lexer": "ipython3",
   "version": "3.9.18"
  }
 },
 "nbformat": 4,
 "nbformat_minor": 2
}
