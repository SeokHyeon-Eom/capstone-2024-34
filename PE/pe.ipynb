{
  "cells": [
    {
      "cell_type": "code",
      "execution_count": 7,
      "metadata": {},
      "outputs": [],
      "source": [
        "# import module\n",
        "\n",
        "import pickle\n",
        "from core.MV2 import MV2\n",
        "from core.JIG import JIG\n",
        "from core.SG2 import SG2 \n",
        "from core.AWL import AWL"
      ]
    },
    {
      "cell_type": "code",
      "execution_count": 8,
      "metadata": {},
      "outputs": [],
      "source": [
        "# GIPS의 입력 스트링에서 리스트 혹은 셋으로 변경\n",
        "\n",
        "def main(payload_path, signature_path, stopword_path, virtual_vector_path, big_group_path,\n",
        "         window_size, K, M, # MV2 파라미터\n",
        "         thetaJ,  # JIG 파라미터\n",
        "         vector_size, eps, minpts, ngram, hh1_size, hh2_size, hh3_size, ratio # SG2, AWL 파라미터\n",
        "        ):\n",
        "    \n",
        "    with open(payload_path, 'rb') as f:\n",
        "        payloads_data = pickle.load(f)\n",
        "\n",
        "    print(len(payloads_data))\n",
        "    payloads = [x for x in payloads_data]\n",
        "\n",
        "    print(len(payloads))\n",
        "\n",
        "    # 빅 그룹 식별\n",
        "    minhashed_virtual_vectors = MV2(payloads=payloads, window_size=window_size, K=K, M=M)\n",
        "    with open(virtual_vector_path, 'wb') as f:\n",
        "        pickle.dump(minhashed_virtual_vectors, f)\n",
        "\n",
        "    big_group_indices = JIG(vectors=minhashed_virtual_vectors, thetaJ=thetaJ)\n",
        "    with open(big_group_path, 'wb') as f:\n",
        "        pickle.dump(big_group_indices, f)\n",
        "    \n",
        "    big_group_payloads = []\n",
        "    non_big_group_paylaods = []\n",
        "\n",
        "    for idx, payload in enumerate(payloads):\n",
        "        if idx in big_group_indices:\n",
        "            big_group_payloads.append(payload)\n",
        "        else:\n",
        "            non_big_group_paylaods.append(payload)\n",
        "    \n",
        "    # 시그니처 생성\n",
        "    cluster_signatures = SG2(payloads=big_group_payloads, window_size=window_size, vector_size=vector_size, \n",
        "                             eps=eps, minpts=minpts, ngram=ngram, hh1_size=hh1_size, hh2_size=hh2_size, hh3_size=hh3_size, ratio=ratio)\n",
        "    \n",
        "    with open(signature_path, 'wb') as f:\n",
        "        pickle.dump(cluster_signatures, f)\n",
        "    \n",
        "    stopwords = AWL(payloads=non_big_group_paylaods, ngram=ngram, hh1_size=hh1_size, hh2_size=hh2_size, hh3_size=hh3_size, ratio=ratio)\n",
        "\n",
        "    with open(stopword_path, 'wb') as f:\n",
        "        pickle.dump(stopwords, f)"
      ]
    },
    {
      "cell_type": "code",
      "execution_count": 9,
      "metadata": {},
      "outputs": [],
      "source": [
        "# 파라미터\n",
        "\n",
        "file_path = './datasets/pkl/pe_string.pkl'\n",
        "virtual_vector_path = f'./res/PE_virtual_vector.pkl'\n",
        "big_group_indices_path = f'./res/PE_big_group.pkl'\n",
        "signature_path = f'./res/PE_signature.pkl'\n",
        "stopword_path = f'./res/PE_stopword.pkl'\n",
        "\n",
        "K = 64\n",
        "M = 2 ** 14\n",
        "thetaJ = 0.6\n",
        "window_size = 4\n",
        "vector_size = 512\n",
        "eps = 0.4\n",
        "minpts = 5\n",
        "ngram = 4\n",
        "hh1_size = 3000\n",
        "hh2_size = 3000\n",
        "hh3_size = 3000\n",
        "ratio = 0.1"
      ]
    },
    {
      "cell_type": "code",
      "execution_count": 10,
      "metadata": {},
      "outputs": [
        {
          "name": "stdout",
          "output_type": "stream",
          "text": [
            "29909\n",
            "29909\n",
            "make minhashed vector\n"
          ]
        },
        {
          "name": "stderr",
          "output_type": "stream",
          "text": [
            "100%|██████████| 29909/29909 [06:20<00:00, 78.65it/s] \n"
          ]
        },
        {
          "name": "stdout",
          "output_type": "stream",
          "text": [
            "checking big group\n"
          ]
        },
        {
          "name": "stderr",
          "output_type": "stream",
          "text": [
            "100%|██████████| 29909/29909 [03:00<00:00, 166.05it/s]\n"
          ]
        },
        {
          "name": "stdout",
          "output_type": "stream",
          "text": [
            "chunking\n"
          ]
        },
        {
          "name": "stderr",
          "output_type": "stream",
          "text": [
            "100%|██████████| 23402/23402 [01:05<00:00, 358.37it/s]\n"
          ]
        },
        {
          "name": "stdout",
          "output_type": "stream",
          "text": [
            "start DBSCAN\n",
            "end DBSCAN\n",
            "make signature\n"
          ]
        },
        {
          "name": "stderr",
          "output_type": "stream",
          "text": [
            "100%|██████████| 3/3 [00:32<00:00, 10.93s/it]\n"
          ]
        },
        {
          "name": "stdout",
          "output_type": "stream",
          "text": [
            "end signature\n",
            "start whtie list\n",
            "end white list\n"
          ]
        }
      ],
      "source": [
        "main(payload_path=file_path, signature_path=signature_path, stopword_path=stopword_path,\n",
        "         virtual_vector_path=virtual_vector_path, big_group_path=big_group_indices_path,\n",
        "         window_size=window_size, vector_size=vector_size, K=K, M=M, thetaJ=thetaJ,\n",
        "         eps=eps, minpts=minpts, ngram=ngram, hh1_size=hh2_size, hh2_size=hh2_size, hh3_size=hh3_size, ratio=ratio)\n",
        "    "
      ]
    },
    {
      "cell_type": "code",
      "execution_count": 11,
      "metadata": {},
      "outputs": [],
      "source": [
        "with open('./res/PE_signature.pkl', 'rb') as f:\n",
        "    signature = pickle.load(f)\n",
        "    \n",
        "with open('./res/PE_stopword.pkl', 'rb') as f:\n",
        "    stopword = pickle.load(f)\n",
        "    \n",
        "with open('./res/PE_big_group.pkl', 'rb') as f:\n",
        "    big_group = pickle.load(f)"
      ]
    },
    {
      "cell_type": "code",
      "execution_count": 12,
      "metadata": {},
      "outputs": [
        {
          "name": "stdout",
          "output_type": "stream",
          "text": [
            "23402\n"
          ]
        }
      ],
      "source": [
        "print(len(big_group))"
      ]
    },
    {
      "cell_type": "code",
      "execution_count": 13,
      "metadata": {},
      "outputs": [
        {
          "name": "stdout",
          "output_type": "stream",
          "text": [
            "SIGNAURE\n",
            "cluster: 0, size: 91\n",
            "('Delete', 17858) ('ExitProcess', 13513) ('Exception', 13364) ('System', 12775) ('GetProcAddress', 12421) ('LoadLibraryA', 12023) ('user32', 11764) ('advapi32', 10161) ('RegCloseKey', 9995) ('CloseHandle', 9885) ('!This program cannot be run in DOS mode.', 8859) ('kernel32', 8343) ('WriteFile', 8152) ('VirtualFree', 7675) ('VirtualAlloc', 7296) ('gram must be run ', 7120) ('GetCurrentThread', 6939) ('GetLastError', 6782) ('oleaut32.dll', 6375) ('ReadFile', 6369) ('KERNEL32.DLL', 6353) ('USER32', 6315) ('GetFileSize', 6314) ('FindClose', 6247) ('CharNextA', 6175) ('SetFilePointer', 6154) ('EnterCriticalSection', 5961) ('GetFileType', 5673) ('TObject', 5574) ('CreateFileA', 5569) ('RtlUnwind', 5425) ('LocalFree', 5279) ('TlsSetValue', 5199) ('WideCharToMultiByte', 5123) ('Windows', 5113) ('.reloc', 4369) ('KERNEL32.dll', 4004) ('ADVAPI32.dll', 3858) ('.rdata', 3675) ('`.data', 3434) ('StringX', 3378) ('CreateDirectoryA', 3041) ('ole32.dll', 2666) ('Interface', 2284) ('MSVBVM60.DLL', 1969) ('Boolean', 1897) ('`.rdat', 1709) ('SysFreeString', 1697) ('GetOEMCP', 1520) ('C:\\\\Program Files\\\\Microsoft Visual Studio\\\\VB98\\\\VB6.OLB', 1312) ('UpdateResourceA', 1298) ('September', 1295) ('version', 1290) ('[[[[[[', 1243) ('~ExC[)', 1193) ('{&8p^)j6', 1134) ('LookupPrivilegeValueA', 926) ('result', 687) ('MSVCRT.dll', 644) ('MM/dd/yy', 606) ('PathFileExistsA', 488) ('s`)L$4', 459) ('RtlMoveMemory', 456) ('t$t#t$l', 408) ('shlwapi', 390) ('! 6J[[', 361) ('lstrcmpiA', 358) ('__vbaStrCopy', 354) ('nKB\\\\`lll', 334) ('<<<<<<<<<<<<<<<<<<<<<<<<<<u9l', 321) ('[fPFMlllll', 271) (\"'HSplit\", 259) ('VC20XC00', 247) ('Dvn+|Ax', 239) ('class_main', 230) ('8x1Mjc<', 227) ('FillRect', 209) ('2 x|2 ', 200) ('T!pNJBN4', 188) ('u_:o 8', 173) ('. T:At', 143) ('8s9S=A', 143) ('invalid window size', 127) ('[hU-|x&Q `', 126) (':.datu', 118) ('proggam', 105) ('\"M#m#F', 100) ('.pas7k', 92) ('This instance will close.', 73) ('Rich(!', 55) ('t\"SS9] u', 53) \n",
            "cluster: 1, size: 4\n",
            "('/scripts/inst_VER103.gz', 509) ('x@@P4`/!', 83) ('hitechcell.ca', 3) ('InternetConnectW', 3) \n",
            "cluster: 2, size: 1\n",
            "('DefWindowProcW', 128) \n",
            "\n",
            "STOPWORD\n",
            "('Process', 11570)\n",
            "('Thread', 5103)\n",
            "('CloseHandle', 4801)\n",
            "('KERNEL32', 4415)\n",
            "('!This program cannot be run in DOS mode.', 4140)\n",
            "('WriteFile', 4014)\n",
            "('Exception', 3915)\n",
            "('      ', 3247)\n",
            "('Delete', 3090)\n",
            "('USER32.dll', 3044)\n",
            "('GetProcAddress', 2724)\n",
            "('.reloc', 2220)\n",
            "('SetFilePointer', 2015)\n",
            "('RegCloseKey', 1981)\n",
            "('EnterCriticalSection', 1889)\n",
            "('LeaveCriticalSection', 1782)\n",
            "('FreeLibrary', 1621)\n",
            "('GetModuleHandleA', 1604)\n",
            "('FindClose', 1492)\n",
            "('printf', 1421)\n",
            "('.rdata', 1412)\n",
            "('VirtualFree', 1358)\n",
            "('VirtualAlloc', 1214)\n",
            "('GetFileAttributesA', 589)\n",
            "('FindFirstFileA', 564)\n",
            "('`.rdat', 556)\n",
            "('Default', 540)\n",
            "('`.data', 427)\n",
            "('FindFirstFileW', 413)\n",
            "('shell32.dll', 388)\n",
            "('SysFreeString', 385)\n",
            "('This program must be run under Win32', 326)\n",
            "('.?AVexception@std@@', 180)\n",
            "('a[$u35*Y.   ci$Cn*948Lt:  . .~', 85)\n",
            "('EVENT_SINK_QueryInterface', 65)\n",
            "('wsock32.dll', 63)\n",
            "('proggam', 22)\n"
          ]
        }
      ],
      "source": [
        "signatures = dict()\n",
        "\n",
        "print('SIGNAURE')\n",
        "for idx, sig in enumerate(signature.values()):\n",
        "    print(f'cluster: {idx}, size: {len(sig)}')\n",
        "    for j in sig:\n",
        "        if j[0] not in signatures:\n",
        "            signatures[j[0]] = 0\n",
        "        signatures[j[0]] += j[1]\n",
        "        print(j, end=\" \")\n",
        "    print()\n",
        "    \n",
        "\n",
        "\n",
        "print('\\nSTOPWORD')\n",
        "for i in stopword:\n",
        "    print(i)"
      ]
    },
    {
      "cell_type": "code",
      "execution_count": 14,
      "metadata": {},
      "outputs": [
        {
          "name": "stdout",
          "output_type": "stream",
          "text": [
            "Delete:\t17858\n",
            "ExitProcess:\t13513\n",
            "Exception:\t13364\n",
            "System:\t12775\n",
            "GetProcAddress:\t12421\n",
            "LoadLibraryA:\t12023\n",
            "user32:\t11764\n",
            "advapi32:\t10161\n",
            "RegCloseKey:\t9995\n",
            "CloseHandle:\t9885\n",
            "!This program cannot be run in DOS mode.:\t8859\n",
            "kernel32:\t8343\n",
            "WriteFile:\t8152\n",
            "VirtualFree:\t7675\n",
            "VirtualAlloc:\t7296\n",
            "gram must be run :\t7120\n",
            "GetCurrentThread:\t6939\n",
            "GetLastError:\t6782\n",
            "oleaut32.dll:\t6375\n",
            "ReadFile:\t6369\n",
            "KERNEL32.DLL:\t6353\n",
            "USER32:\t6315\n",
            "GetFileSize:\t6314\n",
            "FindClose:\t6247\n",
            "CharNextA:\t6175\n",
            "SetFilePointer:\t6154\n",
            "EnterCriticalSection:\t5961\n",
            "GetFileType:\t5673\n",
            "TObject:\t5574\n",
            "CreateFileA:\t5569\n",
            "RtlUnwind:\t5425\n",
            "LocalFree:\t5279\n",
            "TlsSetValue:\t5199\n",
            "WideCharToMultiByte:\t5123\n",
            "Windows:\t5113\n",
            ".reloc:\t4369\n",
            "KERNEL32.dll:\t4004\n",
            "ADVAPI32.dll:\t3858\n",
            ".rdata:\t3675\n",
            "`.data:\t3434\n",
            "StringX:\t3378\n",
            "CreateDirectoryA:\t3041\n",
            "ole32.dll:\t2666\n",
            "Interface:\t2284\n",
            "MSVBVM60.DLL:\t1969\n",
            "Boolean:\t1897\n",
            "`.rdat:\t1709\n",
            "SysFreeString:\t1697\n",
            "GetOEMCP:\t1520\n",
            "C:\\Program Files\\Microsoft Visual Studio\\VB98\\VB6.OLB:\t1312\n",
            "UpdateResourceA:\t1298\n",
            "September:\t1295\n",
            "version:\t1290\n",
            "[[[[[[:\t1243\n",
            "~ExC[):\t1193\n",
            "{&8p^)j6:\t1134\n",
            "LookupPrivilegeValueA:\t926\n",
            "result:\t687\n",
            "MSVCRT.dll:\t644\n",
            "MM/dd/yy:\t606\n",
            "PathFileExistsA:\t488\n",
            "s`)L$4:\t459\n",
            "RtlMoveMemory:\t456\n",
            "t$t#t$l:\t408\n",
            "shlwapi:\t390\n",
            "! 6J[[:\t361\n",
            "lstrcmpiA:\t358\n",
            "__vbaStrCopy:\t354\n",
            "nKB\\`lll:\t334\n",
            "<<<<<<<<<<<<<<<<<<<<<<<<<<u9l:\t321\n",
            "[fPFMlllll:\t271\n",
            "'HSplit:\t259\n",
            "VC20XC00:\t247\n",
            "Dvn+|Ax:\t239\n",
            "class_main:\t230\n",
            "8x1Mjc<:\t227\n",
            "FillRect:\t209\n",
            "2 x|2 :\t200\n",
            "T!pNJBN4:\t188\n",
            "u_:o 8:\t173\n",
            ". T:At:\t143\n",
            "8s9S=A:\t143\n",
            "invalid window size:\t127\n",
            "[hU-|x&Q `:\t126\n",
            ":.datu:\t118\n",
            "proggam:\t105\n",
            "\"M#m#F:\t100\n",
            ".pas7k:\t92\n",
            "This instance will close.:\t73\n",
            "Rich(!:\t55\n",
            "t\"SS9] u:\t53\n",
            "/scripts/inst_VER103.gz:\t509\n",
            "x@@P4`/!:\t83\n",
            "hitechcell.ca:\t3\n",
            "InternetConnectW:\t3\n",
            "DefWindowProcW:\t128\n"
          ]
        }
      ],
      "source": [
        "for sig, cnt in signatures.items():\n",
        "\tprint(f'{sig}:\\t{cnt}')"
      ]
    },
    {
      "cell_type": "code",
      "execution_count": 15,
      "metadata": {},
      "outputs": [
        {
          "name": "stdout",
          "output_type": "stream",
          "text": [
            "ExitProcess:\t13513\n",
            "System:\t12775\n",
            "LoadLibraryA:\t12023\n",
            "user32:\t11764\n",
            "advapi32:\t10161\n",
            "kernel32:\t8343\n",
            "gram must be run :\t7120\n",
            "GetCurrentThread:\t6939\n",
            "GetLastError:\t6782\n",
            "oleaut32.dll:\t6375\n",
            "ReadFile:\t6369\n",
            "KERNEL32.DLL:\t6353\n",
            "USER32:\t6315\n",
            "GetFileSize:\t6314\n",
            "CharNextA:\t6175\n",
            "GetFileType:\t5673\n",
            "TObject:\t5574\n",
            "CreateFileA:\t5569\n",
            "RtlUnwind:\t5425\n",
            "LocalFree:\t5279\n",
            "TlsSetValue:\t5199\n",
            "WideCharToMultiByte:\t5123\n",
            "Windows:\t5113\n",
            "KERNEL32.dll:\t4004\n",
            "ADVAPI32.dll:\t3858\n",
            "StringX:\t3378\n",
            "CreateDirectoryA:\t3041\n",
            "ole32.dll:\t2666\n",
            "Interface:\t2284\n",
            "MSVBVM60.DLL:\t1969\n",
            "Boolean:\t1897\n",
            "GetOEMCP:\t1520\n",
            "C:\\Program Files\\Microsoft Visual Studio\\VB98\\VB6.OLB:\t1312\n",
            "UpdateResourceA:\t1298\n",
            "September:\t1295\n",
            "version:\t1290\n",
            "[[[[[[:\t1243\n",
            "~ExC[):\t1193\n",
            "{&8p^)j6:\t1134\n",
            "LookupPrivilegeValueA:\t926\n",
            "result:\t687\n",
            "MSVCRT.dll:\t644\n",
            "MM/dd/yy:\t606\n",
            "PathFileExistsA:\t488\n",
            "s`)L$4:\t459\n",
            "RtlMoveMemory:\t456\n",
            "t$t#t$l:\t408\n",
            "shlwapi:\t390\n",
            "! 6J[[:\t361\n",
            "lstrcmpiA:\t358\n",
            "__vbaStrCopy:\t354\n",
            "nKB\\`lll:\t334\n",
            "<<<<<<<<<<<<<<<<<<<<<<<<<<u9l:\t321\n",
            "[fPFMlllll:\t271\n",
            "'HSplit:\t259\n",
            "VC20XC00:\t247\n",
            "Dvn+|Ax:\t239\n",
            "class_main:\t230\n",
            "8x1Mjc<:\t227\n",
            "FillRect:\t209\n",
            "2 x|2 :\t200\n",
            "T!pNJBN4:\t188\n",
            "u_:o 8:\t173\n",
            ". T:At:\t143\n",
            "8s9S=A:\t143\n",
            "invalid window size:\t127\n",
            "[hU-|x&Q `:\t126\n",
            ":.datu:\t118\n",
            "proggam:\t105\n",
            "\"M#m#F:\t100\n",
            ".pas7k:\t92\n",
            "This instance will close.:\t73\n",
            "Rich(!:\t55\n",
            "t\"SS9] u:\t53\n",
            "/scripts/inst_VER103.gz:\t509\n",
            "x@@P4`/!:\t83\n",
            "hitechcell.ca:\t3\n",
            "InternetConnectW:\t3\n",
            "DefWindowProcW:\t128\n"
          ]
        }
      ],
      "source": [
        "filters = [i[0] for i in stopword if i[1] > 99]\n",
        "stopword_ = 0\n",
        "\n",
        "for sig, cnt in signatures.items():\n",
        "\tif sig not in filters:\n",
        "\t\tprint(f'{sig}:\\t{cnt}')\n",
        "\telse:\n",
        "\t\tstopword_ += 1"
      ]
    },
    {
      "cell_type": "code",
      "execution_count": 16,
      "metadata": {},
      "outputs": [
        {
          "name": "stdout",
          "output_type": "stream",
          "text": [
            "17\n"
          ]
        }
      ],
      "source": [
        "print(stopword_)"
      ]
    },
    {
      "cell_type": "code",
      "execution_count": null,
      "metadata": {},
      "outputs": [],
      "source": []
    }
  ],
  "metadata": {
    "kernelspec": {
      "display_name": "Python 3",
      "language": "python",
      "name": "python3"
    },
    "language_info": {
      "codemirror_mode": {
        "name": "ipython",
        "version": 3
      },
      "file_extension": ".py",
      "mimetype": "text/x-python",
      "name": "python",
      "nbconvert_exporter": "python",
      "pygments_lexer": "ipython3",
      "version": "3.9.18"
    }
  },
  "nbformat": 4,
  "nbformat_minor": 2
}
