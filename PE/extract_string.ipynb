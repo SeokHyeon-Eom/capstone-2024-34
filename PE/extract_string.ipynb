{
 "cells": [
  {
   "cell_type": "code",
   "execution_count": 14,
   "metadata": {},
   "outputs": [],
   "source": [
    "# import module\n",
    "\n",
    "import os\n",
    "from tqdm import tqdm\n",
    "from GIPS.core.feature_extractor import extract_string\n",
    "import pickle"
   ]
  },
  {
   "cell_type": "code",
   "execution_count": 2,
   "metadata": {},
   "outputs": [],
   "source": [
    "# 악성 코드 파일 경로\n",
    "\n",
    "PE_malware = './datasets/PE_malware'"
   ]
  },
  {
   "cell_type": "code",
   "execution_count": 5,
   "metadata": {},
   "outputs": [],
   "source": [
    "# 악성 파일\n",
    "\n",
    "malware_dir = os.listdir(PE_malware)"
   ]
  },
  {
   "cell_type": "code",
   "execution_count": 9,
   "metadata": {},
   "outputs": [
    {
     "name": "stderr",
     "output_type": "stream",
     "text": [
      "100%|██████████| 29909/29909 [04:06<00:00, 121.51it/s]\n"
     ]
    }
   ],
   "source": [
    "# 피처 생성\n",
    "\n",
    "PE_strings = []\n",
    "\n",
    "for malware in tqdm(malware_dir):\n",
    "    strings = extract_string(os.path.join(PE_malware, malware))\n",
    "    PE_strings.append(strings)"
   ]
  },
  {
   "cell_type": "code",
   "execution_count": 12,
   "metadata": {},
   "outputs": [],
   "source": [
    "# 파일 저장\n",
    "\n",
    "with open('./datasets/pkl/pe_string.pkl', 'wb') as f:\n",
    "    pickle.dump(PE_strings, f)"
   ]
  },
  {
   "cell_type": "code",
   "execution_count": null,
   "metadata": {},
   "outputs": [],
   "source": []
  }
 ],
 "metadata": {
  "kernelspec": {
   "display_name": "base",
   "language": "python",
   "name": "python3"
  },
  "language_info": {
   "codemirror_mode": {
    "name": "ipython",
    "version": 3
   },
   "file_extension": ".py",
   "mimetype": "text/x-python",
   "name": "python",
   "nbconvert_exporter": "python",
   "pygments_lexer": "ipython3",
   "version": "3.9.18"
  }
 },
 "nbformat": 4,
 "nbformat_minor": 2
}
