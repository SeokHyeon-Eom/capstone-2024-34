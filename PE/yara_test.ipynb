{
 "cells": [
  {
   "cell_type": "code",
   "execution_count": 1,
   "metadata": {},
   "outputs": [],
   "source": [
    "import yara_detect\n",
    "import json\n",
    "\n",
    "exe_path = './yaratest/exe'\n",
    "yar_path = './yaratest/yar/'"
   ]
  },
  {
   "cell_type": "code",
   "execution_count": 2,
   "metadata": {},
   "outputs": [],
   "source": [
    "data = yara_detect.detect(exe_folder_path=exe_path,yar_folder_path=yar_path)"
   ]
  },
  {
   "cell_type": "code",
   "execution_count": 4,
   "metadata": {},
   "outputs": [
    {
     "name": "stdout",
     "output_type": "stream",
     "text": [
      "{\n",
      "    \"path\": \"./yaratest/exe\",\n",
      "    \"data\": [\n",
      "        {\n",
      "            \"id\": 0,\n",
      "            \"filename\": \"SteamSetup.exe\",\n",
      "            \"attack\": 0,\n",
      "            \"yar\": []\n",
      "        },\n",
      "        {\n",
      "            \"id\": 1,\n",
      "            \"filename\": \"VC_redist.x64.exe\",\n",
      "            \"attack\": 1,\n",
      "            \"yar\": [\n",
      "                \"sample\"\n",
      "            ]\n",
      "        }\n",
      "    ]\n",
      "}\n"
     ]
    }
   ],
   "source": [
    "print(data)"
   ]
  }
 ],
 "metadata": {
  "kernelspec": {
   "display_name": "Python 3",
   "language": "python",
   "name": "python3"
  },
  "language_info": {
   "codemirror_mode": {
    "name": "ipython",
    "version": 3
   },
   "file_extension": ".py",
   "mimetype": "text/x-python",
   "name": "python",
   "nbconvert_exporter": "python",
   "pygments_lexer": "ipython3",
   "version": "3.10.10"
  }
 },
 "nbformat": 4,
 "nbformat_minor": 2
}
