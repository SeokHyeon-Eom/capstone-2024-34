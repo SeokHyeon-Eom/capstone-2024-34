{
 "cells": [
  {
   "cell_type": "code",
   "execution_count": 15,
   "metadata": {},
   "outputs": [],
   "source": [
    "from feature_extractor import extract_string_lower\n",
    "import os\n",
    "from tqdm import tqdm\n",
    "import pickle"
   ]
  },
  {
   "cell_type": "code",
   "execution_count": 16,
   "metadata": {},
   "outputs": [],
   "source": [
    "from core.MV2 import MV2\n",
    "from core.JIG import JIG\n",
    "from core.SG2 import SG2\n",
    "\n",
    "def GIPS(str_feature,\n",
    "\t\t window_size, K, M, # MV2 파라미터\n",
    "\t\t thetaJ,  # JIG 파라미터\n",
    "\t\t vector_size, eps, minpts, ngram, hh1_size, hh2_size, hh3_size, ratio # SG2, AWL 파라미터\n",
    "\t\t):\n",
    "\n",
    "\tprint(f'data no: {len(str_feature)}')\n",
    "\n",
    "\tstr_feature = list(str_feature)\n",
    "\tfor feature in str_feature:\n",
    "\t\tfeature = list(feature)\n",
    "\n",
    "\t# 빅 그룹 식별\n",
    "\tminhashed_virtual_vectors = MV2(payloads=str_feature, window_size=window_size, K=K, M=M)\n",
    "\n",
    "\tbig_group_indices = JIG(vectors=minhashed_virtual_vectors, thetaJ=thetaJ)\n",
    "  \n",
    "\t\n",
    "\tbig_group_payloads = []\n",
    "\tnon_big_group_paylaods = []\n",
    "\n",
    "\tfor idx, payload in enumerate(str_feature):\n",
    "\t\tif idx in big_group_indices:\n",
    "\t\t\tbig_group_payloads.append(payload)\n",
    "\t\telse:\n",
    "\t\t\tnon_big_group_paylaods.append(payload)\n",
    "\t\n",
    "\t# 시그니처 생성\n",
    "\tcluster_signatures = SG2(payloads=big_group_payloads, window_size=window_size, vector_size=vector_size, \n",
    "\t\t\t\t\t\t\t eps=eps, minpts=minpts, ngram=ngram, hh1_size=hh1_size, hh2_size=hh2_size, hh3_size=hh3_size, ratio=ratio)\n",
    "\n",
    "\treturn cluster_signatures"
   ]
  },
  {
   "cell_type": "code",
   "execution_count": 17,
   "metadata": {},
   "outputs": [],
   "source": [
    "malware_direc = './datasets/PE_malware/'\n",
    "benign_direc = './datasets/ben/'"
   ]
  },
  {
   "cell_type": "code",
   "execution_count": 18,
   "metadata": {},
   "outputs": [
    {
     "name": "stdout",
     "output_type": "stream",
     "text": [
      "29909 29909\n"
     ]
    }
   ],
   "source": [
    "malware_path = os.listdir(malware_direc)\n",
    "\n",
    "with open('./datasets/pkl/benign_md5.pkl', 'rb') as f:\n",
    "    benign_path = pickle.load(f)\n",
    "\n",
    "\n",
    "malware_path.remove('README.md')\n",
    "\n",
    "print(len(malware_path), len(benign_path))"
   ]
  },
  {
   "cell_type": "code",
   "execution_count": 19,
   "metadata": {},
   "outputs": [
    {
     "ename": "KeyboardInterrupt",
     "evalue": "",
     "output_type": "error",
     "traceback": [
      "\u001b[1;31m---------------------------------------------------------------------------\u001b[0m",
      "\u001b[1;31mKeyboardInterrupt\u001b[0m                         Traceback (most recent call last)",
      "\u001b[1;31mKeyboardInterrupt\u001b[0m: "
     ]
    }
   ],
   "source": [
    "benign_strings = [] # 전체 스트링 저장\n",
    "white = [] # train 화이트 리스트\n",
    "benign_test = [] # test benign\n",
    "\n",
    "for path_ in tqdm(benign_path[: int(len(benign_path) * 0.8)]):\n",
    "\tpath = os.path.join(benign_direc, path_)\n",
    "\t\n",
    "\tres = extract_string_lower(path=path)\n",
    "\tbenign_strings.append(res)\n",
    "\twhite.append(res)"
   ]
  },
  {
   "cell_type": "code",
   "execution_count": null,
   "metadata": {},
   "outputs": [],
   "source": [
    "white_list = set()\n",
    "\n",
    "for inner in tqdm(white):\n",
    "    white_list.update(inner)\n",
    "        \n",
    "print(len(white_list))"
   ]
  },
  {
   "cell_type": "code",
   "execution_count": null,
   "metadata": {},
   "outputs": [],
   "source": [
    "malware_strings = [] # 전체 스트링 저장\n",
    "malware_train = [] # train 화이트 리스트\n",
    "malware_test = [] # test malware\n",
    "benign_test = [] # test benign\n",
    "\n",
    "for path_ in tqdm(malware_path[: int(len(malware_path) * 0.8)]):\n",
    "\tpath = os.path.join(malware_direc, path_)\n",
    "\t\n",
    "\tres = extract_string_lower(path=path)\n",
    "\tmalware_strings.append(res)\n",
    "\n",
    "\ttmp = []\n",
    "\tfor string in res:\n",
    "\t\tif string not in white_list:\n",
    "\t\t\ttmp.append(string)\n",
    "\n",
    "\tmalware_train.append(tmp)\n",
    "\n",
    "for path_ in tqdm(malware_path[int(len(malware_path) * 0.8): ]):\n",
    "\tpath = os.path.join(malware_direc, path_)\n",
    "\t\n",
    "\tres = extract_string_lower(path=path)\n",
    "\tmalware_strings.append(res)\n",
    "\n",
    "\ttmp = []\n",
    "\tfor string in res:\n",
    "\t\tif string not in white_list:\n",
    "\t\t\ttmp.append(string)\n",
    "\n",
    "\tmalware_test.append(tmp)\n",
    "\n",
    "for path_ in tqdm(benign_path[int(len(benign_path) * 0.8): ]):\n",
    "\tpath = os.path.join(benign_direc, path_)\n",
    "\t\n",
    "\tres = extract_string_lower(path=path)\n",
    "\tbenign_strings.append(res)\n",
    "\n",
    "\ttmp = []\n",
    "\tfor string in res:\n",
    "\t\tif string not in white_list:\n",
    "\t\t\ttmp.append(string)\n",
    "\n",
    "\tbenign_test.append(tmp)"
   ]
  },
  {
   "cell_type": "code",
   "execution_count": null,
   "metadata": {},
   "outputs": [],
   "source": [
    "print(len(benign_strings), len(malware_strings))\n",
    "\n",
    "with open('./datasets/pkl/low_benign_string.pkl', 'wb') as f:\n",
    "    pickle.dump(benign_strings, f)\n",
    "    \n",
    "with open('./datasets/pkl/low_malware_string.pkl', 'wb') as f:\n",
    "    pickle.dump(malware_strings, f)"
   ]
  },
  {
   "cell_type": "code",
   "execution_count": null,
   "metadata": {},
   "outputs": [],
   "source": [
    "# parameters\n",
    "\n",
    "K = 64\n",
    "M = 2 ** 14\n",
    "thetaJ = 0.6\n",
    "window_size = 4\n",
    "vector_size = 512\n",
    "eps = 0.4\n",
    "minpts = 5\n",
    "ngram = 4\n",
    "hh1_size = 5000\n",
    "hh2_size = 5000\n",
    "hh3_size = 5000\n",
    "ratio = 0.8"
   ]
  },
  {
   "cell_type": "code",
   "execution_count": null,
   "metadata": {},
   "outputs": [],
   "source": [
    "cluster_signatures = GIPS(str_feature=malware_train, window_size=window_size, K=K, M=M, thetaJ=thetaJ, vector_size=vector_size,\n",
    "    eps=eps, minpts=minpts, ngram=ngram, hh1_size=hh1_size, hh2_size=hh2_size, hh3_size=hh3_size, ratio=ratio\n",
    ")"
   ]
  },
  {
   "cell_type": "code",
   "execution_count": null,
   "metadata": {},
   "outputs": [],
   "source": [
    "signatures = set()\n",
    "\n",
    "for signature_list in cluster_signatures.values():\n",
    "\t\tfor i in signature_list:\n",
    "\t\t\tsignatures.add(i[0])"
   ]
  },
  {
   "cell_type": "code",
   "execution_count": null,
   "metadata": {},
   "outputs": [],
   "source": [
    "print(len(signatures))"
   ]
  },
  {
   "cell_type": "code",
   "execution_count": null,
   "metadata": {},
   "outputs": [],
   "source": [
    "for i in range(1, 20):\n",
    "\tres = []\n",
    "\tTP = 0\n",
    "\tFP = 0\n",
    "\tTN = 0\n",
    "\tFN = 0\n",
    "\n",
    "\tprint('N', i)\n",
    "\n",
    "\tfor strings in malware_test:\n",
    "\t\tcnt = 0\n",
    "\t\tfor string in strings:\n",
    "\t\t\tif string in signatures:\n",
    "\t\t\t\tcnt += 1\n",
    "\t\tif cnt >= i:\n",
    "\t\t\tTP += 1\n",
    "\t\telse:\n",
    "\t\t\tFN += 1\n",
    "\n",
    "\tfor strings in benign_test:\n",
    "\t\tcnt = 0\n",
    "\t\tfor string in strings:\n",
    "\t\t\tif string in signatures:\n",
    "\t\t\t\tcnt += 1\t\t\n",
    "\t\tif cnt >= i:\n",
    "\t\t\tFP += 1\n",
    "\t\telse:\n",
    "\t\t\tTN += 1\n",
    "\t\t\n",
    "\t# print(sum(benign) / len(benign))\n",
    "\tprint(f'TP: {TP}, FN: {FN}')\n",
    "\tprint(f'FP: {FP}, TN: {TN}')\n",
    "\n",
    "\tprecision = round(TP / (TP + FP) , 4)\n",
    "\trecall = round(TP / (TP + FN), 4)\n",
    "\n",
    "\tprint(f'precision: {precision}, recall: {recall}')\n",
    "\tprint('f1-score:', round(2 * (precision * recall) / (precision + recall), 4))\n",
    "\tprint()"
   ]
  },
  {
   "cell_type": "markdown",
   "metadata": {},
   "source": [
    "# THH 크기 늘리기"
   ]
  },
  {
   "cell_type": "code",
   "execution_count": null,
   "metadata": {},
   "outputs": [],
   "source": [
    "with open('./datasets/pkl/low_benign_string.pkl', 'rb') as f:\n",
    "    benign_strings = pickle.load(f)\n",
    "    \n",
    "with open('./datasets/pkl/low_malware_string.pkl', 'rb') as f:\n",
    "    malware_strings = pickle.load(f)"
   ]
  },
  {
   "cell_type": "code",
   "execution_count": null,
   "metadata": {},
   "outputs": [],
   "source": [
    "import random\n",
    "\n",
    "random.Random(42).shuffle(benign_strings)\n",
    "random.Random(42).shuffle(malware_strings)"
   ]
  },
  {
   "cell_type": "code",
   "execution_count": null,
   "metadata": {},
   "outputs": [],
   "source": [
    "white_list = dict()\n",
    "\n",
    "for inner in tqdm(benign_strings[: int(len(benign_strings) * 0.8)]):\n",
    "    for i in inner:\n",
    "        if i not in white_list:\n",
    "            white_list[i] = 0\n",
    "        white_list[i] += 1\n",
    "        \n",
    "print(len(white_list))"
   ]
  },
  {
   "cell_type": "code",
   "execution_count": null,
   "metadata": {},
   "outputs": [],
   "source": [
    "whitelist = set([i[0] for i in white_list.items() if i[1] > 0])\n",
    "print(len(whitelist))"
   ]
  },
  {
   "cell_type": "code",
   "execution_count": null,
   "metadata": {},
   "outputs": [],
   "source": [
    "malware_train = [] # train 화이트 리스트\n",
    "malware_test = [] # test malware\n",
    "benign_test = []\n",
    "\n",
    "for res in tqdm(malware_strings[: int(len(malware_strings) * 0.8)]):\n",
    "\t\n",
    "\ttmp = []\n",
    "\tfor string in res:\n",
    "\t\tif string not in whitelist:\n",
    "\t\t\ttmp.append(string)\n",
    "\n",
    "\tmalware_train.append(tmp)\n",
    "\n",
    "for res in tqdm(malware_strings[int(len(malware_strings) * 0.8): ]):\n",
    "\n",
    "\ttmp = []\n",
    "\tfor string in res:\n",
    "\t\tif string not in whitelist:\n",
    "\t\t\ttmp.append(string)\n",
    "\n",
    "\tmalware_test.append(tmp)\n",
    "\n",
    "for res in tqdm(benign_strings[int(len(benign_strings) * 0.8): ]):\n",
    "\n",
    "\ttmp = []\n",
    "\tfor string in res:\n",
    "\t\tif string not in whitelist:\n",
    "\t\t\ttmp.append(string)\n",
    "\n",
    "\tbenign_test.append(tmp)"
   ]
  },
  {
   "cell_type": "code",
   "execution_count": null,
   "metadata": {},
   "outputs": [],
   "source": [
    "# parameters\n",
    "\n",
    "K = 64\n",
    "M = 2 ** 14\n",
    "thetaJ = 0.6\n",
    "window_size = 4\n",
    "vector_size = 512\n",
    "eps = 0.4\n",
    "minpts = 5\n",
    "ngram = 4\n",
    "hh1_size = 15000\n",
    "hh2_size = 15000\n",
    "hh3_size = 5000\n",
    "ratio = 0.4"
   ]
  },
  {
   "cell_type": "code",
   "execution_count": null,
   "metadata": {},
   "outputs": [],
   "source": [
    "cluster_signatures = GIPS(str_feature=malware_train, window_size=window_size, K=K, M=M, thetaJ=thetaJ, vector_size=vector_size,\n",
    "    eps=eps, minpts=minpts, ngram=ngram, hh1_size=hh1_size, hh2_size=hh2_size, hh3_size=hh3_size, ratio=ratio\n",
    ")"
   ]
  },
  {
   "cell_type": "code",
   "execution_count": null,
   "metadata": {},
   "outputs": [],
   "source": [
    "signatures = set()\n",
    "\n",
    "for signature_list in cluster_signatures.values():\n",
    "\t\tprint(len(signature_list))\n",
    "\t\tfor i in signature_list:\n",
    "\t\t\tsignatures.add(i[0])\n",
    "\n",
    "print(len(signatures))"
   ]
  },
  {
   "cell_type": "code",
   "execution_count": null,
   "metadata": {},
   "outputs": [],
   "source": [
    "text = ''\n",
    "\n",
    "for i in signatures:\n",
    "    text += (i + '\\n')\n",
    "    \n",
    "f = open('./signatures.txt', 'w', encoding='utf-8')\n",
    "f.write(text)"
   ]
  },
  {
   "cell_type": "code",
   "execution_count": null,
   "metadata": {},
   "outputs": [],
   "source": [
    "for i in range(1, 20):\n",
    "\tres = []\n",
    "\tTP = 0\n",
    "\tFP = 0\n",
    "\tTN = 0\n",
    "\tFN = 0\n",
    "\n",
    "\tprint('N', i)\n",
    "\n",
    "\tfor strings in malware_test:\n",
    "\t\tcnt = 0\n",
    "\t\tfor string in strings:\n",
    "\t\t\tif string in signatures:\n",
    "\t\t\t\tcnt += 1\n",
    "\t\tif cnt >= i:\n",
    "\t\t\tTP += 1\n",
    "\t\telse:\n",
    "\t\t\tFN += 1\n",
    "\n",
    "\tfor strings in benign_test:\n",
    "\t\tcnt = 0\n",
    "\t\tfor string in strings:\n",
    "\t\t\tif string in signatures:\n",
    "\t\t\t\tcnt += 1\t\t\n",
    "\t\tif cnt >= i:\n",
    "\t\t\tFP += 1\n",
    "\t\telse:\n",
    "\t\t\tTN += 1\n",
    "\t\t\n",
    "\t# print(sum(benign) / len(benign))\n",
    "\tprint(f'TP: {TP}\\tFN: {FN}')\n",
    "\tprint(f'FP: {FP}\\t\\tTN: {TN}')\n",
    "\n",
    "\tprecision = round(TP / (TP + FP) , 4)\n",
    "\trecall = round(TP / (TP + FN), 4)\n",
    "\n",
    "\tprint(f'precision: {precision}, recall: {recall}')\n",
    "\tprint('f1-score:', round(2 * (precision * recall) / (precision + recall), 4))\n",
    "\tprint()"
   ]
  },
  {
   "cell_type": "code",
   "execution_count": null,
   "metadata": {},
   "outputs": [],
   "source": [
    "dark_list = dict()\n",
    "\n",
    "for inner in tqdm(malware_strings[: int(len(malware_strings) * 0.8)]):\n",
    "    for i in inner:\n",
    "        if i not in dark_list:\n",
    "            dark_list[i] = 0\n",
    "        dark_list[i] += 1\n",
    "        \n",
    "print(len(dark_list))"
   ]
  },
  {
   "cell_type": "code",
   "execution_count": null,
   "metadata": {},
   "outputs": [],
   "source": [
    "cnt = 0\n",
    "\n",
    "dark_lists = []\n",
    "\n",
    "for i in sorted([i for i in dark_list.items()], key=lambda x: -x[1]):\n",
    "\tif i[0] not in white_list:\n",
    "\t\tdark_lists.append(i)\n",
    "\n",
    "print(len(dark_lists))"
   ]
  },
  {
   "cell_type": "code",
   "execution_count": null,
   "metadata": {},
   "outputs": [],
   "source": [
    "cnt = 0\n",
    "\n",
    "nomi_sig = set()\n",
    "\n",
    "threshold = (int(len(malware_strings) * 0.8) * 0.01)\n",
    "\n",
    "for i in dark_lists:\n",
    "    if i[1] > threshold:\n",
    "        nomi_sig.add(i)\n",
    "\n",
    "print(len(nomi_sig))\n",
    "print(len(dark_lists) - len(nomi_sig))"
   ]
  },
  {
   "cell_type": "code",
   "execution_count": null,
   "metadata": {},
   "outputs": [],
   "source": [
    "cnt_200s = set([i[0] for i in nomi_sig])\n",
    "\n",
    "cnt = 0\n",
    "\n",
    "for inner in tqdm(malware_strings[int(len(malware_strings) * 0.8): ]):\n",
    "\tfor i in inner:\n",
    "\t\tif i in cnt_200s:\n",
    "\t\t\tcnt += 1\n",
    "\t\t\tbreak\n",
    "\n",
    "print(cnt)"
   ]
  },
  {
   "cell_type": "code",
   "execution_count": null,
   "metadata": {},
   "outputs": [],
   "source": []
  }
 ],
 "metadata": {
  "kernelspec": {
   "display_name": "base",
   "language": "python",
   "name": "python3"
  },
  "language_info": {
   "codemirror_mode": {
    "name": "ipython",
    "version": 3
   },
   "file_extension": ".py",
   "mimetype": "text/x-python",
   "name": "python",
   "nbconvert_exporter": "python",
   "pygments_lexer": "ipython3",
   "version": "3.9.18"
  }
 },
 "nbformat": 4,
 "nbformat_minor": 2
}
