{
 "cells": [
  {
   "cell_type": "code",
   "execution_count": 76,
   "id": "24643e3b",
   "metadata": {},
   "outputs": [],
   "source": [
    "import os\n",
    "import pickle\n",
    "\n",
    "from feature_extractor import extract_feature\n",
    "from tqdm import tqdm"
   ]
  },
  {
   "cell_type": "code",
   "execution_count": 73,
   "id": "3a1a5986",
   "metadata": {},
   "outputs": [],
   "source": [
    " # 라벨 가져오기\n",
    "\n",
    "mal_dict = pickle.load(open(\"./datasets/pkl/pe_labels.pkl\", \"rb\"))"
   ]
  },
  {
   "cell_type": "code",
   "execution_count": 40,
   "id": "b07b4104",
   "metadata": {},
   "outputs": [],
   "source": [
    "mal_dir = \"./datasets/PE_malware/\" # PE 파일 있는 디렉토리"
   ]
  },
  {
   "cell_type": "code",
   "execution_count": 45,
   "id": "04561bc2",
   "metadata": {},
   "outputs": [
    {
     "name": "stdout",
     "output_type": "stream",
     "text": [
      "29909\n"
     ]
    }
   ],
   "source": [
    "print(len(os.listdir(mal_dir)))"
   ]
  },
  {
   "cell_type": "code",
   "execution_count": 47,
   "id": "10ba7528",
   "metadata": {},
   "outputs": [
    {
     "name": "stderr",
     "output_type": "stream",
     "text": [
      "  0%|          | 0/29909 [00:00<?, ?it/s]"
     ]
    },
    {
     "name": "stderr",
     "output_type": "stream",
     "text": [
      "100%|██████████| 29909/29909 [16:33<00:00, 30.09it/s] \n"
     ]
    }
   ],
   "source": [
    "data = []\n",
    "labels = []\n",
    "\n",
    "for mal_file in tqdm(os.listdir(mal_dir)):\n",
    "\n",
    "\tmal_path = os.path.join(mal_dir, mal_file)\n",
    "\tos.chmod(mal_path, 0o700)\n",
    "\tret = extract_feature(mal_path)\n",
    "\tvec = [v for _, v in ret.items()]\n",
    "\tdata.append(ret)\n",
    "\tlabels.append(mal_dict[mal_file])"
   ]
  },
  {
   "cell_type": "code",
   "execution_count": 70,
   "id": "c9a97c30",
   "metadata": {},
   "outputs": [
    {
     "name": "stderr",
     "output_type": "stream",
     "text": [
      "100%|██████████| 1/1 [00:00<00:00, 22.82it/s]\n"
     ]
    }
   ],
   "source": [
    "key_list = []\n",
    "\n",
    "for mal_file in tqdm(os.listdir(mal_dir)[: 1]):\n",
    "\n",
    "\tmal_path = os.path.join(mal_dir, mal_file)\n",
    "\tos.chmod(mal_path, 0o700)\n",
    "\tret = extract_feature(mal_path)\n",
    "\tkey_list = list(ret.keys())"
   ]
  },
  {
   "cell_type": "code",
   "execution_count": 75,
   "id": "653d7ba9",
   "metadata": {},
   "outputs": [
    {
     "data": {
      "text/plain": [
       "184"
      ]
     },
     "execution_count": 75,
     "metadata": {},
     "output_type": "execute_result"
    }
   ],
   "source": [
    "len(key_list)"
   ]
  },
  {
   "cell_type": "code",
   "execution_count": 64,
   "id": "a1a7e99a",
   "metadata": {},
   "outputs": [],
   "source": [
    "with open('./datasets/pkl/pe_miner_key.pkl', 'wb') as f:\n",
    "    pickle.dump(key_list, f)"
   ]
  },
  {
   "cell_type": "code",
   "execution_count": 66,
   "id": "f65819db",
   "metadata": {},
   "outputs": [],
   "source": [
    "pe_miner_data = []\n",
    "\n",
    "for i in range(len(data)):\n",
    "    li = dict()\n",
    "    li['analy'] = data[i]\n",
    "    li['label'] = labels[i]\n",
    "    pe_miner_data.append(li)"
   ]
  },
  {
   "cell_type": "code",
   "execution_count": 67,
   "id": "42d6e069",
   "metadata": {},
   "outputs": [],
   "source": [
    "with open('./datasets/pkl/pe_miner_data.pkl', 'wb') as f:\n",
    "    pickle.dump(pe_miner_data, f)"
   ]
  },
  {
   "cell_type": "code",
   "execution_count": null,
   "id": "8e961576",
   "metadata": {},
   "outputs": [],
   "source": []
  }
 ],
 "metadata": {
  "kernelspec": {
   "display_name": "Python 3 (ipykernel)",
   "language": "python",
   "name": "python3"
  },
  "language_info": {
   "codemirror_mode": {
    "name": "ipython",
    "version": 3
   },
   "file_extension": ".py",
   "mimetype": "text/x-python",
   "name": "python",
   "nbconvert_exporter": "python",
   "pygments_lexer": "ipython3",
   "version": "3.9.18"
  }
 },
 "nbformat": 4,
 "nbformat_minor": 5
}
