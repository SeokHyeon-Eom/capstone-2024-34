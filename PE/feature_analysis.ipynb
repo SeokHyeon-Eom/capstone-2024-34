{
 "cells": [
  {
   "cell_type": "code",
   "execution_count": 110,
   "metadata": {},
   "outputs": [],
   "source": [
    "# import module\n",
    "\n",
    "import pickle\n",
    "import numpy as np\n",
    "import sys\n",
    "from tqdm import tqdm\n",
    "import math\n",
    "\n",
    "from sklearn.cluster import DBSCAN\n",
    "import hashlib\n",
    "\n",
    "from GIPS.core.utils import minHash\n",
    "from GIPS.core.JIG import JIG"
   ]
  },
  {
   "cell_type": "code",
   "execution_count": 111,
   "metadata": {},
   "outputs": [],
   "source": [
    "with open('./datasets/pkl/pe_miner_key.pkl', 'rb') as f:\n",
    "    miner_key = pickle.load(f)"
   ]
  },
  {
   "cell_type": "code",
   "execution_count": 112,
   "metadata": {},
   "outputs": [],
   "source": [
    "with open('./datasets/pkl/pe_miner_data.pkl', 'rb') as f:\n",
    "    miner_data = pickle.load(f)"
   ]
  },
  {
   "cell_type": "code",
   "execution_count": 118,
   "metadata": {},
   "outputs": [
    {
     "name": "stdout",
     "output_type": "stream",
     "text": [
      "W32/Agent.OLAM-8712\n",
      "SLENH.DLL:\t 0\n",
      "SHLWAPI.DLL:\t 0\n",
      "AWFXAB32.DLL:\t 0\n",
      "DSKMAINT.DLL:\t 0\n",
      "BHNETB.DLL:\t 0\n",
      "GROUP.DLL:\t 0\n",
      "AWRESX32.DLL:\t 0\n",
      "KERNEL32.DLL:\t 1\n",
      "RPCTLC6.DLL:\t 0\n",
      "RPCRT4.DLL:\t 0\n",
      "RPCTLS3.DLL:\t 0\n",
      "RPCTLS5.DLL:\t 0\n",
      "ADVAP132.DLL:\t 0\n",
      "MSNET32.DLL:\t 0\n",
      "WININET.DLL:\t 0\n",
      "CCAPI.DLL:\t 0\n",
      "WINREG.DLL:\t 0\n",
      "AWPWD32.DLL:\t 0\n",
      "NWNET32.DLL:\t 0\n",
      "USER32.DLL:\t 1\n",
      "CCEI.DLL:\t 0\n",
      "NETDI.DLL:\t 0\n",
      "MAPI32.DLL:\t 0\n",
      "CCPSH.DLL:\t 0\n",
      "MSPST32.DLL:\t 0\n",
      "DCIMAN.DLL:\t 0\n",
      "LZ32.DLL:\t 0\n",
      "NAL.DLL:\t 0\n",
      "CRTDLL.DLL:\t 0\n",
      "DCIMAN32.DLL:\t 0\n",
      "RASAPI32.DLL:\t 0\n",
      "COMCTL32.DLL:\t 0\n",
      "BHSUPP.DLL:\t 0\n",
      "OLEDLG.DLL:\t 0\n",
      "AWUTIL32.DLL:\t 0\n",
      "NETBIOS.DLL:\t 0\n",
      "RASPI.DLL:\t 0\n",
      "MSFS32.DLL:\t 0\n",
      "AWFAXP32.DLL:\t 0\n",
      "MSVIEWUT.DLL:\t 0\n",
      "RPCTLS6.DLL:\t 0\n",
      "VERSION.DLL:\t 0\n",
      "MSNDUI.DLL:\t 0\n",
      "NWAB32.DLL:\t 0\n",
      "SAPNSP.DLL:\t 0\n",
      "CCTN20.DLL:\t 0\n",
      "UMDM32.DLL:\t 0\n",
      "CMC.DLL:\t 0\n",
      "NDIS30.DLL:\t 0\n",
      "NETAPI32.DLL:\t 0\n",
      "GDI32.DLL:\t 0\n",
      "WINMM.DLL:\t 0\n",
      "NWNP32.DLL:\t 0\n",
      "WINSOCK.DLL:\t 0\n",
      "RASAPI16.DLL:\t 0\n",
      "WS2.DLL:\t 0\n",
      "MAPI.DLL:\t 0\n",
      "NETAPI.DLL:\t 0\n",
      "NETSETUP.DLL:\t 0\n",
      "RPCLTC1.DLL:\t 0\n",
      "WSOCK32.DLL:\t 0\n",
      "HYPERTERM.DLL:\t 0\n",
      "MPR.DLL:\t 0\n",
      "MFC30.DLL:\t 0\n",
      "MSSHRUI.DLL:\t 0\n",
      "POWERCFG.DLL:\t 0\n",
      "SECUR32.DLL:\t 0\n",
      "RSRC32.DLL:\t 0\n",
      "RPCNS4.DLL:\t 0\n",
      "COMDLG32.DLL:\t 0\n",
      "RPCTLC3.DLL:\t 0\n",
      "SHELL32.DLL:\t 0\n",
      "RPCTLC5.DLL:\t 0\n",
      "Machine:\t 332\n",
      "NumberOfSections:\t 4\n",
      "TimeDateStamp:\t 1436692382\n",
      "PointerToSymbolTable:\t 0\n",
      "NumberOfSymbols:\t 0\n",
      "SizeOfOptionalHeader:\t 224\n",
      "Characteristics:\t 290\n",
      "Magic:\t 267\n",
      "MajorLinkerVersion:\t 12\n",
      "MinorLinkerVersion:\t 0\n",
      "SizeOfCode:\t 60928\n",
      "SizeOfInitializedData:\t 18944\n",
      "SizeOfUninitializedData:\t 0\n",
      "AddressOfEntryPoint:\t 23774\n",
      "BaseOfCode:\t 4096\n",
      "BaseOfData:\t 65536\n",
      "ImageBase:\t 4194304\n",
      "SectionAlignment:\t 4096\n",
      "FileAlignment:\t 512\n",
      "MajorOperatingSystemVersion:\t 5\n",
      "MinorOperatingSystemVersion:\t 1\n",
      "MajorImageVersion:\t 0\n",
      "MinorImageVersion:\t 0\n",
      "MajorSubsystemVersion:\t 5\n",
      "MinorSubsystemVersion:\t 1\n",
      "Reserved1:\t 0\n",
      "SizeOfImage:\t 90112\n",
      "SizeOfHeaders:\t 1024\n",
      "CheckSum:\t 110444\n",
      "Subsystem:\t 2\n",
      "DllCharacteristics:\t 33088\n",
      "SizeOfStackReserve:\t 1048576\n",
      "SizeOfStackCommit:\t 4096\n",
      "SizeOfHeapReserve:\t 1048576\n",
      "SizeOfHeapCommit:\t 4096\n",
      "LoaderFlags:\t 0\n",
      "NumberOfRvaAndSizes:\t 16\n",
      "IMAGE_DIRECTORY_ENTRY_EXPORT:VirtualAddress:\t 0\n",
      "IMAGE_DIRECTORY_ENTRY_EXPORT:Size:\t 0\n",
      "IMAGE_DIRECTORY_ENTRY_IMPORT:VirtualAddress:\t 82268\n",
      "IMAGE_DIRECTORY_ENTRY_IMPORT:Size:\t 100\n",
      "IMAGE_DIRECTORY_ENTRY_RESOURCE:VirtualAddress:\t 0\n",
      "IMAGE_DIRECTORY_ENTRY_RESOURCE:Size:\t 0\n",
      "IMAGE_DIRECTORY_ENTRY_EXCEPTION:VirtualAddress:\t 0\n",
      "IMAGE_DIRECTORY_ENTRY_EXCEPTION:Size:\t 0\n",
      "IMAGE_DIRECTORY_ENTRY_SECURITY:VirtualAddress:\t 0\n",
      "IMAGE_DIRECTORY_ENTRY_SECURITY:Size:\t 0\n",
      "IMAGE_DIRECTORY_ENTRY_BASERELOC:VirtualAddress:\t 86016\n",
      "IMAGE_DIRECTORY_ENTRY_BASERELOC:Size:\t 3340\n",
      "IMAGE_DIRECTORY_ENTRY_DEBUG:VirtualAddress:\t 0\n",
      "IMAGE_DIRECTORY_ENTRY_DEBUG:Size:\t 0\n",
      "IMAGE_DIRECTORY_ENTRY_COPYRIGHT:VirtualAddress:\t 0\n",
      "IMAGE_DIRECTORY_ENTRY_COPYRIGHT:Size:\t 0\n",
      "IMAGE_DIRECTORY_ENTRY_GLOBALPTR:VirtualAddress:\t 0\n",
      "IMAGE_DIRECTORY_ENTRY_GLOBALPTR:Size:\t 0\n",
      "IMAGE_DIRECTORY_ENTRY_TLS:VirtualAddress:\t 0\n",
      "IMAGE_DIRECTORY_ENTRY_TLS:Size:\t 0\n",
      "IMAGE_DIRECTORY_ENTRY_LOAD_CONFIG:VirtualAddress:\t 19912\n",
      "IMAGE_DIRECTORY_ENTRY_LOAD_CONFIG:Size:\t 64\n",
      "IMAGE_DIRECTORY_ENTRY_BOUND_IMPORT:VirtualAddress:\t 0\n",
      "IMAGE_DIRECTORY_ENTRY_BOUND_IMPORT:Size:\t 0\n",
      "IMAGE_DIRECTORY_ENTRY_IAT:VirtualAddress:\t 81920\n",
      "IMAGE_DIRECTORY_ENTRY_IAT:Size:\t 348\n",
      "IMAGE_DIRECTORY_ENTRY_DELAY_IMPORT:VirtualAddress:\t 0\n",
      "IMAGE_DIRECTORY_ENTRY_DELAY_IMPORT:Size:\t 0\n",
      "IMAGE_DIRECTORY_ENTRY_COM_DESCRIPTOR:VirtualAddress:\t 0\n",
      "IMAGE_DIRECTORY_ENTRY_COM_DESCRIPTOR:Size:\t 0\n",
      "IMAGE_DIRECTORY_ENTRY_RESERVED:VirtualAddress:\t 0\n",
      "IMAGE_DIRECTORY_ENTRY_RESERVED:Size:\t 0\n",
      "text:VirtualSize:\t -1\n",
      "text:VirtualAddress:\t 4096\n",
      "text:SizeOfRawData:\t 60928\n",
      "text:PointerToRawData:\t 1024\n",
      "text:PointerToRelocations:\t 0\n",
      "text:PointerToLinenumbers:\t 0\n",
      "text:NumberOfRelocations:\t 0\n",
      "text:NumberOfLinenumbers:\t 0\n",
      "text:Characteristics:\t 1610612768\n",
      "data:VirtualSize:\t -1\n",
      "data:VirtualAddress:\t 65536\n",
      "data:SizeOfRawData:\t 4608\n",
      "data:PointerToRawData:\t 61952\n",
      "data:PointerToRelocations:\t 0\n",
      "data:PointerToLinenumbers:\t 0\n",
      "data:NumberOfRelocations:\t 0\n",
      "data:NumberOfLinenumbers:\t 0\n",
      "data:Characteristics:\t 3221225536\n",
      "resource:VirtualSize:\t -1\n",
      "resource:VirtualAddress:\t -1\n",
      "resource:SizeOfRawData:\t -1\n",
      "resource:PointerToRawData:\t -1\n",
      "resource:PointerToRelocations:\t -1\n",
      "resource:PointerToLinenumbers:\t -1\n",
      "resource:NumberOfRelocations:\t -1\n",
      "resource:NumberOfLinenumbers:\t -1\n",
      "resource:Characteristics:\t -1\n",
      "Cursors:\t 0\n",
      "Bitmaps:\t 0\n",
      "Icons:\t 0\n",
      "Menus:\t 0\n",
      "Dialogs:\t 0\n",
      "Strings:\t 0\n",
      "Fonts:\t 0\n",
      "Group Cursors:\t 0\n",
      "Group Icons:\t 0\n",
      "Resource:Characteristics:\t -1\n",
      "Resource:MajorVersion:\t -1\n",
      "Resource:MinorVersion:\t -1\n",
      "Resource:NumberOfIdEntries:\t -1\n",
      "Resource:NumberOfNamedEntries:\t -1\n",
      "Resource:TimeDateStamp:\t -1\n"
     ]
    }
   ],
   "source": [
    "# data 예시\n",
    "\n",
    "print(miner_data[100]['label'])\n",
    "for i in range(len(miner_key)):\n",
    "    k = miner_key[i]\n",
    "    v = miner_data[100]['analy'][k]\n",
    "    print(f'{k}:\\t {v}')"
   ]
  },
  {
   "cell_type": "markdown",
   "metadata": {},
   "source": [
    "### 용어 정리\n",
    "- DLL: 동적 링크 라이브러리(영어: dynamic-link library, DLL)는 마이크로소프트 윈도우에서 구현된 동적 라이브러리\n",
    "- section: 우리가 아는 개념!! 섹션을 나누어서 실행 파일에 필요한 정보를 저정\n",
    "- image: 코드 섹션, 프로그램이 실행 될 때 메모리에 로드되어서 실행됨 쉽게 말해 실행 코드\n",
    "\n",
    "### 할 수 있는 방안???\n",
    "1. DLL 파일들은 1인 값만 받아서 set으로 만들기 index [0 ~ 72]\n",
    "- 이 때 DLL파일이 없으면 조건문으로 뺀다\n",
    "- 한계점: 72개에 대해서만 minhash값이 나오니 거의다 빅그룹으로 나온다.\n",
    "\t- 차원의 수를 줄이기\n",
    "\t- DLL 파일의 수 늘리기\n",
    "- 시그니처를 뽑는 방식은 많이 나오는 것이라고 가정\n",
    "- 이제 한 PE파일을 글러스터링 하기 위해서 피처들을 어떻게 뽑을 것인지?"
   ]
  },
  {
   "cell_type": "code",
   "execution_count": 120,
   "metadata": {},
   "outputs": [],
   "source": [
    "# 1번째 방안\n",
    "\n",
    "DLL_ = []\n",
    "\n",
    "for miner in miner_data:\n",
    "\tDLL_list = []\n",
    "\tfor idx in range(73):\n",
    "\t\tif miner['analy'][miner_key[idx]] != 0:\n",
    "\t\t\tDLL_list.append(miner_key[idx])\n",
    "\tif len(DLL_list) != 0:\n",
    "\t\tDLL_.append(DLL_list)"
   ]
  },
  {
   "cell_type": "code",
   "execution_count": 121,
   "metadata": {},
   "outputs": [
    {
     "name": "stdout",
     "output_type": "stream",
     "text": [
      "{'WININET.DLL', 'COMCTL32.DLL', 'RASAPI32.DLL', 'GDI32.DLL', 'SECUR32.DLL', 'WSOCK32.DLL', 'COMDLG32.DLL', 'SHLWAPI.DLL', 'LZ32.DLL', 'VERSION.DLL', 'OLEDLG.DLL', 'USER32.DLL', 'CRTDLL.DLL', 'KERNEL32.DLL', 'WINMM.DLL', 'SHELL32.DLL', 'NETAPI32.DLL', 'RPCRT4.DLL', 'MPR.DLL'}\n"
     ]
    },
    {
     "data": {
      "text/plain": [
       "19"
      ]
     },
     "execution_count": 121,
     "metadata": {},
     "output_type": "execute_result"
    }
   ],
   "source": [
    "# check DLL list\n",
    "\n",
    "DLL_value = set()\n",
    "\n",
    "for DLL_list in DLL_:\n",
    "\tfor DLL in DLL_list:\n",
    "\t\tDLL_value.add(DLL)\n",
    "\t\t\n",
    "print(DLL_value)\n",
    "len(DLL_value)"
   ]
  },
  {
   "cell_type": "code",
   "execution_count": 122,
   "metadata": {},
   "outputs": [
    {
     "data": {
      "text/plain": [
       "[['KERNEL32.DLL', 'USER32.DLL', 'GDI32.DLL', 'SHELL32.DLL'],\n",
       " ['KERNEL32.DLL', 'USER32.DLL'],\n",
       " ['SHLWAPI.DLL',\n",
       "  'KERNEL32.DLL',\n",
       "  'USER32.DLL',\n",
       "  'COMCTL32.DLL',\n",
       "  'VERSION.DLL',\n",
       "  'GDI32.DLL',\n",
       "  'WINMM.DLL',\n",
       "  'WSOCK32.DLL',\n",
       "  'SHELL32.DLL'],\n",
       " ['KERNEL32.DLL', 'USER32.DLL'],\n",
       " ['SHLWAPI.DLL',\n",
       "  'KERNEL32.DLL',\n",
       "  'USER32.DLL',\n",
       "  'COMCTL32.DLL',\n",
       "  'VERSION.DLL',\n",
       "  'GDI32.DLL',\n",
       "  'WINMM.DLL',\n",
       "  'WSOCK32.DLL',\n",
       "  'SHELL32.DLL']]"
      ]
     },
     "execution_count": 122,
     "metadata": {},
     "output_type": "execute_result"
    }
   ],
   "source": [
    "DLL_[: 5]"
   ]
  },
  {
   "cell_type": "code",
   "execution_count": 123,
   "metadata": {},
   "outputs": [],
   "source": [
    "# hyper prameter\n",
    "\n",
    "K = 32\n",
    "M = 2 ** 9\n",
    "thetaJ = 0.6\n",
    "# vector_size = 2 ** 9\n",
    "vector_size = 2 ** 5\n",
    "# eps = 0.8\n",
    "eps = 0.4\n",
    "minpts = 5"
   ]
  },
  {
   "cell_type": "code",
   "execution_count": 124,
   "metadata": {},
   "outputs": [],
   "source": [
    "# transform origin MV2\n",
    "\n",
    "def MV2(DLL_data, K, M):\n",
    "\tminhashed_virtual_vectors = []\n",
    "\tfor DLL in tqdm(DLL_data):\n",
    "\t\tencode_pos = minHash(DLL, K) % M\n",
    "\t\t\n",
    "\t\tvector = np.zeros(M, dtype=np.int8)\n",
    "\t\tvector[encode_pos] = 1\n",
    "\t\t\n",
    "\t\tminhashed_virtual_vectors.append(vector)\n",
    "\n",
    "\treturn minhashed_virtual_vectors\n"
   ]
  },
  {
   "cell_type": "code",
   "execution_count": 125,
   "metadata": {},
   "outputs": [
    {
     "name": "stderr",
     "output_type": "stream",
     "text": [
      "100%|██████████| 24833/24833 [00:08<00:00, 2902.77it/s]\n"
     ]
    }
   ],
   "source": [
    "minhashed_virtual_vectors = MV2(DLL_, K, M)"
   ]
  },
  {
   "cell_type": "code",
   "execution_count": 126,
   "metadata": {},
   "outputs": [
    {
     "name": "stdout",
     "output_type": "stream",
     "text": [
      "checking big group\n"
     ]
    },
    {
     "name": "stderr",
     "output_type": "stream",
     "text": [
      "100%|██████████| 24833/24833 [00:05<00:00, 4306.57it/s]\n"
     ]
    },
    {
     "data": {
      "text/plain": [
       "24820"
      ]
     },
     "execution_count": 126,
     "metadata": {},
     "output_type": "execute_result"
    }
   ],
   "source": [
    "big_group = JIG(minhashed_virtual_vectors, thetaJ)\n",
    "len(big_group)"
   ]
  },
  {
   "cell_type": "code",
   "execution_count": 127,
   "metadata": {},
   "outputs": [],
   "source": [
    "def SG2(DLL_, vector_size, eps, minpts):\n",
    "\t\n",
    "\tfine_vectors = []\n",
    "\tfor DLL_list in tqdm(DLL_):\n",
    "\t\tvector = np.zeros(vector_size, dtype=np.int8)\n",
    "\t\tfor DLL in DLL_list:\n",
    "\t\t\tidx = int(hashlib.md5(DLL.encode()).hexdigest(),16) % vector_size\n",
    "\t\t\tvector[idx] += 1;\n",
    "\n",
    "\t\tfine_vectors.append(vector)\n",
    "\n",
    "\tprint('start DBSCAN')\n",
    "\tmodel = DBSCAN(eps=1-eps, min_samples=minpts, metric='cosine', n_jobs=8)\n",
    "\tmodel.fit(fine_vectors)\n",
    "\tprint('end DBSCAN')\n",
    "\n",
    "\tcluster_labels = model.labels_\n",
    "\n",
    "\tcluster_dict = dict()\n",
    "\tfor payload, label in zip(DLL_, cluster_labels):\n",
    "\t\tif label == -1:\n",
    "\t\t\tcontinue\n",
    "\n",
    "\t\tif label not in cluster_dict.keys():\n",
    "\t\t\tcluster_dict[label] = []\n",
    "\t\tcluster_dict[label].append(payload)\n",
    "\n",
    "\tDLL_cluster_sig = dict()\n",
    "\n",
    "\tfor idx in cluster_dict.keys():\n",
    "\t\tDLL_count = dict()\n",
    "\t\tfor cluster in cluster_dict[idx]:\n",
    "\t\t\tfor v in cluster:\n",
    "\t\t\t\tif v not in DLL_count:\n",
    "\t\t\t\t\tDLL_count[v] = 0\n",
    "\t\t\t\tDLL_count[v] += 1\n",
    "\t\tDLL_cluster_sig[idx] = DLL_count\n",
    "\t\t\n",
    "\treturn DLL_cluster_sig"
   ]
  },
  {
   "cell_type": "code",
   "execution_count": 128,
   "metadata": {},
   "outputs": [],
   "source": [
    "big_group_DLL= []\n",
    "\n",
    "for i in big_group:\n",
    "    big_group_DLL.append(DLL_[i])"
   ]
  },
  {
   "cell_type": "code",
   "execution_count": 129,
   "metadata": {},
   "outputs": [
    {
     "name": "stderr",
     "output_type": "stream",
     "text": [
      "  0%|          | 0/24820 [00:00<?, ?it/s]"
     ]
    },
    {
     "name": "stderr",
     "output_type": "stream",
     "text": [
      "100%|██████████| 24820/24820 [00:00<00:00, 90489.16it/s]\n"
     ]
    },
    {
     "name": "stdout",
     "output_type": "stream",
     "text": [
      "start DBSCAN\n",
      "end DBSCAN\n"
     ]
    }
   ],
   "source": [
    "DLL_cluster_sig = SG2(big_group_DLL, vector_size, eps=eps, minpts=minpts)"
   ]
  },
  {
   "cell_type": "code",
   "execution_count": 130,
   "metadata": {},
   "outputs": [
    {
     "name": "stdout",
     "output_type": "stream",
     "text": [
      "cluster: 0\n",
      "('KERNEL32.DLL', 24750)\n",
      "('USER32.DLL', 19786)\n",
      "('SHELL32.DLL', 6334)\n",
      "('GDI32.DLL', 5343)\n",
      "('WSOCK32.DLL', 4526)\n",
      "('VERSION.DLL', 3041)\n",
      "('COMCTL32.DLL', 2884)\n",
      "('SHLWAPI.DLL', 2460)\n",
      "('WININET.DLL', 2421)\n",
      "('WINMM.DLL', 1319)\n",
      "('NETAPI32.DLL', 710)\n",
      "('MPR.DLL', 627)\n",
      "('LZ32.DLL', 612)\n",
      "('COMDLG32.DLL', 282)\n",
      "('RPCRT4.DLL', 112)\n",
      "('OLEDLG.DLL', 74)\n",
      "('SECUR32.DLL', 63)\n",
      "('RASAPI32.DLL', 12)\n",
      "('CRTDLL.DLL', 1)\n",
      "----------------\n"
     ]
    }
   ],
   "source": [
    "for idx, DLL_count in DLL_cluster_sig.items():\n",
    "\tprint(f'cluster: {idx}')\n",
    "\tDLL_sigs = sorted([(k, v) for k, v in DLL_count.items()], key=lambda x: x[1], reverse=True)\n",
    "\tfor sig in DLL_sigs:\n",
    "\t\tprint(sig)\n",
    "\tprint('----------------')"
   ]
  },
  {
   "cell_type": "markdown",
   "metadata": {},
   "source": [
    "### 실험 결과\n",
    "- 나올 수 있는 해시 값이 한정적이기 때문에 빅그룹 식별 X\n",
    "\t- 차원을 줄여서 실험 진행\n",
    "- 클러스터링 전 벡터화에서 벡터의 차원 수에 비해서 인코딩 되는 개수가 너무 적음\n",
    "\t- 벡터의 차원 수를 줄여도 특정 차원의 값이 0인 벡터가 많은 벡터화에서는 크게 의미를 갖지 않음"
   ]
  },
  {
   "cell_type": "code",
   "execution_count": null,
   "metadata": {},
   "outputs": [],
   "source": []
  }
 ],
 "metadata": {
  "kernelspec": {
   "display_name": "base",
   "language": "python",
   "name": "python3"
  },
  "language_info": {
   "codemirror_mode": {
    "name": "ipython",
    "version": 3
   },
   "file_extension": ".py",
   "mimetype": "text/x-python",
   "name": "python",
   "nbconvert_exporter": "python",
   "pygments_lexer": "ipython3",
   "version": "3.9.18"
  }
 },
 "nbformat": 4,
 "nbformat_minor": 2
}
