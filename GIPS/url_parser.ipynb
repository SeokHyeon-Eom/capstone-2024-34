{
 "cells": [
  {
   "cell_type": "code",
   "execution_count": 2,
   "metadata": {},
   "outputs": [],
   "source": [
    "import pickle"
   ]
  },
  {
   "cell_type": "code",
   "execution_count": 3,
   "metadata": {},
   "outputs": [],
   "source": [
    "with open('./res/url_parser_signature.pkl', 'rb') as f:\n",
    "    signatures = pickle.load(f)"
   ]
  },
  {
   "cell_type": "code",
   "execution_count": 9,
   "metadata": {},
   "outputs": [
    {
     "name": "stdout",
     "output_type": "stream",
     "text": [
      "(' HTTP/1.1', 92522)\n",
      "('.jsp', 70980)\n",
      "('GET ', 69129)\n",
      "('cant', 2707)\n",
      "('%256', 1862)\n"
     ]
    }
   ],
   "source": [
    "for cluster, sig in signatures.items():\n",
    "    for i in sig:\n",
    "        print(i)"
   ]
  },
  {
   "cell_type": "code",
   "execution_count": 5,
   "metadata": {},
   "outputs": [
    {
     "data": {
      "text/plain": [
       "[('%256', 286),\n",
       " (' HTTP/1.1', 202),\n",
       " ('GET ', 202),\n",
       " ('%253', 105),\n",
       " ('&B1=', 96),\n",
       " ('%2C+', 90),\n",
       " ('ombr', 88),\n",
       " ('ncia', 87),\n",
       " ('&dni=', 77),\n",
       " ('27%2', 40),\n",
       " ('orre', 9),\n",
       " ('%2F%', 4)]"
      ]
     },
     "execution_count": 5,
     "metadata": {},
     "output_type": "execute_result"
    }
   ],
   "source": [
    "with open('./res/url_parser_stopword.pkl', 'rb') as f:\n",
    "    stopword_list = pickle.load(f)\n",
    "    \n",
    "stopword_list"
   ]
  },
  {
   "cell_type": "code",
   "execution_count": 6,
   "metadata": {},
   "outputs": [
    {
     "data": {
      "text/plain": [
       "['%256',\n",
       " ' HTTP/1.1',\n",
       " 'GET ',\n",
       " '%253',\n",
       " '&B1=',\n",
       " '%2C+',\n",
       " 'ombr',\n",
       " 'ncia',\n",
       " '&dni=',\n",
       " '27%2',\n",
       " 'orre',\n",
       " '%2F%']"
      ]
     },
     "execution_count": 6,
     "metadata": {},
     "output_type": "execute_result"
    }
   ],
   "source": [
    "stopwords = [i[0] for i in stopword_list]\n",
    "stopwords"
   ]
  },
  {
   "cell_type": "code",
   "execution_count": 7,
   "metadata": {},
   "outputs": [
    {
     "name": "stdout",
     "output_type": "stream",
     "text": [
      "('.jsp', 70980)\n",
      "('cant', 2707)\n"
     ]
    }
   ],
   "source": [
    "arr = []\n",
    "\n",
    "for signature in signatures.values():\n",
    "\tfor sign in signature:\n",
    "\t\tif sign[0] not in stopwords:\n",
    "\t\t\tprint(sign)\n",
    "\t\t\tarr.append(sign)"
   ]
  },
  {
   "cell_type": "code",
   "execution_count": 8,
   "metadata": {},
   "outputs": [
    {
     "name": "stdout",
     "output_type": "stream",
     "text": [
      "2\n"
     ]
    }
   ],
   "source": [
    "print(len(arr))"
   ]
  }
 ],
 "metadata": {
  "kernelspec": {
   "display_name": "base",
   "language": "python",
   "name": "python3"
  },
  "language_info": {
   "codemirror_mode": {
    "name": "ipython",
    "version": 3
   },
   "file_extension": ".py",
   "mimetype": "text/x-python",
   "name": "python",
   "nbconvert_exporter": "python",
   "pygments_lexer": "ipython3",
   "version": "3.9.18"
  }
 },
 "nbformat": 4,
 "nbformat_minor": 2
}
