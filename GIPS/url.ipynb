{
 "cells": [
  {
   "cell_type": "code",
   "execution_count": 4,
   "metadata": {},
   "outputs": [],
   "source": [
    "import pickle"
   ]
  },
  {
   "cell_type": "code",
   "execution_count": 5,
   "metadata": {},
   "outputs": [],
   "source": [
    "with open('./res/url_signature.pkl', 'rb') as f:\n",
    "    signatures = pickle.load(f)"
   ]
  },
  {
   "cell_type": "code",
   "execution_count": 11,
   "metadata": {},
   "outputs": [
    {
     "name": "stdout",
     "output_type": "stream",
     "text": [
      "(' HTTP/1.1', 89351)\n",
      "('.jsp', 69153)\n",
      "('GET ', 66705)\n",
      "('anti', 2522)\n",
      "('ad=2', 203)\n",
      "('cioA=', 153)\n"
     ]
    }
   ],
   "source": [
    "for cluster, sig in signatures.items():\n",
    "    for i in sig:\n",
    "        print(i)"
   ]
  },
  {
   "cell_type": "code",
   "execution_count": 7,
   "metadata": {},
   "outputs": [
    {
     "data": {
      "text/plain": [
       "[('istr', 2703),\n",
       " ('GET ', 2426),\n",
       " (' HTTP/1.1', 1907),\n",
       " ('logi', 1601),\n",
       " ('&ntc=', 1449),\n",
       " ('cion', 1402),\n",
       " ('iudad', 1374),\n",
       " ('ncia', 1330),\n",
       " ('&dni=', 1310),\n",
       " ('%2C+', 1266),\n",
       " ('ombr', 1224),\n",
       " ('elli', 1189),\n",
       " ('stra', 1174),\n",
       " ('&B1=', 1131),\n",
       " ('passw', 1087),\n",
       " ('emai', 1008),\n",
       " ('%252', 239),\n",
       " ('%F3n', 168),\n",
       " ('%253', 152),\n",
       " ('enci', 129),\n",
       " ('%40a', 123),\n",
       " ('=Car', 88),\n",
       " ('reci', 44),\n",
       " ('cant', 43),\n",
       " ('&pwd=', 34),\n",
       " ('jsp/', 24),\n",
       " ('breA=', 19)]"
      ]
     },
     "execution_count": 7,
     "metadata": {},
     "output_type": "execute_result"
    }
   ],
   "source": [
    "with open('./res/url_stopword.pkl', 'rb') as f:\n",
    "    stopword_list = pickle.load(f)\n",
    "    \n",
    "stopword_list"
   ]
  },
  {
   "cell_type": "code",
   "execution_count": 8,
   "metadata": {},
   "outputs": [
    {
     "data": {
      "text/plain": [
       "['istr',\n",
       " 'GET ',\n",
       " ' HTTP/1.1',\n",
       " 'logi',\n",
       " '&ntc=',\n",
       " 'cion',\n",
       " 'iudad',\n",
       " 'ncia',\n",
       " '&dni=',\n",
       " '%2C+',\n",
       " 'ombr',\n",
       " 'elli',\n",
       " 'stra',\n",
       " '&B1=',\n",
       " 'passw',\n",
       " 'emai',\n",
       " '%252',\n",
       " '%F3n',\n",
       " '%253',\n",
       " 'enci',\n",
       " '%40a',\n",
       " '=Car',\n",
       " 'reci',\n",
       " 'cant',\n",
       " '&pwd=',\n",
       " 'jsp/',\n",
       " 'breA=']"
      ]
     },
     "execution_count": 8,
     "metadata": {},
     "output_type": "execute_result"
    }
   ],
   "source": [
    "stopwords = [i[0] for i in stopword_list]\n",
    "stopwords"
   ]
  },
  {
   "cell_type": "code",
   "execution_count": 9,
   "metadata": {},
   "outputs": [
    {
     "name": "stdout",
     "output_type": "stream",
     "text": [
      "('.jsp', 69153)\n",
      "('anti', 2522)\n",
      "('ad=2', 203)\n",
      "('cioA=', 153)\n"
     ]
    }
   ],
   "source": [
    "arr = []\n",
    "\n",
    "for signature in signatures.values():\n",
    "\tfor sign in signature:\n",
    "\t\tif sign[0] not in stopwords:\n",
    "\t\t\tprint(sign)\n",
    "\t\t\tarr.append(sign)\n",
    "\n",
    "# 오? 전처리 조금 더 하니깐 나쁘지 않게 나오는데??"
   ]
  },
  {
   "cell_type": "code",
   "execution_count": 10,
   "metadata": {},
   "outputs": [
    {
     "name": "stdout",
     "output_type": "stream",
     "text": [
      "4\n"
     ]
    }
   ],
   "source": [
    "print(len(arr))"
   ]
  }
 ],
 "metadata": {
  "kernelspec": {
   "display_name": "base",
   "language": "python",
   "name": "python3"
  },
  "language_info": {
   "codemirror_mode": {
    "name": "ipython",
    "version": 3
   },
   "file_extension": ".py",
   "mimetype": "text/x-python",
   "name": "python",
   "nbconvert_exporter": "python",
   "pygments_lexer": "ipython3",
   "version": "3.9.18"
  }
 },
 "nbformat": 4,
 "nbformat_minor": 2
}
